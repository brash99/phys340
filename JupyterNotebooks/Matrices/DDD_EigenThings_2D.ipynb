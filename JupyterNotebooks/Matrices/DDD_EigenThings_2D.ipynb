{
 "cells": [
  {
   "cell_type": "code",
   "execution_count": null,
   "id": "initial_id",
   "metadata": {
    "collapsed": true,
    "ExecuteTime": {
     "end_time": "2024-01-23T15:24:30.106743Z",
     "start_time": "2024-01-23T15:24:30.105147Z"
    }
   },
   "outputs": [],
   "source": []
  },
  {
   "cell_type": "markdown",
   "source": [
    "# Eigenvalues and Eigenvectors"
   ],
   "metadata": {
    "collapsed": false
   },
   "id": "513c0195de608ea0"
  },
  {
   "cell_type": "markdown",
   "source": [],
   "metadata": {
    "collapsed": false
   },
   "id": "11e02ae727c7e519"
  },
  {
   "cell_type": "code",
   "execution_count": 8,
   "outputs": [],
   "source": [
    "import numpy as np\n",
    "import matplotlib.pyplot as plt\n",
    "import sympy as sym\n",
    "\n",
    "# create a coefficient matrix\n",
    "A = np.array([[0, 1], [-2, -3]])\n",
    "\n",
    "As = sym.Matrix(A)\n"
   ],
   "metadata": {
    "collapsed": false,
    "ExecuteTime": {
     "end_time": "2024-03-08T18:31:42.513245Z",
     "start_time": "2024-03-08T18:31:42.509798Z"
    }
   },
   "id": "46db9ff55287e6c2"
  },
  {
   "cell_type": "code",
   "execution_count": 8,
   "outputs": [],
   "source": [],
   "metadata": {
    "collapsed": false,
    "ExecuteTime": {
     "end_time": "2024-03-08T18:31:43.343271Z",
     "start_time": "2024-03-08T18:31:43.341541Z"
    }
   },
   "id": "793df96d71192dcd"
  },
  {
   "cell_type": "code",
   "execution_count": 8,
   "outputs": [],
   "source": [],
   "metadata": {
    "collapsed": false,
    "ExecuteTime": {
     "end_time": "2024-03-08T18:31:43.823190Z",
     "start_time": "2024-03-08T18:31:43.821770Z"
    }
   },
   "id": "7e6af147ef82af05"
  },
  {
   "cell_type": "markdown",
   "source": [],
   "metadata": {
    "collapsed": false
   },
   "id": "b876095e4cf7609c"
  },
  {
   "cell_type": "code",
   "execution_count": 8,
   "outputs": [],
   "source": [],
   "metadata": {
    "collapsed": false,
    "ExecuteTime": {
     "end_time": "2024-03-08T18:31:44.826317Z",
     "start_time": "2024-03-08T18:31:44.824930Z"
    }
   },
   "id": "f5912bc6ff857e17"
  },
  {
   "cell_type": "markdown",
   "source": [
    "# Eigenvalues and Eigenvectors\n",
    "\n",
    "Consider a square matrix $A$ of size $n \\times n$. If there exists a vector $x$ of size $n \\times 1$ and a scalar $\\lambda$ such that\n",
    "\n",
    "$$Ax = \\lambda x$$\n",
    "\n",
    "then $\\lambda$ is called an eigenvalue of $A$ and $x$ is called an eigenvector of $A$ corresponding to the eigenvalue $\\lambda$.\n",
    "\n",
    "The eigenvalues of a matrix $A$ are the roots of the characteristic equation\n",
    "\n",
    "$$det(A - \\lambda I) = 0$$\n",
    "\n",
    "where $I$ is the identity matrix of size $n \\times n$.\n",
    "\n",
    "The eigenvectors of a matrix $A$ are the vectors $x$ that satisfy the equation\n",
    "\n",
    "$$(A - \\lambda I)x = 0$$\n",
    "\n",
    "for some eigenvalue $\\lambda$.\n",
    "\n",
    "The eigenvalues and eigenvectors of a matrix $A$ can be calculated using the `eig` function of the `numpy.linalg` module."
   ],
   "metadata": {
    "collapsed": false
   },
   "id": "f8b594f79cb976d5"
  },
  {
   "cell_type": "code",
   "outputs": [
    {
     "name": "stdout",
     "output_type": "stream",
     "text": [
      "The eigenvalues are \n",
      "[-1. -2.]\n",
      "The eigenvectors (rows) are \n",
      "[[ 0.70710678 -0.70710678]\n",
      " [-0.4472136   0.89442719]]\n"
     ]
    }
   ],
   "source": [
    "# print the eigenvalues and eigenvectors of the coefficient matrix\n",
    "eigenvalues, eigenvectorsT = np.linalg.eig(A)\n",
    "\n",
    "# the eigenvectors are the columns of the eigenvectorsT matrix\n",
    "# taking the transpose of this matrix gives the eigenvectors as rows\n",
    "eigenvectors = eigenvectorsT.T\n",
    "print('The eigenvalues are ')\n",
    "print(eigenvalues)\n",
    "print('The eigenvectors (rows) are ')\n",
    "print(eigenvectors)\n",
    "print()"
   ],
   "metadata": {
    "collapsed": false,
    "ExecuteTime": {
     "end_time": "2024-03-08T18:31:45.987863Z",
     "start_time": "2024-03-08T18:31:45.985506Z"
    }
   },
   "id": "832ab274f22ddd79",
   "execution_count": 9
  },
  {
   "cell_type": "markdown",
   "source": [
    "## Direct Calculation of Eigenvalues and Eigenvectors using Sympy"
   ],
   "metadata": {
    "collapsed": false
   },
   "id": "b1a7cea98a5f4fc9"
  },
  {
   "cell_type": "code",
   "outputs": [
    {
     "name": "stdout",
     "output_type": "stream",
     "text": [
      "The lambda matrix is \n",
      "Matrix([[lambda, 0], [0, lambda]])\n"
     ]
    }
   ],
   "source": [
    "lam = sym.symbols('lambda')\n",
    "lambda_matrix = sym.Matrix([[lam, 0], [0, lam]])\n",
    "print('The lambda matrix is ')\n",
    "print(lambda_matrix)"
   ],
   "metadata": {
    "collapsed": false,
    "ExecuteTime": {
     "end_time": "2024-03-08T18:31:47.080327Z",
     "start_time": "2024-03-08T18:31:47.078137Z"
    }
   },
   "id": "1b5b4c541edaad25",
   "execution_count": 10
  },
  {
   "cell_type": "code",
   "execution_count": 11,
   "outputs": [
    {
     "name": "stdout",
     "output_type": "stream",
     "text": [
      "The eigen matrix is \n",
      "Matrix([[-lambda, 1], [-2, -lambda - 3]])\n"
     ]
    }
   ],
   "source": [
    "eigen_matrix = As - lambda_matrix\n",
    "print('The eigen matrix is ')\n",
    "print(eigen_matrix)"
   ],
   "metadata": {
    "collapsed": false,
    "ExecuteTime": {
     "end_time": "2024-03-08T18:31:47.674957Z",
     "start_time": "2024-03-08T18:31:47.607077Z"
    }
   },
   "id": "6dc37743f36c1e36"
  },
  {
   "cell_type": "code",
   "execution_count": 12,
   "outputs": [
    {
     "name": "stdout",
     "output_type": "stream",
     "text": [
      "The determinant is \n",
      "lambda**2 + 3*lambda + 2\n"
     ]
    }
   ],
   "source": [
    "det = eigen_matrix.det()\n",
    "print('The determinant is ')\n",
    "print(det)"
   ],
   "metadata": {
    "collapsed": false,
    "ExecuteTime": {
     "end_time": "2024-03-08T18:31:48.632143Z",
     "start_time": "2024-03-08T18:31:48.627809Z"
    }
   },
   "id": "9f39021a16d70237"
  },
  {
   "cell_type": "code",
   "execution_count": 13,
   "outputs": [
    {
     "name": "stdout",
     "output_type": "stream",
     "text": [
      "The eigenvalues are \n",
      "[-2, -1]\n"
     ]
    }
   ],
   "source": [
    "eigenvalues = sym.solve(det)\n",
    "print('The eigenvalues are ')\n",
    "print(eigenvalues)"
   ],
   "metadata": {
    "collapsed": false,
    "ExecuteTime": {
     "end_time": "2024-03-08T18:31:49.381774Z",
     "start_time": "2024-03-08T18:31:49.365752Z"
    }
   },
   "id": "65a9389dcdfc645e"
  },
  {
   "cell_type": "code",
   "execution_count": 13,
   "outputs": [],
   "source": [],
   "metadata": {
    "collapsed": false,
    "ExecuteTime": {
     "end_time": "2024-03-08T18:31:50.061510Z",
     "start_time": "2024-03-08T18:31:50.059888Z"
    }
   },
   "id": "55ccce14d4e8b8ea"
  },
  {
   "cell_type": "code",
   "execution_count": 14,
   "outputs": [],
   "source": [
    "# Now, for each eigenvalue, find the eigenvector\n",
    "\n",
    "# Note that the result here will be a DICTIONARY"
   ],
   "metadata": {
    "collapsed": false,
    "ExecuteTime": {
     "end_time": "2024-03-08T18:31:50.612587Z",
     "start_time": "2024-03-08T18:31:50.611031Z"
    }
   },
   "id": "aa9d88c80862d84e"
  },
  {
   "cell_type": "code",
   "execution_count": 15,
   "outputs": [
    {
     "name": "stdout",
     "output_type": "stream",
     "text": [
      "For eigenvalue  -2  the eigenvectors are \n",
      "Matrix([[2, 1], [-2, -1]])\n",
      "Matrix([[2*x + y], [-2*x - y]])\n",
      "{x: -y/2}\n",
      "\n",
      "For eigenvalue  -1  the eigenvectors are \n",
      "Matrix([[1, 1], [-2, -2]])\n",
      "Matrix([[x + y], [-2*x - 2*y]])\n",
      "{x: -y}\n"
     ]
    }
   ],
   "source": [
    "eigenvectors = []\n",
    "for eigenvalue in eigenvalues:\n",
    "    print('For eigenvalue ',eigenvalue,' the eigenvectors are ')\n",
    "    print(eigen_matrix.subs(lam, eigenvalue))\n",
    "    x = sym.symbols('x')\n",
    "    y = sym.symbols('y')\n",
    "    evec = sym.Matrix([x, y])\n",
    "    print(eigen_matrix.subs(lam, eigenvalue) * evec)\n",
    "    print(sym.solve((eigen_matrix.subs(lam, eigenvalue) * evec)))\n",
    "    eigenvectors.append(sym.solve((eigen_matrix.subs(lam, eigenvalue) * evec)))\n",
    "    print()"
   ],
   "metadata": {
    "collapsed": false,
    "ExecuteTime": {
     "end_time": "2024-03-08T18:31:51.315654Z",
     "start_time": "2024-03-08T18:31:51.304846Z"
    }
   },
   "id": "aedd0beac735c102"
  },
  {
   "cell_type": "code",
   "execution_count": 16,
   "outputs": [
    {
     "name": "stdout",
     "output_type": "stream",
     "text": [
      "The eigenvalues are \n",
      "[-1. -2.]\n",
      "The eigenvectors (rows) are \n",
      "[[ 0.70710678 -0.70710678]\n",
      " [-0.4472136   0.89442719]]\n"
     ]
    }
   ],
   "source": [
    "# print the eigenvalues and eigenvectors of the coefficient matrix\n",
    "eigenvalues_linalg, eigenvectors_linalgT = np.linalg.eig(A)\n",
    "eigenvectors_linalg = eigenvectors_linalgT.T\n",
    "print('The eigenvalues are ')\n",
    "print(eigenvalues_linalg)\n",
    "print('The eigenvectors (rows) are ')\n",
    "print(eigenvectors_linalg)\n",
    "print()"
   ],
   "metadata": {
    "collapsed": false,
    "ExecuteTime": {
     "end_time": "2024-03-08T18:31:52.164521Z",
     "start_time": "2024-03-08T18:31:52.161462Z"
    }
   },
   "id": "8056a161ca2131c3"
  },
  {
   "cell_type": "code",
   "execution_count": 17,
   "outputs": [
    {
     "name": "stdout",
     "output_type": "stream",
     "text": [
      "[-2, -1]\n",
      "[{x: -y/2}, {x: -y}]\n"
     ]
    }
   ],
   "source": [
    "# print the eigenvalues and eigenvectors of the coefficient matrix using Sympy\n",
    "print(eigenvalues)\n",
    "print(eigenvectors)"
   ],
   "metadata": {
    "collapsed": false,
    "ExecuteTime": {
     "end_time": "2024-03-08T18:31:52.729568Z",
     "start_time": "2024-03-08T18:31:52.727393Z"
    }
   },
   "id": "b1666539faeb5ba6"
  },
  {
   "cell_type": "code",
   "execution_count": 18,
   "outputs": [
    {
     "name": "stdout",
     "output_type": "stream",
     "text": [
      "For eigenvalue  -1.0  matrix to be multiplied is \n",
      "[[ 1.  1.]\n",
      " [-2. -2.]]\n",
      "The eigenvector is \n",
      "[ 0.70710678 -0.70710678]\n",
      "The result of the matrix multiplication is \n",
      "[0. 0.]\n",
      "The sum of the elements of the result is \n",
      "0.0\n",
      "\n",
      "For eigenvalue  -2.0  matrix to be multiplied is \n",
      "[[ 2.  1.]\n",
      " [-2. -1.]]\n",
      "The eigenvector is \n",
      "[-0.4472136   0.89442719]\n",
      "The result of the matrix multiplication is \n",
      "[0. 0.]\n",
      "The sum of the elements of the result is \n",
      "0.0\n"
     ]
    }
   ],
   "source": [
    "# check the eigenvalues and eigenvectors\n",
    "for i in range(len(eigenvalues_linalg)):\n",
    "    print('For eigenvalue ',eigenvalues_linalg[i],' matrix to be multiplied is ')\n",
    "    print(A-eigenvalues_linalg[i]*np.identity(2))\n",
    "    print('The eigenvector is ')\n",
    "    print(eigenvectors_linalg[i])\n",
    "    result = np.dot(A-eigenvalues_linalg[i]*np.identity(2),eigenvectors_linalg[i])\n",
    "    print('The result of the matrix multiplication is ')\n",
    "    print(result)\n",
    "    sum_vals = 0.0\n",
    "    for j in range(len(result)):\n",
    "        sum_vals += result[j]\n",
    "    print('The sum of the elements of the result is ')\n",
    "    print(sum_vals)\n",
    "    print()"
   ],
   "metadata": {
    "collapsed": false,
    "ExecuteTime": {
     "end_time": "2024-03-08T18:31:53.291697Z",
     "start_time": "2024-03-08T18:31:53.289062Z"
    }
   },
   "id": "1f922ff181230e8f"
  },
  {
   "cell_type": "markdown",
   "source": [
    "## Eigenvalues and Eigenvectors of a Square Matrix\n",
    "\n",
    "Diagonalization of a square matrix $A$ is the process of finding a diagonal matrix $\\Lambda$ and an invertible matrix $S$ such that\n",
    "\n",
    "$$A = S \\Lambda S^{-1}$$\n",
    "\n",
    "where $\\Lambda$ is a diagonal matrix with the eigenvalues of $A$ as its diagonal elements and $S$ is a matrix with the eigenvectors of $A$ as its columns.\n",
    "\n",
    "We can also therefore say that:\n",
    "\n",
    "$$\\Lambda = S^{-1} A S$$\n",
    "\n"
   ],
   "metadata": {
    "collapsed": false
   },
   "id": "9974174848e6d377"
  },
  {
   "cell_type": "code",
   "execution_count": 19,
   "outputs": [
    {
     "name": "stdout",
     "output_type": "stream",
     "text": [
      "[[ 0  1]\n",
      " [-2 -3]]\n"
     ]
    }
   ],
   "source": [
    "print(A)"
   ],
   "metadata": {
    "collapsed": false,
    "ExecuteTime": {
     "end_time": "2024-03-08T18:31:55.688419Z",
     "start_time": "2024-03-08T18:31:55.683956Z"
    }
   },
   "id": "8e3c9cd9affdcb7c"
  },
  {
   "cell_type": "code",
   "execution_count": 20,
   "outputs": [
    {
     "name": "stdout",
     "output_type": "stream",
     "text": [
      "Eigenvalues\n",
      "[-1. -2.]\n",
      "Eigenvector matrix with eigenvectors as columns\n",
      "[[ 0.70710678 -0.4472136 ]\n",
      " [-0.70710678  0.89442719]]\n"
     ]
    }
   ],
   "source": [
    "print(\"Eigenvalues\")\n",
    "print(eigenvalues_linalg)\n",
    "print(\"Eigenvector matrix with eigenvectors as columns\")\n",
    "print(eigenvectors_linalgT)\n",
    "S = eigenvectors_linalgT"
   ],
   "metadata": {
    "collapsed": false,
    "ExecuteTime": {
     "end_time": "2024-03-08T18:31:56.248882Z",
     "start_time": "2024-03-08T18:31:56.246828Z"
    }
   },
   "id": "6121b99c15b1ba47"
  },
  {
   "cell_type": "code",
   "execution_count": 21,
   "outputs": [
    {
     "name": "stdout",
     "output_type": "stream",
     "text": [
      "Inverse of eigenvector matrix with eigenvectors as columns\n",
      "[[2.82842712 1.41421356]\n",
      " [2.23606798 2.23606798]]\n"
     ]
    }
   ],
   "source": [
    "Sinv = np.linalg.inv(S)\n",
    "print(\"Inverse of eigenvector matrix with eigenvectors as columns\")\n",
    "print(Sinv)"
   ],
   "metadata": {
    "collapsed": false,
    "ExecuteTime": {
     "end_time": "2024-03-08T18:31:57.385993Z",
     "start_time": "2024-03-08T18:31:57.382373Z"
    }
   },
   "id": "f754970d31482aa8"
  },
  {
   "cell_type": "code",
   "execution_count": 22,
   "outputs": [
    {
     "name": "stdout",
     "output_type": "stream",
     "text": [
      "Eigenvalue matrix (diagonal)\n",
      "[[-1.  0.]\n",
      " [ 0. -2.]]\n",
      "Eigenvalue matrix (diagonal) calculated from Sinv, A, S\n",
      "[[-1.00000000e+00 -4.36247471e-17]\n",
      " [ 6.33024397e-17 -2.00000000e+00]]\n"
     ]
    }
   ],
   "source": [
    "Lambda = np.diag(eigenvalues_linalg)\n",
    "print(\"Eigenvalue matrix (diagonal)\")\n",
    "print(Lambda)\n",
    "\n",
    "Lambda_Theory = np.dot(Sinv, np.dot(A,S))\n",
    "\n",
    "print(\"Eigenvalue matrix (diagonal) calculated from Sinv, A, S\")\n",
    "print(Lambda_Theory)\n"
   ],
   "metadata": {
    "collapsed": false,
    "ExecuteTime": {
     "end_time": "2024-03-08T18:31:58.243262Z",
     "start_time": "2024-03-08T18:31:58.240114Z"
    }
   },
   "id": "9c8dd0af2b96b659"
  },
  {
   "cell_type": "code",
   "execution_count": 23,
   "outputs": [
    {
     "name": "stdout",
     "output_type": "stream",
     "text": [
      "A calculated from S, Lambda, Sinv\n",
      "[[ 4.53932125e-17  1.00000000e+00]\n",
      " [-2.00000000e+00 -3.00000000e+00]]\n"
     ]
    }
   ],
   "source": [
    "A_Theory = np.dot(S, np.dot(Lambda, Sinv))\n",
    "print(\"A calculated from S, Lambda, Sinv\")\n",
    "print(A_Theory)"
   ],
   "metadata": {
    "collapsed": false,
    "ExecuteTime": {
     "end_time": "2024-03-08T18:31:59.118920Z",
     "start_time": "2024-03-08T18:31:59.115648Z"
    }
   },
   "id": "9d96163062bbf00e"
  },
  {
   "cell_type": "code",
   "execution_count": 18,
   "outputs": [],
   "source": [],
   "metadata": {
    "collapsed": false,
    "ExecuteTime": {
     "end_time": "2024-01-03T21:51:34.446308Z",
     "start_time": "2024-01-03T21:51:34.426711Z"
    }
   },
   "id": "872aaa897889c883"
  },
  {
   "cell_type": "code",
   "execution_count": null,
   "outputs": [],
   "source": [],
   "metadata": {
    "collapsed": false
   },
   "id": "c08a1b826b9293a8"
  }
 ],
 "metadata": {
  "kernelspec": {
   "display_name": "Python 3",
   "language": "python",
   "name": "python3"
  },
  "language_info": {
   "codemirror_mode": {
    "name": "ipython",
    "version": 2
   },
   "file_extension": ".py",
   "mimetype": "text/x-python",
   "name": "python",
   "nbconvert_exporter": "python",
   "pygments_lexer": "ipython2",
   "version": "2.7.6"
  }
 },
 "nbformat": 4,
 "nbformat_minor": 5
}
