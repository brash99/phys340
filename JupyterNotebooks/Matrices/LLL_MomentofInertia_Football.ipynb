{
 "cells": [
  {
   "cell_type": "markdown",
   "source": [
    "# Moment of Inertia of a Football\n",
    "\n",
    "The moment of inertia of a football can be calculated as follows:\n",
    "\n",
    "The football is a prolate spheroid with semi-axes $a$ and $c$.  For an American football, the semi-axes are $a = 11.5$ cm and $c = 19.0$ cm. The mass of the football is $m = 0.4$ kg, and the thickness of the leather is $t = 0.5$ cm.\n",
    "\n",
    "The moment of inertia of a uniform density SOLID prolate spheroid is given by\n",
    "\n",
    "$$I = \\frac{2}{5} m c^2 \\left(1 + \\frac{1}{2} \\left(\\frac{a}{c}\\right)^2 \\ln\\left(\\frac{1 + e}{1 - e}\\right)\\right)$$\n",
    "\n",
    "where $m$ is the mass of the football and $e = \\sqrt{1 - \\frac{a^2}{c^2}}$.  \n",
    "\n",
    "However, the football is not a solid prolate spheroid!\n",
    "\n",
    "## Calculation of the Moment of Inertia\n",
    "\n",
    "The moment of inertia of the football is calculated as follows:\n",
    "\n",
    "A prolate spheroid is an ellipse which is rotated about its major axis.  The length of the major axis is $2c$, and the length of the minor axis is $2a$.  Thus, the equation of the surface of the prolate spheroid is given by\n",
    "\n",
    "$$\\frac{x^2}{a^2} + \\frac{y^2}{a^2} + \\frac{z^2}{c^2} = 1$$\n",
    "\n",
    "In spherical coordinates, we have that:\n",
    "\n",
    "$$x = r \\sin\\theta \\cos\\phi$$\n",
    "$$y = r \\sin\\theta \\sin\\phi$$\n",
    "$$z = r \\cos\\theta$$\n",
    "\n",
    "Substituting these into the equation of the prolate spheroid, we have that:\n",
    "\n",
    "$$\\frac{r^2 \\sin^2\\theta \\cos^2\\phi}{a^2} + \\frac{r^2 \\sin^2\\theta \\sin^2\\phi}{a^2} + \\frac{r^2 \\cos^2\\theta}{c^2} = 1$$\n",
    "\n",
    "Simplifying, we have that:\n",
    "\n",
    "$$\\frac{r^2}{a^2} \\sin^2\\theta + \\frac{r^2}{c^2} \\cos^2\\theta = 1$$\n",
    "\n",
    "Solving for $r^2$, we have that:\n",
    "\n",
    "$$r^2 = \\frac{a^2 c^2}{c^2 \\sin^2\\theta + a^2 \\cos^2\\theta}$$\n",
    "\n",
    "$$r = \\frac{ac}{\\sqrt{c^2 \\sin^2\\theta + a^2 \\cos^2\\theta}$$\n",
    "\n",
    "Let's calculate the surface area of the prolate spheroid. \n",
    "\n",
    "The area of the prolate spheroid is given by\n",
    "\n",
    "$$A = \\int_0^{2\\pi} \\int_0^\\pi r^2 \\sin\\theta d\\theta d\\phi$$\n",
    "\n",
    "$$= 2\\pi \\int_0^\\pi r^2 \\sin\\theta d\\theta$$ \n",
    "\n",
    "Substituting in the expression for $r^2$, we have that\n",
    "\n",
    "$$A = 2\\pi \\int_0^\\pi \\frac{a^2 c^2}{c^2 \\sin^2\\theta + a^2 \\cos^2\\theta} \\sin\\theta d\\theta$$\n",
    "\n",
    "This integral is not easy to solve!  The result, using Mathematica, is:\n",
    "\n",
    "$$A = 2\\pi a^2 + \\frac{2 \\pi a c^2}{\\sqrt{c^2-a^2}} \\arcsin\\left(\\frac{\\sqrt{c^2-a^2}}{c}\\right)$$\n",
    "\n",
    "Using that $e = \\frac{\\sqrt{c^2-a^2}}{c}$, we have that\n",
    "\n",
    "$$A = 2\\pi a^2 + \\frac{2 \\pi a c}{e} \\arcsin\\left(e\\right)$$\n",
    "\n",
    "(Note that the limit of $\\frac{arcsin(e)}{e}$ as $e \\rightarrow 0$ is 1, so the surface area of a sphere is recovered in the limit as $e \\rightarrow 0$.)\n",
    "\n",
    "## Moment of Inertia\n",
    "\n",
    "We can calculate the diagonal elements of the moment of intertia tensor as follows:\n",
    "\n",
    "$$I_{xx} = \\int \\left(y^2 + z^2\\right) dm$$\n",
    "$$I_{yy} = \\int \\left(x^2 + z^2\\right) dm$$\n",
    "$$I_{zz} = \\int \\left(x^2 + y^2\\right) dm$$\n",
    "\n",
    "where $dm = \\rho dV$ is the mass element, and $\\rho$ is the density of the football.  The density of the football is given by\n",
    "\n",
    "$$\\rho = \\frac{m}{V}$$\n",
    "\n",
    "where $V$ is the volume of the football.  The volume of the football is given by\n",
    "\n",
    "$$V = A*t$$\n",
    "\n",
    "where $A$ is the surface area of the football and $t$ is the thickness of the leather.  Thus, the density is given by\n",
    "\n",
    "$$\\rho = \\frac{m}{A t}$$\n",
    "\n",
    "## Calculation of $I_{xx}$\n",
    "\n",
    "We can calculate the moment of inertia $I_{xx}$ as follows:\n",
    "\n",
    "$$I_{xx} = \\int \\int \\int \\left(y^2 + z^2\\right) dm$$\n",
    "\n",
    "Substituting in the expression for $dm$, we have that\n",
    "\n",
    "$$I_{xx} = t \\int \\int \\left(y^2 + z^2\\right) \\rho dA$$\n",
    "\n",
    "Switching to spherical coordinates, we have that\n",
    "\n",
    "$$I_{xx} = t \\int \\int \\left(r^2 \\sin^2\\theta \\sin^2\\phi + r^2 \\cos^2\\theta\\right) \\rho r^2 \\sin\\theta d\\theta d\\phi$$\n",
    "\n",
    "Substituting in the expression for $r^2$, we have that\n",
    "\n",
    "$$I_{xx} = t \\int \\int \\left(\\frac{a^2 c^2 \\sin^2\\theta \\sin^2\\phi}{c^2 \\sin^2\\theta + a^2 \\cos^2\\theta} + \\frac{a^2 c^2 \\cos^2\\theta}{c^2 \\sin^2\\theta + a^2 \\cos^2\\theta}\\right) \\rho \\frac{a^2 c^2}{c^2 \\sin^2\\theta + a^2 \\cos^2\\theta} \\sin\\theta d\\theta d\\phi$$\n",
    "\n",
    "Somehow, I feel like a numerical solution is going to be necessary!!!\n",
    "\n",
    "\n",
    "\n",
    "\n",
    "\n"
   ],
   "metadata": {
    "collapsed": false
   },
   "id": "7d8ee6fd7fc33b71"
  },
  {
   "cell_type": "code",
   "source": [
    "import numpy as np\n",
    "import matplotlib.pyplot as plt\n",
    "\n",
    "# Constants\n",
    "# From https://operations.nfl.com/media/4693/2020-nfl-rulebook.pdf\n",
    "# Length = 11.0 to 11.25 inches\n",
    "# Circumference = 28.0 to 28.5 inches long side\n",
    "# Circumference = 21.0 to 21.25 inches short side\n",
    "# Weight = 14.0 to 15.0 ounces\n",
    "\n",
    "c = 11.125/2.0*2.54e-2\n",
    "a = 21.125/(2.0*np.pi)*2.54e-2\n",
    "print('c (m) =', c)\n",
    "print('a (m) =', a)\n",
    "m = 14.5*0.0283495\n",
    "print('m (kg) =', m)\n",
    "t = 0.5e-2\n",
    "\n",
    "# testing - spherical shell\n",
    "#c = 1\n",
    "#a = 0.9999999*c\n",
    "#m = 1\n",
    "#t =0.0001\n",
    "\n",
    "# testing - thin rod\n",
    "#c = 1\n",
    "#a = 0.1*c\n",
    "#m = 1\n",
    "#t =0.001\n",
    "\n",
    "# Calculate e\n",
    "e = np.sqrt(1 - a**2/c**2)\n",
    "\n",
    "# Calculate the surface area\n",
    "A = 2*np.pi*a**2 + 2*np.pi*a*c/e*np.arcsin(e)\n",
    "\n",
    "# Calculate the volume\n",
    "V = A*t\n",
    "\n",
    "# Calculate the density\n",
    "rho = m/V\n",
    "\n",
    "print('e =', e)\n",
    "print('A (m^2) =', A)\n",
    "print('V (m^3) =', V)\n",
    "print('rho (kg/m^3) =', rho)"
   ],
   "metadata": {
    "collapsed": false,
    "ExecuteTime": {
     "end_time": "2025-02-13T19:04:59.993438Z",
     "start_time": "2025-02-13T19:04:59.392681Z"
    }
   },
   "id": "f1cb6a0631dfdb05",
   "outputs": [
    {
     "name": "stdout",
     "output_type": "stream",
     "text": [
      "c (m) = 0.14128749999999998\n",
      "a (m) = 0.08539856358953374\n",
      "m (kg) = 0.41106775\n",
      "e = 0.7966573958970498\n",
      "A (m^2) = 0.13353760781172502\n",
      "V (m^3) = 0.0006676880390586251\n",
      "rho (kg/m^3) = 615.6584002606447\n"
     ]
    }
   ],
   "execution_count": 1
  },
  {
   "cell_type": "code",
   "source": [
    "# Plot the prolate spheroid\n",
    "\n",
    "# Number of points\n",
    "%matplotlib notebook\n",
    "\n",
    "n = 1000\n",
    "\n",
    "# Create the grid\n",
    "\n",
    "theta = np.linspace(0, np.pi, n)\n",
    "phi = np.linspace(0, 2*np.pi, n)\n",
    "theta, phi = np.meshgrid(theta, phi)\n",
    "\n",
    "# Calculate the position of the grid points\n",
    "\n",
    "x = a*np.sin(theta)*np.cos(phi)\n",
    "y = a*np.sin(theta)*np.sin(phi)\n",
    "z = c*np.cos(theta)\n",
    "\n",
    "# Plot the prolate spheroid\n",
    "\n",
    "fig = plt.figure()\n",
    "ax = fig.add_subplot(111, projection='3d')\n",
    "ax.plot_surface(x, y, z, color='b', alpha=0.5)\n",
    "ax.set_xlabel('x')\n",
    "ax.set_ylabel('y')\n",
    "ax.set_zlabel('z')\n",
    "ax.set_title('Prolate Spheroid')\n",
    "ax.set_xlim(-c, c)\n",
    "ax.set_ylim(-c, c)\n",
    "ax.set_zlim(-c, c)\n",
    "plt.show()"
   ],
   "metadata": {
    "collapsed": false,
    "ExecuteTime": {
     "end_time": "2025-02-13T19:05:00.120984Z",
     "start_time": "2025-02-13T19:05:00.003341Z"
    }
   },
   "id": "a582bd4a96d63f84",
   "outputs": [
    {
     "data": {
      "text/plain": [
       "<IPython.core.display.Javascript object>"
      ],
      "application/javascript": "/* Put everything inside the global mpl namespace */\n/* global mpl */\nwindow.mpl = {};\n\nmpl.get_websocket_type = function () {\n    if (typeof WebSocket !== 'undefined') {\n        return WebSocket;\n    } else if (typeof MozWebSocket !== 'undefined') {\n        return MozWebSocket;\n    } else {\n        alert(\n            'Your browser does not have WebSocket support. ' +\n                'Please try Chrome, Safari or Firefox ≥ 6. ' +\n                'Firefox 4 and 5 are also supported but you ' +\n                'have to enable WebSockets in about:config.'\n        );\n    }\n};\n\nmpl.figure = function (figure_id, websocket, ondownload, parent_element) {\n    this.id = figure_id;\n\n    this.ws = websocket;\n\n    this.supports_binary = this.ws.binaryType !== undefined;\n\n    if (!this.supports_binary) {\n        var warnings = document.getElementById('mpl-warnings');\n        if (warnings) {\n            warnings.style.display = 'block';\n            warnings.textContent =\n                'This browser does not support binary websocket messages. ' +\n                'Performance may be slow.';\n        }\n    }\n\n    this.imageObj = new Image();\n\n    this.context = undefined;\n    this.message = undefined;\n    this.canvas = undefined;\n    this.rubberband_canvas = undefined;\n    this.rubberband_context = undefined;\n    this.format_dropdown = undefined;\n\n    this.image_mode = 'full';\n\n    this.root = document.createElement('div');\n    this.root.setAttribute('style', 'display: inline-block');\n    this._root_extra_style(this.root);\n\n    parent_element.appendChild(this.root);\n\n    this._init_header(this);\n    this._init_canvas(this);\n    this._init_toolbar(this);\n\n    var fig = this;\n\n    this.waiting = false;\n\n    this.ws.onopen = function () {\n        fig.send_message('supports_binary', { value: fig.supports_binary });\n        fig.send_message('send_image_mode', {});\n        if (fig.ratio !== 1) {\n            fig.send_message('set_device_pixel_ratio', {\n                device_pixel_ratio: fig.ratio,\n            });\n        }\n        fig.send_message('refresh', {});\n    };\n\n    this.imageObj.onload = function () {\n        if (fig.image_mode === 'full') {\n            // Full images could contain transparency (where diff images\n            // almost always do), so we need to clear the canvas so that\n            // there is no ghosting.\n            fig.context.clearRect(0, 0, fig.canvas.width, fig.canvas.height);\n        }\n        fig.context.drawImage(fig.imageObj, 0, 0);\n    };\n\n    this.imageObj.onunload = function () {\n        fig.ws.close();\n    };\n\n    this.ws.onmessage = this._make_on_message_function(this);\n\n    this.ondownload = ondownload;\n};\n\nmpl.figure.prototype._init_header = function () {\n    var titlebar = document.createElement('div');\n    titlebar.classList =\n        'ui-dialog-titlebar ui-widget-header ui-corner-all ui-helper-clearfix';\n    var titletext = document.createElement('div');\n    titletext.classList = 'ui-dialog-title';\n    titletext.setAttribute(\n        'style',\n        'width: 100%; text-align: center; padding: 3px;'\n    );\n    titlebar.appendChild(titletext);\n    this.root.appendChild(titlebar);\n    this.header = titletext;\n};\n\nmpl.figure.prototype._canvas_extra_style = function (_canvas_div) {};\n\nmpl.figure.prototype._root_extra_style = function (_canvas_div) {};\n\nmpl.figure.prototype._init_canvas = function () {\n    var fig = this;\n\n    var canvas_div = (this.canvas_div = document.createElement('div'));\n    canvas_div.setAttribute('tabindex', '0');\n    canvas_div.setAttribute(\n        'style',\n        'border: 1px solid #ddd;' +\n            'box-sizing: content-box;' +\n            'clear: both;' +\n            'min-height: 1px;' +\n            'min-width: 1px;' +\n            'outline: 0;' +\n            'overflow: hidden;' +\n            'position: relative;' +\n            'resize: both;' +\n            'z-index: 2;'\n    );\n\n    function on_keyboard_event_closure(name) {\n        return function (event) {\n            return fig.key_event(event, name);\n        };\n    }\n\n    canvas_div.addEventListener(\n        'keydown',\n        on_keyboard_event_closure('key_press')\n    );\n    canvas_div.addEventListener(\n        'keyup',\n        on_keyboard_event_closure('key_release')\n    );\n\n    this._canvas_extra_style(canvas_div);\n    this.root.appendChild(canvas_div);\n\n    var canvas = (this.canvas = document.createElement('canvas'));\n    canvas.classList.add('mpl-canvas');\n    canvas.setAttribute(\n        'style',\n        'box-sizing: content-box;' +\n            'pointer-events: none;' +\n            'position: relative;' +\n            'z-index: 0;'\n    );\n\n    this.context = canvas.getContext('2d');\n\n    var backingStore =\n        this.context.backingStorePixelRatio ||\n        this.context.webkitBackingStorePixelRatio ||\n        this.context.mozBackingStorePixelRatio ||\n        this.context.msBackingStorePixelRatio ||\n        this.context.oBackingStorePixelRatio ||\n        this.context.backingStorePixelRatio ||\n        1;\n\n    this.ratio = (window.devicePixelRatio || 1) / backingStore;\n\n    var rubberband_canvas = (this.rubberband_canvas = document.createElement(\n        'canvas'\n    ));\n    rubberband_canvas.setAttribute(\n        'style',\n        'box-sizing: content-box;' +\n            'left: 0;' +\n            'pointer-events: none;' +\n            'position: absolute;' +\n            'top: 0;' +\n            'z-index: 1;'\n    );\n\n    // Apply a ponyfill if ResizeObserver is not implemented by browser.\n    if (this.ResizeObserver === undefined) {\n        if (window.ResizeObserver !== undefined) {\n            this.ResizeObserver = window.ResizeObserver;\n        } else {\n            var obs = _JSXTOOLS_RESIZE_OBSERVER({});\n            this.ResizeObserver = obs.ResizeObserver;\n        }\n    }\n\n    this.resizeObserverInstance = new this.ResizeObserver(function (entries) {\n        // There's no need to resize if the WebSocket is not connected:\n        // - If it is still connecting, then we will get an initial resize from\n        //   Python once it connects.\n        // - If it has disconnected, then resizing will clear the canvas and\n        //   never get anything back to refill it, so better to not resize and\n        //   keep something visible.\n        if (fig.ws.readyState != 1) {\n            return;\n        }\n        var nentries = entries.length;\n        for (var i = 0; i < nentries; i++) {\n            var entry = entries[i];\n            var width, height;\n            if (entry.contentBoxSize) {\n                if (entry.contentBoxSize instanceof Array) {\n                    // Chrome 84 implements new version of spec.\n                    width = entry.contentBoxSize[0].inlineSize;\n                    height = entry.contentBoxSize[0].blockSize;\n                } else {\n                    // Firefox implements old version of spec.\n                    width = entry.contentBoxSize.inlineSize;\n                    height = entry.contentBoxSize.blockSize;\n                }\n            } else {\n                // Chrome <84 implements even older version of spec.\n                width = entry.contentRect.width;\n                height = entry.contentRect.height;\n            }\n\n            // Keep the size of the canvas and rubber band canvas in sync with\n            // the canvas container.\n            if (entry.devicePixelContentBoxSize) {\n                // Chrome 84 implements new version of spec.\n                canvas.setAttribute(\n                    'width',\n                    entry.devicePixelContentBoxSize[0].inlineSize\n                );\n                canvas.setAttribute(\n                    'height',\n                    entry.devicePixelContentBoxSize[0].blockSize\n                );\n            } else {\n                canvas.setAttribute('width', width * fig.ratio);\n                canvas.setAttribute('height', height * fig.ratio);\n            }\n            /* This rescales the canvas back to display pixels, so that it\n             * appears correct on HiDPI screens. */\n            canvas.style.width = width + 'px';\n            canvas.style.height = height + 'px';\n\n            rubberband_canvas.setAttribute('width', width);\n            rubberband_canvas.setAttribute('height', height);\n\n            // And update the size in Python. We ignore the initial 0/0 size\n            // that occurs as the element is placed into the DOM, which should\n            // otherwise not happen due to the minimum size styling.\n            if (width != 0 && height != 0) {\n                fig.request_resize(width, height);\n            }\n        }\n    });\n    this.resizeObserverInstance.observe(canvas_div);\n\n    function on_mouse_event_closure(name) {\n        /* User Agent sniffing is bad, but WebKit is busted:\n         * https://bugs.webkit.org/show_bug.cgi?id=144526\n         * https://bugs.webkit.org/show_bug.cgi?id=181818\n         * The worst that happens here is that they get an extra browser\n         * selection when dragging, if this check fails to catch them.\n         */\n        var UA = navigator.userAgent;\n        var isWebKit = /AppleWebKit/.test(UA) && !/Chrome/.test(UA);\n        if(isWebKit) {\n            return function (event) {\n                /* This prevents the web browser from automatically changing to\n                 * the text insertion cursor when the button is pressed. We\n                 * want to control all of the cursor setting manually through\n                 * the 'cursor' event from matplotlib */\n                event.preventDefault()\n                return fig.mouse_event(event, name);\n            };\n        } else {\n            return function (event) {\n                return fig.mouse_event(event, name);\n            };\n        }\n    }\n\n    canvas_div.addEventListener(\n        'mousedown',\n        on_mouse_event_closure('button_press')\n    );\n    canvas_div.addEventListener(\n        'mouseup',\n        on_mouse_event_closure('button_release')\n    );\n    canvas_div.addEventListener(\n        'dblclick',\n        on_mouse_event_closure('dblclick')\n    );\n    // Throttle sequential mouse events to 1 every 20ms.\n    canvas_div.addEventListener(\n        'mousemove',\n        on_mouse_event_closure('motion_notify')\n    );\n\n    canvas_div.addEventListener(\n        'mouseenter',\n        on_mouse_event_closure('figure_enter')\n    );\n    canvas_div.addEventListener(\n        'mouseleave',\n        on_mouse_event_closure('figure_leave')\n    );\n\n    canvas_div.addEventListener('wheel', function (event) {\n        if (event.deltaY < 0) {\n            event.step = 1;\n        } else {\n            event.step = -1;\n        }\n        on_mouse_event_closure('scroll')(event);\n    });\n\n    canvas_div.appendChild(canvas);\n    canvas_div.appendChild(rubberband_canvas);\n\n    this.rubberband_context = rubberband_canvas.getContext('2d');\n    this.rubberband_context.strokeStyle = '#000000';\n\n    this._resize_canvas = function (width, height, forward) {\n        if (forward) {\n            canvas_div.style.width = width + 'px';\n            canvas_div.style.height = height + 'px';\n        }\n    };\n\n    // Disable right mouse context menu.\n    canvas_div.addEventListener('contextmenu', function (_e) {\n        event.preventDefault();\n        return false;\n    });\n\n    function set_focus() {\n        canvas.focus();\n        canvas_div.focus();\n    }\n\n    window.setTimeout(set_focus, 100);\n};\n\nmpl.figure.prototype._init_toolbar = function () {\n    var fig = this;\n\n    var toolbar = document.createElement('div');\n    toolbar.classList = 'mpl-toolbar';\n    this.root.appendChild(toolbar);\n\n    function on_click_closure(name) {\n        return function (_event) {\n            return fig.toolbar_button_onclick(name);\n        };\n    }\n\n    function on_mouseover_closure(tooltip) {\n        return function (event) {\n            if (!event.currentTarget.disabled) {\n                return fig.toolbar_button_onmouseover(tooltip);\n            }\n        };\n    }\n\n    fig.buttons = {};\n    var buttonGroup = document.createElement('div');\n    buttonGroup.classList = 'mpl-button-group';\n    for (var toolbar_ind in mpl.toolbar_items) {\n        var name = mpl.toolbar_items[toolbar_ind][0];\n        var tooltip = mpl.toolbar_items[toolbar_ind][1];\n        var image = mpl.toolbar_items[toolbar_ind][2];\n        var method_name = mpl.toolbar_items[toolbar_ind][3];\n\n        if (!name) {\n            /* Instead of a spacer, we start a new button group. */\n            if (buttonGroup.hasChildNodes()) {\n                toolbar.appendChild(buttonGroup);\n            }\n            buttonGroup = document.createElement('div');\n            buttonGroup.classList = 'mpl-button-group';\n            continue;\n        }\n\n        var button = (fig.buttons[name] = document.createElement('button'));\n        button.classList = 'mpl-widget';\n        button.setAttribute('role', 'button');\n        button.setAttribute('aria-disabled', 'false');\n        button.addEventListener('click', on_click_closure(method_name));\n        button.addEventListener('mouseover', on_mouseover_closure(tooltip));\n\n        var icon_img = document.createElement('img');\n        icon_img.src = '_images/' + image + '.png';\n        icon_img.srcset = '_images/' + image + '_large.png 2x';\n        icon_img.alt = tooltip;\n        button.appendChild(icon_img);\n\n        buttonGroup.appendChild(button);\n    }\n\n    if (buttonGroup.hasChildNodes()) {\n        toolbar.appendChild(buttonGroup);\n    }\n\n    var fmt_picker = document.createElement('select');\n    fmt_picker.classList = 'mpl-widget';\n    toolbar.appendChild(fmt_picker);\n    this.format_dropdown = fmt_picker;\n\n    for (var ind in mpl.extensions) {\n        var fmt = mpl.extensions[ind];\n        var option = document.createElement('option');\n        option.selected = fmt === mpl.default_extension;\n        option.innerHTML = fmt;\n        fmt_picker.appendChild(option);\n    }\n\n    var status_bar = document.createElement('span');\n    status_bar.classList = 'mpl-message';\n    toolbar.appendChild(status_bar);\n    this.message = status_bar;\n};\n\nmpl.figure.prototype.request_resize = function (x_pixels, y_pixels) {\n    // Request matplotlib to resize the figure. Matplotlib will then trigger a resize in the client,\n    // which will in turn request a refresh of the image.\n    this.send_message('resize', { width: x_pixels, height: y_pixels });\n};\n\nmpl.figure.prototype.send_message = function (type, properties) {\n    properties['type'] = type;\n    properties['figure_id'] = this.id;\n    this.ws.send(JSON.stringify(properties));\n};\n\nmpl.figure.prototype.send_draw_message = function () {\n    if (!this.waiting) {\n        this.waiting = true;\n        this.ws.send(JSON.stringify({ type: 'draw', figure_id: this.id }));\n    }\n};\n\nmpl.figure.prototype.handle_save = function (fig, _msg) {\n    var format_dropdown = fig.format_dropdown;\n    var format = format_dropdown.options[format_dropdown.selectedIndex].value;\n    fig.ondownload(fig, format);\n};\n\nmpl.figure.prototype.handle_resize = function (fig, msg) {\n    var size = msg['size'];\n    if (size[0] !== fig.canvas.width || size[1] !== fig.canvas.height) {\n        fig._resize_canvas(size[0], size[1], msg['forward']);\n        fig.send_message('refresh', {});\n    }\n};\n\nmpl.figure.prototype.handle_rubberband = function (fig, msg) {\n    var x0 = msg['x0'] / fig.ratio;\n    var y0 = (fig.canvas.height - msg['y0']) / fig.ratio;\n    var x1 = msg['x1'] / fig.ratio;\n    var y1 = (fig.canvas.height - msg['y1']) / fig.ratio;\n    x0 = Math.floor(x0) + 0.5;\n    y0 = Math.floor(y0) + 0.5;\n    x1 = Math.floor(x1) + 0.5;\n    y1 = Math.floor(y1) + 0.5;\n    var min_x = Math.min(x0, x1);\n    var min_y = Math.min(y0, y1);\n    var width = Math.abs(x1 - x0);\n    var height = Math.abs(y1 - y0);\n\n    fig.rubberband_context.clearRect(\n        0,\n        0,\n        fig.canvas.width / fig.ratio,\n        fig.canvas.height / fig.ratio\n    );\n\n    fig.rubberband_context.strokeRect(min_x, min_y, width, height);\n};\n\nmpl.figure.prototype.handle_figure_label = function (fig, msg) {\n    // Updates the figure title.\n    fig.header.textContent = msg['label'];\n};\n\nmpl.figure.prototype.handle_cursor = function (fig, msg) {\n    fig.canvas_div.style.cursor = msg['cursor'];\n};\n\nmpl.figure.prototype.handle_message = function (fig, msg) {\n    fig.message.textContent = msg['message'];\n};\n\nmpl.figure.prototype.handle_draw = function (fig, _msg) {\n    // Request the server to send over a new figure.\n    fig.send_draw_message();\n};\n\nmpl.figure.prototype.handle_image_mode = function (fig, msg) {\n    fig.image_mode = msg['mode'];\n};\n\nmpl.figure.prototype.handle_history_buttons = function (fig, msg) {\n    for (var key in msg) {\n        if (!(key in fig.buttons)) {\n            continue;\n        }\n        fig.buttons[key].disabled = !msg[key];\n        fig.buttons[key].setAttribute('aria-disabled', !msg[key]);\n    }\n};\n\nmpl.figure.prototype.handle_navigate_mode = function (fig, msg) {\n    if (msg['mode'] === 'PAN') {\n        fig.buttons['Pan'].classList.add('active');\n        fig.buttons['Zoom'].classList.remove('active');\n    } else if (msg['mode'] === 'ZOOM') {\n        fig.buttons['Pan'].classList.remove('active');\n        fig.buttons['Zoom'].classList.add('active');\n    } else {\n        fig.buttons['Pan'].classList.remove('active');\n        fig.buttons['Zoom'].classList.remove('active');\n    }\n};\n\nmpl.figure.prototype.updated_canvas_event = function () {\n    // Called whenever the canvas gets updated.\n    this.send_message('ack', {});\n};\n\n// A function to construct a web socket function for onmessage handling.\n// Called in the figure constructor.\nmpl.figure.prototype._make_on_message_function = function (fig) {\n    return function socket_on_message(evt) {\n        if (evt.data instanceof Blob) {\n            var img = evt.data;\n            if (img.type !== 'image/png') {\n                /* FIXME: We get \"Resource interpreted as Image but\n                 * transferred with MIME type text/plain:\" errors on\n                 * Chrome.  But how to set the MIME type?  It doesn't seem\n                 * to be part of the websocket stream */\n                img.type = 'image/png';\n            }\n\n            /* Free the memory for the previous frames */\n            if (fig.imageObj.src) {\n                (window.URL || window.webkitURL).revokeObjectURL(\n                    fig.imageObj.src\n                );\n            }\n\n            fig.imageObj.src = (window.URL || window.webkitURL).createObjectURL(\n                img\n            );\n            fig.updated_canvas_event();\n            fig.waiting = false;\n            return;\n        } else if (\n            typeof evt.data === 'string' &&\n            evt.data.slice(0, 21) === 'data:image/png;base64'\n        ) {\n            fig.imageObj.src = evt.data;\n            fig.updated_canvas_event();\n            fig.waiting = false;\n            return;\n        }\n\n        var msg = JSON.parse(evt.data);\n        var msg_type = msg['type'];\n\n        // Call the  \"handle_{type}\" callback, which takes\n        // the figure and JSON message as its only arguments.\n        try {\n            var callback = fig['handle_' + msg_type];\n        } catch (e) {\n            console.log(\n                \"No handler for the '\" + msg_type + \"' message type: \",\n                msg\n            );\n            return;\n        }\n\n        if (callback) {\n            try {\n                // console.log(\"Handling '\" + msg_type + \"' message: \", msg);\n                callback(fig, msg);\n            } catch (e) {\n                console.log(\n                    \"Exception inside the 'handler_\" + msg_type + \"' callback:\",\n                    e,\n                    e.stack,\n                    msg\n                );\n            }\n        }\n    };\n};\n\nfunction getModifiers(event) {\n    var mods = [];\n    if (event.ctrlKey) {\n        mods.push('ctrl');\n    }\n    if (event.altKey) {\n        mods.push('alt');\n    }\n    if (event.shiftKey) {\n        mods.push('shift');\n    }\n    if (event.metaKey) {\n        mods.push('meta');\n    }\n    return mods;\n}\n\n/*\n * return a copy of an object with only non-object keys\n * we need this to avoid circular references\n * https://stackoverflow.com/a/24161582/3208463\n */\nfunction simpleKeys(original) {\n    return Object.keys(original).reduce(function (obj, key) {\n        if (typeof original[key] !== 'object') {\n            obj[key] = original[key];\n        }\n        return obj;\n    }, {});\n}\n\nmpl.figure.prototype.mouse_event = function (event, name) {\n    if (name === 'button_press') {\n        this.canvas.focus();\n        this.canvas_div.focus();\n    }\n\n    // from https://stackoverflow.com/q/1114465\n    var boundingRect = this.canvas.getBoundingClientRect();\n    var x = (event.clientX - boundingRect.left) * this.ratio;\n    var y = (event.clientY - boundingRect.top) * this.ratio;\n\n    this.send_message(name, {\n        x: x,\n        y: y,\n        button: event.button,\n        step: event.step,\n        buttons: event.buttons,\n        modifiers: getModifiers(event),\n        guiEvent: simpleKeys(event),\n    });\n\n    return false;\n};\n\nmpl.figure.prototype._key_event_extra = function (_event, _name) {\n    // Handle any extra behaviour associated with a key event\n};\n\nmpl.figure.prototype.key_event = function (event, name) {\n    // Prevent repeat events\n    if (name === 'key_press') {\n        if (event.key === this._key) {\n            return;\n        } else {\n            this._key = event.key;\n        }\n    }\n    if (name === 'key_release') {\n        this._key = null;\n    }\n\n    var value = '';\n    if (event.ctrlKey && event.key !== 'Control') {\n        value += 'ctrl+';\n    }\n    else if (event.altKey && event.key !== 'Alt') {\n        value += 'alt+';\n    }\n    else if (event.shiftKey && event.key !== 'Shift') {\n        value += 'shift+';\n    }\n\n    value += 'k' + event.key;\n\n    this._key_event_extra(event, name);\n\n    this.send_message(name, { key: value, guiEvent: simpleKeys(event) });\n    return false;\n};\n\nmpl.figure.prototype.toolbar_button_onclick = function (name) {\n    if (name === 'download') {\n        this.handle_save(this, null);\n    } else {\n        this.send_message('toolbar_button', { name: name });\n    }\n};\n\nmpl.figure.prototype.toolbar_button_onmouseover = function (tooltip) {\n    this.message.textContent = tooltip;\n};\n\n///////////////// REMAINING CONTENT GENERATED BY embed_js.py /////////////////\n// prettier-ignore\nvar _JSXTOOLS_RESIZE_OBSERVER=function(A){var t,i=new WeakMap,n=new WeakMap,a=new WeakMap,r=new WeakMap,o=new Set;function s(e){if(!(this instanceof s))throw new TypeError(\"Constructor requires 'new' operator\");i.set(this,e)}function h(){throw new TypeError(\"Function is not a constructor\")}function c(e,t,i,n){e=0 in arguments?Number(arguments[0]):0,t=1 in arguments?Number(arguments[1]):0,i=2 in arguments?Number(arguments[2]):0,n=3 in arguments?Number(arguments[3]):0,this.right=(this.x=this.left=e)+(this.width=i),this.bottom=(this.y=this.top=t)+(this.height=n),Object.freeze(this)}function d(){t=requestAnimationFrame(d);var s=new WeakMap,p=new Set;o.forEach((function(t){r.get(t).forEach((function(i){var r=t instanceof window.SVGElement,o=a.get(t),d=r?0:parseFloat(o.paddingTop),f=r?0:parseFloat(o.paddingRight),l=r?0:parseFloat(o.paddingBottom),u=r?0:parseFloat(o.paddingLeft),g=r?0:parseFloat(o.borderTopWidth),m=r?0:parseFloat(o.borderRightWidth),w=r?0:parseFloat(o.borderBottomWidth),b=u+f,F=d+l,v=(r?0:parseFloat(o.borderLeftWidth))+m,W=g+w,y=r?0:t.offsetHeight-W-t.clientHeight,E=r?0:t.offsetWidth-v-t.clientWidth,R=b+v,z=F+W,M=r?t.width:parseFloat(o.width)-R-E,O=r?t.height:parseFloat(o.height)-z-y;if(n.has(t)){var k=n.get(t);if(k[0]===M&&k[1]===O)return}n.set(t,[M,O]);var S=Object.create(h.prototype);S.target=t,S.contentRect=new c(u,d,M,O),s.has(i)||(s.set(i,[]),p.add(i)),s.get(i).push(S)}))})),p.forEach((function(e){i.get(e).call(e,s.get(e),e)}))}return s.prototype.observe=function(i){if(i instanceof window.Element){r.has(i)||(r.set(i,new Set),o.add(i),a.set(i,window.getComputedStyle(i)));var n=r.get(i);n.has(this)||n.add(this),cancelAnimationFrame(t),t=requestAnimationFrame(d)}},s.prototype.unobserve=function(i){if(i instanceof window.Element&&r.has(i)){var n=r.get(i);n.has(this)&&(n.delete(this),n.size||(r.delete(i),o.delete(i))),n.size||r.delete(i),o.size||cancelAnimationFrame(t)}},A.DOMRectReadOnly=c,A.ResizeObserver=s,A.ResizeObserverEntry=h,A}; // eslint-disable-line\nmpl.toolbar_items = [[\"Home\", \"Reset original view\", \"fa fa-home\", \"home\"], [\"Back\", \"Back to previous view\", \"fa fa-arrow-left\", \"back\"], [\"Forward\", \"Forward to next view\", \"fa fa-arrow-right\", \"forward\"], [\"\", \"\", \"\", \"\"], [\"Pan\", \"Left button pans, Right button zooms\\nx/y fixes axis, CTRL fixes aspect\", \"fa fa-arrows\", \"pan\"], [\"Zoom\", \"Zoom to rectangle\\nx/y fixes axis\", \"fa fa-square-o\", \"zoom\"], [\"\", \"\", \"\", \"\"], [\"Download\", \"Download plot\", \"fa fa-floppy-o\", \"download\"]];\n\nmpl.extensions = [\"eps\", \"jpeg\", \"pgf\", \"pdf\", \"png\", \"ps\", \"raw\", \"svg\", \"tif\", \"webp\"];\n\nmpl.default_extension = \"png\";/* global mpl */\n\nvar comm_websocket_adapter = function (comm) {\n    // Create a \"websocket\"-like object which calls the given IPython comm\n    // object with the appropriate methods. Currently this is a non binary\n    // socket, so there is still some room for performance tuning.\n    var ws = {};\n\n    ws.binaryType = comm.kernel.ws.binaryType;\n    ws.readyState = comm.kernel.ws.readyState;\n    function updateReadyState(_event) {\n        if (comm.kernel.ws) {\n            ws.readyState = comm.kernel.ws.readyState;\n        } else {\n            ws.readyState = 3; // Closed state.\n        }\n    }\n    comm.kernel.ws.addEventListener('open', updateReadyState);\n    comm.kernel.ws.addEventListener('close', updateReadyState);\n    comm.kernel.ws.addEventListener('error', updateReadyState);\n\n    ws.close = function () {\n        comm.close();\n    };\n    ws.send = function (m) {\n        //console.log('sending', m);\n        comm.send(m);\n    };\n    // Register the callback with on_msg.\n    comm.on_msg(function (msg) {\n        //console.log('receiving', msg['content']['data'], msg);\n        var data = msg['content']['data'];\n        if (data['blob'] !== undefined) {\n            data = {\n                data: new Blob(msg['buffers'], { type: data['blob'] }),\n            };\n        }\n        // Pass the mpl event to the overridden (by mpl) onmessage function.\n        ws.onmessage(data);\n    });\n    return ws;\n};\n\nmpl.mpl_figure_comm = function (comm, msg) {\n    // This is the function which gets called when the mpl process\n    // starts-up an IPython Comm through the \"matplotlib\" channel.\n\n    var id = msg.content.data.id;\n    // Get hold of the div created by the display call when the Comm\n    // socket was opened in Python.\n    var element = document.getElementById(id);\n    var ws_proxy = comm_websocket_adapter(comm);\n\n    function ondownload(figure, _format) {\n        window.open(figure.canvas.toDataURL());\n    }\n\n    var fig = new mpl.figure(id, ws_proxy, ondownload, element);\n\n    // Call onopen now - mpl needs it, as it is assuming we've passed it a real\n    // web socket which is closed, not our websocket->open comm proxy.\n    ws_proxy.onopen();\n\n    fig.parent_element = element;\n    fig.cell_info = mpl.find_output_cell(\"<div id='\" + id + \"'></div>\");\n    if (!fig.cell_info) {\n        console.error('Failed to find cell for figure', id, fig);\n        return;\n    }\n    fig.cell_info[0].output_area.element.on(\n        'cleared',\n        { fig: fig },\n        fig._remove_fig_handler\n    );\n};\n\nmpl.figure.prototype.handle_close = function (fig, msg) {\n    var width = fig.canvas.width / fig.ratio;\n    fig.cell_info[0].output_area.element.off(\n        'cleared',\n        fig._remove_fig_handler\n    );\n    fig.resizeObserverInstance.unobserve(fig.canvas_div);\n\n    // Update the output cell to use the data from the current canvas.\n    fig.push_to_output();\n    var dataURL = fig.canvas.toDataURL();\n    // Re-enable the keyboard manager in IPython - without this line, in FF,\n    // the notebook keyboard shortcuts fail.\n    IPython.keyboard_manager.enable();\n    fig.parent_element.innerHTML =\n        '<img src=\"' + dataURL + '\" width=\"' + width + '\">';\n    fig.close_ws(fig, msg);\n};\n\nmpl.figure.prototype.close_ws = function (fig, msg) {\n    fig.send_message('closing', msg);\n    // fig.ws.close()\n};\n\nmpl.figure.prototype.push_to_output = function (_remove_interactive) {\n    // Turn the data on the canvas into data in the output cell.\n    var width = this.canvas.width / this.ratio;\n    var dataURL = this.canvas.toDataURL();\n    this.cell_info[1]['text/html'] =\n        '<img src=\"' + dataURL + '\" width=\"' + width + '\">';\n};\n\nmpl.figure.prototype.updated_canvas_event = function () {\n    // Tell IPython that the notebook contents must change.\n    IPython.notebook.set_dirty(true);\n    this.send_message('ack', {});\n    var fig = this;\n    // Wait a second, then push the new image to the DOM so\n    // that it is saved nicely (might be nice to debounce this).\n    setTimeout(function () {\n        fig.push_to_output();\n    }, 1000);\n};\n\nmpl.figure.prototype._init_toolbar = function () {\n    var fig = this;\n\n    var toolbar = document.createElement('div');\n    toolbar.classList = 'btn-toolbar';\n    this.root.appendChild(toolbar);\n\n    function on_click_closure(name) {\n        return function (_event) {\n            return fig.toolbar_button_onclick(name);\n        };\n    }\n\n    function on_mouseover_closure(tooltip) {\n        return function (event) {\n            if (!event.currentTarget.disabled) {\n                return fig.toolbar_button_onmouseover(tooltip);\n            }\n        };\n    }\n\n    fig.buttons = {};\n    var buttonGroup = document.createElement('div');\n    buttonGroup.classList = 'btn-group';\n    var button;\n    for (var toolbar_ind in mpl.toolbar_items) {\n        var name = mpl.toolbar_items[toolbar_ind][0];\n        var tooltip = mpl.toolbar_items[toolbar_ind][1];\n        var image = mpl.toolbar_items[toolbar_ind][2];\n        var method_name = mpl.toolbar_items[toolbar_ind][3];\n\n        if (!name) {\n            /* Instead of a spacer, we start a new button group. */\n            if (buttonGroup.hasChildNodes()) {\n                toolbar.appendChild(buttonGroup);\n            }\n            buttonGroup = document.createElement('div');\n            buttonGroup.classList = 'btn-group';\n            continue;\n        }\n\n        button = fig.buttons[name] = document.createElement('button');\n        button.classList = 'btn btn-default';\n        button.href = '#';\n        button.title = name;\n        button.innerHTML = '<i class=\"fa ' + image + ' fa-lg\"></i>';\n        button.addEventListener('click', on_click_closure(method_name));\n        button.addEventListener('mouseover', on_mouseover_closure(tooltip));\n        buttonGroup.appendChild(button);\n    }\n\n    if (buttonGroup.hasChildNodes()) {\n        toolbar.appendChild(buttonGroup);\n    }\n\n    // Add the status bar.\n    var status_bar = document.createElement('span');\n    status_bar.classList = 'mpl-message pull-right';\n    toolbar.appendChild(status_bar);\n    this.message = status_bar;\n\n    // Add the close button to the window.\n    var buttongrp = document.createElement('div');\n    buttongrp.classList = 'btn-group inline pull-right';\n    button = document.createElement('button');\n    button.classList = 'btn btn-mini btn-primary';\n    button.href = '#';\n    button.title = 'Stop Interaction';\n    button.innerHTML = '<i class=\"fa fa-power-off icon-remove icon-large\"></i>';\n    button.addEventListener('click', function (_evt) {\n        fig.handle_close(fig, {});\n    });\n    button.addEventListener(\n        'mouseover',\n        on_mouseover_closure('Stop Interaction')\n    );\n    buttongrp.appendChild(button);\n    var titlebar = this.root.querySelector('.ui-dialog-titlebar');\n    titlebar.insertBefore(buttongrp, titlebar.firstChild);\n};\n\nmpl.figure.prototype._remove_fig_handler = function (event) {\n    var fig = event.data.fig;\n    if (event.target !== this) {\n        // Ignore bubbled events from children.\n        return;\n    }\n    fig.close_ws(fig, {});\n};\n\nmpl.figure.prototype._root_extra_style = function (el) {\n    el.style.boxSizing = 'content-box'; // override notebook setting of border-box.\n};\n\nmpl.figure.prototype._canvas_extra_style = function (el) {\n    // this is important to make the div 'focusable\n    el.setAttribute('tabindex', 0);\n    // reach out to IPython and tell the keyboard manager to turn it's self\n    // off when our div gets focus\n\n    // location in version 3\n    if (IPython.notebook.keyboard_manager) {\n        IPython.notebook.keyboard_manager.register_events(el);\n    } else {\n        // location in version 2\n        IPython.keyboard_manager.register_events(el);\n    }\n};\n\nmpl.figure.prototype._key_event_extra = function (event, _name) {\n    // Check for shift+enter\n    if (event.shiftKey && event.which === 13) {\n        this.canvas_div.blur();\n        // select the cell after this one\n        var index = IPython.notebook.find_cell_index(this.cell_info[0]);\n        IPython.notebook.select(index + 1);\n    }\n};\n\nmpl.figure.prototype.handle_save = function (fig, _msg) {\n    fig.ondownload(fig, null);\n};\n\nmpl.find_output_cell = function (html_output) {\n    // Return the cell and output element which can be found *uniquely* in the notebook.\n    // Note - this is a bit hacky, but it is done because the \"notebook_saving.Notebook\"\n    // IPython event is triggered only after the cells have been serialised, which for\n    // our purposes (turning an active figure into a static one), is too late.\n    var cells = IPython.notebook.get_cells();\n    var ncells = cells.length;\n    for (var i = 0; i < ncells; i++) {\n        var cell = cells[i];\n        if (cell.cell_type === 'code') {\n            for (var j = 0; j < cell.output_area.outputs.length; j++) {\n                var data = cell.output_area.outputs[j];\n                if (data.data) {\n                    // IPython >= 3 moved mimebundle to data attribute of output\n                    data = data.data;\n                }\n                if (data['text/html'] === html_output) {\n                    return [cell, data, j];\n                }\n            }\n        }\n    }\n};\n\n// Register the function which deals with the matplotlib target/channel.\n// The kernel may be null if the page has been refreshed.\nif (IPython.notebook.kernel !== null) {\n    IPython.notebook.kernel.comm_manager.register_target(\n        'matplotlib',\n        mpl.mpl_figure_comm\n    );\n}\n"
     },
     "metadata": {},
     "output_type": "display_data"
    },
    {
     "data": {
      "text/plain": [
       "<IPython.core.display.HTML object>"
      ],
      "text/html": [
       "<div id='622c4e51-8d06-4857-827b-6f78cf7823f5'></div>"
      ]
     },
     "metadata": {},
     "output_type": "display_data"
    }
   ],
   "execution_count": 2
  },
  {
   "cell_type": "code",
   "source": [
    "# Calculate the moment of inertia - Ixx - using numerical integration and scipy.integrate \n",
    "\n",
    "from scipy.integrate import dblquad\n",
    "\n",
    "# Define the integrand\n",
    "\n",
    "def integrand(theta, phi, a, c, t, rho):\n",
    "    r = c*a/np.sqrt(c**2*np.sin(theta)**2 + a**2*np.cos(theta)**2)\n",
    "    return t*(r**2*np.sin(theta)**2*np.sin(phi)**2 + r**2*np.cos(theta)**2)*rho*r**2*np.sin(theta) \n",
    "\n",
    "# Calculate the integral\n",
    "\n",
    "Ixx = dblquad(integrand, 0, 2*np.pi, 0, np.pi, args=(a, c, t, rho))\n",
    "\n",
    "print('Ixx =', Ixx[0])\n",
    "print('Ixx error =', Ixx[1])\n"
   ],
   "metadata": {
    "collapsed": false,
    "ExecuteTime": {
     "end_time": "2025-02-13T19:05:00.439599Z",
     "start_time": "2025-02-13T19:05:00.235882Z"
    }
   },
   "id": "b1ae481ea922135f",
   "outputs": [
    {
     "name": "stdout",
     "output_type": "stream",
     "text": [
      "Ixx = 0.003221333260483037\n",
      "Ixx error = 8.437092956789863e-12\n"
     ]
    }
   ],
   "execution_count": 3
  },
  {
   "cell_type": "code",
   "source": [
    "# Calculate the moment of inertia - Ixx - using numerical integration and scipy.integrate.tplquad\n",
    "\n",
    "# The r integral will be from r(theta, phi) = (c-t)*(a-t)/sqrt((c-t)^2*sin(theta)^2 + (a-t)^2*cos(theta)^2) to r(theta, phi) = c*a/sqrt(c^2*sin(theta)^2 + a^2*cos(theta)^2) to account for the thickness of the leather\n",
    "# The theta integral will be from 0 to pi\n",
    "# The phi integral will be from 0 to 2*pi\n",
    "\n",
    "from scipy.integrate import tplquad\n",
    "\n",
    "# Define the integrand\n",
    "\n",
    "def integrand(r, theta, phi, a, c, t, rho):\n",
    "    return (r**2*np.sin(theta)**2*np.sin(phi)**2 + r**2*np.cos(theta)**2)*rho*r**2*np.sin(theta)\n",
    "\n",
    "# Calculate the integral\n",
    "\n",
    "# Notes:\n",
    "# When we do a triple integral, the order of the integrals is important.  The first integral is the innermost integral, and the last integral is the outermost integral.  The order of the integrals is r, theta, phi.\n",
    "#\n",
    "# This is the order of arguments in tplquad:\n",
    "# tplquad(func, a, b, gfun, hfun, qfun, rfun, args=(), epsabs=1.49e-08, epsrel=1.49e-08)\n",
    "# where\n",
    "# func is the function to be integrated\n",
    "# a and b are the limits of the outermost integral\n",
    "# gfun and hfun are the limits of the next integral\n",
    "# qfun and rfun are the limits of the innermost integral\n",
    "# args is a tuple of extra arguments to pass to the function\n",
    "# epsabs is the absolute tolerance\n",
    "# epsrel is the relative tolerance\n",
    "\n",
    "# Now, the function called \"func\" should take the arguments in the order (r, theta, phi), because this is the order of integration, and then the extra arguments in the order a, c, t, rho.\n",
    "\n",
    "# Notice that the limits of the integration are given in the order (phi, theta, r), thought!!!!!\n",
    "\n",
    "# In this case, since the limits of the r integration depend on theta and phi, at least in principle, we use a lambda function to define the limits of the r integration.\n",
    "\n",
    "Ixx = tplquad(integrand, \n",
    "              0, 2*np.pi, \n",
    "              0, np.pi, \n",
    "              lambda theta, phi: (c-t)*(a-t)/np.sqrt((c-t)**2*np.sin(theta)**2 + (a-t)**2*np.cos(theta)**2), \n",
    "              lambda theta, phi: (c)*(a)/np.sqrt((c)**2*np.sin(theta)**2 + (a)**2*np.cos(theta)**2), args=(a, c, t, rho))\n",
    "\n",
    "print('Ixx =', Ixx[0])\n",
    "print('Ixx error =', Ixx[1])"
   ],
   "metadata": {
    "collapsed": false,
    "ExecuteTime": {
     "end_time": "2025-02-13T19:05:00.614642Z",
     "start_time": "2025-02-13T19:05:00.445432Z"
    }
   },
   "id": "2f5165cbbe3279d8",
   "outputs": [
    {
     "name": "stdout",
     "output_type": "stream",
     "text": [
      "Ixx = 0.003113338225605828\n",
      "Ixx error = 6.978271178935712e-11\n"
     ]
    }
   ],
   "execution_count": 4
  },
  {
   "cell_type": "code",
   "source": [
    "# Test of 3D integration using scipy.integrate.tplquad - volume of a sphere of radius 1 = 4/3*pi = 4.1887902047863905\n",
    "from scipy.integrate import tplquad\n",
    "I_test = tplquad(lambda r, theta, phi: r**2 * np.sin(theta),\n",
    "                0, 2*np.pi,\n",
    "                lambda phi: 0, np.pi,\n",
    "                lambda theta, phi: 0, lambda theta, phi: 1)\n",
    "\n",
    "print('I_test =', I_test[0])"
   ],
   "metadata": {
    "collapsed": false,
    "ExecuteTime": {
     "end_time": "2025-02-13T19:05:00.629615Z",
     "start_time": "2025-02-13T19:05:00.620104Z"
    }
   },
   "id": "26382e6c1f0047a0",
   "outputs": [
    {
     "name": "stdout",
     "output_type": "stream",
     "text": [
      "I_test = 4.1887902047863905\n"
     ]
    }
   ],
   "execution_count": 5
  },
  {
   "cell_type": "code",
   "source": [
    "# Calculate the moment of inertia - Ixx - using numerical integration and a for loop\n",
    "\n",
    "# Number of points\n",
    "n = 1000\n",
    "\n",
    "# Calculate the integral\n",
    "Ixx = 0\n",
    "dtheta = np.pi/n\n",
    "dphi = 2*np.pi/n\n",
    "for i in range(n):\n",
    "    for j in range(n):\n",
    "            theta = np.pi*i/n\n",
    "            phi = 2*np.pi*j/n\n",
    "            r = c*a/np.sqrt(c**2*np.sin(theta)**2 + a**2*np.cos(theta)**2)\n",
    "            Ixx += t*(r**2*np.sin(theta)**2*np.sin(phi)**2 + r**2*np.cos(theta)**2)*rho*r**2*np.sin(theta)*dtheta*dphi\n",
    "            \n",
    "print('Ixx =', Ixx)"
   ],
   "metadata": {
    "collapsed": false,
    "ExecuteTime": {
     "end_time": "2025-02-13T19:06:28.363763Z",
     "start_time": "2025-02-13T19:06:24.060929Z"
    }
   },
   "id": "50afcfaac1e11f23",
   "outputs": [
    {
     "name": "stdout",
     "output_type": "stream",
     "text": [
      "Ixx = 0.0032213205823612865\n"
     ]
    }
   ],
   "execution_count": 7
  },
  {
   "cell_type": "code",
   "source": [
    "# Calculate the moment of inertia - Iyy\n",
    "\n",
    "# Calculate the integral\n",
    "Iyy = 0\n",
    "for i in range(n):\n",
    "    for j in range(n):\n",
    "            theta = np.pi*i/n\n",
    "            phi = 2*np.pi*j/n\n",
    "            r = c*a/np.sqrt(c**2*np.sin(theta)**2 + a**2*np.cos(theta)**2)\n",
    "            Iyy += t*(r**2*np.sin(theta)**2*np.cos(phi)**2 + r**2*np.cos(theta)**2)*rho*r**2*np.sin(theta)*dtheta*dphi\n",
    "            \n",
    "print('Iyy =', Iyy)"
   ],
   "metadata": {
    "collapsed": false,
    "ExecuteTime": {
     "end_time": "2025-02-13T19:06:33.661748Z",
     "start_time": "2025-02-13T19:06:29.325832Z"
    }
   },
   "id": "7b623e34328ba015",
   "outputs": [
    {
     "name": "stdout",
     "output_type": "stream",
     "text": [
      "Iyy = 0.0032213205823612826\n"
     ]
    }
   ],
   "execution_count": 8
  },
  {
   "cell_type": "code",
   "source": [
    "# Calculate the moment of inertia - Izz\n",
    "\n",
    "# Calculate the integral\n",
    "Izz = 0\n",
    "for i in range(n):\n",
    "    for j in range(n):\n",
    "            theta = np.pi*i/n\n",
    "            phi = 2*np.pi*j/n\n",
    "            r = c*a/np.sqrt(c**2*np.sin(theta)**2 + a**2*np.cos(theta)**2)\n",
    "            Izz += t*(r**2*np.sin(theta)**2*np.cos(phi)**2 + r**2*np.sin(theta)**2*np.sin(phi)**2)*rho*r**2*np.sin(theta)*dtheta*dphi\n",
    "          \n",
    "print('Izz =', Izz)"
   ],
   "metadata": {
    "collapsed": false,
    "ExecuteTime": {
     "end_time": "2025-02-13T19:06:38.491369Z",
     "start_time": "2025-02-13T19:06:33.675775Z"
    }
   },
   "id": "608310f535adb790",
   "outputs": [
    {
     "name": "stdout",
     "output_type": "stream",
     "text": [
      "Izz = 0.002002316694263955\n"
     ]
    }
   ],
   "execution_count": 9
  },
  {
   "cell_type": "code",
   "source": [
    "# Calculate the moment of inertia - Ixy\n",
    "\n",
    "# Calculate the integral\n",
    "Ixy = 0\n",
    "for i in range(n):\n",
    "    for j in range(n):\n",
    "            theta = np.pi*i/n\n",
    "            phi = 2*np.pi*j/n\n",
    "            r = c*a/np.sqrt(c**2*np.sin(theta)**2 + a**2*np.cos(theta)**2)\n",
    "            Ixy += t*(r**2*np.sin(theta)**2*np.sin(phi)*np.cos(phi) + r**2*np.cos(theta)**2*np.sin(phi)*np.cos(phi))*rho*r**2*np.sin(theta)*dtheta*dphi\n",
    "            \n",
    "print('Ixy =', Ixy)"
   ],
   "metadata": {
    "collapsed": false,
    "ExecuteTime": {
     "end_time": "2025-02-13T19:06:47.801831Z",
     "start_time": "2025-02-13T19:06:42.216620Z"
    }
   },
   "id": "8ca13844e174c336",
   "outputs": [
    {
     "name": "stdout",
     "output_type": "stream",
     "text": [
      "Ixy = 2.1728644983910302e-20\n"
     ]
    }
   ],
   "execution_count": 10
  },
  {
   "cell_type": "code",
   "source": [
    "# Calculate the moment of inertia from the original formula for solid prolate spheroid\n",
    "\n",
    "I = 2/5*m*c**2*(1 + 1/2*(a/c)**2*np.log((1 + e)/(1 - e)))\n",
    "\n",
    "#print('I =', I)\n",
    "\n",
    "I_numerical = np.array([[Ixx, 0, 0], [0, Iyy, 0], [0, 0, Izz]])\n",
    "\n",
    "print('I_numerical =', I_numerical)\n",
    "\n",
    "print('Ratio of I_zz/I_xx =', Izz/Ixx)"
   ],
   "metadata": {
    "collapsed": false,
    "ExecuteTime": {
     "end_time": "2025-02-13T19:06:49.002315Z",
     "start_time": "2025-02-13T19:06:48.999628Z"
    }
   },
   "id": "d9121af38ef3fbaa",
   "outputs": [
    {
     "name": "stdout",
     "output_type": "stream",
     "text": [
      "I_numerical = [[0.00322132 0.         0.        ]\n",
      " [0.         0.00322132 0.        ]\n",
      " [0.         0.         0.00200232]]\n",
      "Ratio of I_zz/I_xx = 0.6215825600307748\n"
     ]
    }
   ],
   "execution_count": 11
  },
  {
   "cell_type": "code",
   "source": [
    "# Code Testing - spherical shell\n",
    "\n",
    "# if a = c, then the prolate spheroid is a spherical shell\n",
    "# the moment of inertia of a spherical shell is given by I = 2/3 m c^2\n",
    "\n",
    "# Question:  What would be the radius of the sphere, given the volume of the prolate spheroid?\n",
    "# Answer: V = t * A = t * 4 * pi * r_sphere^2\n",
    "# r_sphere = sqrt(V/(t*4*pi))\n",
    "\n",
    "r_sphere = np.sqrt(V/(t*4*np.pi))\n",
    "\n",
    "I_expected = 2/3*m*(r_sphere)**2\n",
    "I_actual_z = I_numerical[2,2]\n",
    "I_actual_x = I_numerical[0,0]\n",
    "I_actual_y = I_numerical[1,1]\n",
    "\n",
    "print('I_expected =', I_expected)\n",
    "print('I_actual_z =', I_actual_z)\n",
    "print('I_actual_x =', I_actual_x)\n",
    "print('I_actual_y =', I_actual_y)"
   ],
   "metadata": {
    "collapsed": false,
    "ExecuteTime": {
     "end_time": "2025-02-13T19:06:50.353443Z",
     "start_time": "2025-02-13T19:06:50.350883Z"
    }
   },
   "id": "27111ac511657e19",
   "outputs": [
    {
     "name": "stdout",
     "output_type": "stream",
     "text": [
      "I_expected = 0.0029121643083816007\n",
      "I_actual_z = 0.002002316694263955\n",
      "I_actual_x = 0.0032213205823612865\n",
      "I_actual_y = 0.0032213205823612826\n"
     ]
    }
   ],
   "execution_count": 12
  },
  {
   "cell_type": "code",
   "source": [
    "# Code Testing - thin rod\n",
    "\n",
    "# if a = 0, then the prolate spheroid is a thin rod\n",
    "# the moment of inertia of a thin rod is given by I = 1/12 m c^2\n",
    "\n",
    "I_expected = 1/12*m*c**2\n",
    "I_actual_z = I_numerical[2,2]\n",
    "I_actual_x = I_numerical[0,0]\n",
    "I_actual_y = I_numerical[1,1]\n",
    "\n",
    "print('I_expected =', I_expected)\n",
    "print('I_actual_z =', I_actual_z)\n",
    "print('I_actual_x =', I_actual_x)\n",
    "print('I_actual_y =', I_actual_y)"
   ],
   "metadata": {
    "collapsed": false,
    "ExecuteTime": {
     "end_time": "2025-02-13T19:06:51.282308Z",
     "start_time": "2025-02-13T19:06:51.279980Z"
    }
   },
   "id": "110cbbab1f7f2eec",
   "outputs": [
    {
     "name": "stdout",
     "output_type": "stream",
     "text": [
      "I_expected = 0.0006838166027416633\n",
      "I_actual_z = 0.002002316694263955\n",
      "I_actual_x = 0.0032213205823612865\n",
      "I_actual_y = 0.0032213205823612826\n"
     ]
    }
   ],
   "execution_count": 13
  },
  {
   "cell_type": "code",
   "source": [
    "print(I_expected/I_actual_x)"
   ],
   "metadata": {
    "collapsed": false,
    "ExecuteTime": {
     "end_time": "2025-02-13T19:06:52.368862Z",
     "start_time": "2025-02-13T19:06:52.366959Z"
    }
   },
   "id": "9b971b36d32ad708",
   "outputs": [
    {
     "name": "stdout",
     "output_type": "stream",
     "text": [
      "0.21227834524945458\n"
     ]
    }
   ],
   "execution_count": 14
  },
  {
   "cell_type": "code",
   "outputs": [],
   "source": [],
   "metadata": {
    "collapsed": false,
    "ExecuteTime": {
     "end_time": "2025-02-13T19:05:00.763297Z",
     "start_time": "2024-02-08T16:38:40.629825Z"
    }
   },
   "id": "4a7836317819e90c",
   "execution_count": 11
  },
  {
   "cell_type": "code",
   "outputs": [],
   "source": [],
   "metadata": {
    "collapsed": false
   },
   "id": "8957901995b828d",
   "execution_count": null
  }
 ],
 "metadata": {
  "kernelspec": {
   "display_name": "Python 3",
   "language": "python",
   "name": "python3"
  },
  "language_info": {
   "codemirror_mode": {
    "name": "ipython",
    "version": 2
   },
   "file_extension": ".py",
   "mimetype": "text/x-python",
   "name": "python",
   "nbconvert_exporter": "python",
   "pygments_lexer": "ipython2",
   "version": "2.7.6"
  }
 },
 "nbformat": 4,
 "nbformat_minor": 5
}
