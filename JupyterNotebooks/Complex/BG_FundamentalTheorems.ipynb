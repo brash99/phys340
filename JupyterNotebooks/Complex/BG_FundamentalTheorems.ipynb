{
 "cells": [
  {
   "cell_type": "markdown",
   "source": [
    "# Fundamental Theorems of Mathematics\n",
    "\n",
    "## Fundamental Theorem of Arithmetic\n",
    "\n",
    "Every integer greater than 1 either is prime itself or is the product of prime numbers, and that this product is unique, up to the order of the factors.\n",
    "\n",
    "Expressed mathematically, the theorem states:\n",
    "\n",
    "$$n = p_1^{\\alpha_1} \\cdot p_2^{\\alpha_2} \\cdot \\ldots \\cdot p_k^{\\alpha_k}$$\n",
    "\n",
    "where $p_1 < p_2 < \\ldots < p_k$ are prime numbers and the $\\alpha_i$ are positive integers."
   ],
   "metadata": {
    "collapsed": false
   },
   "id": "84f03cb714c7462d"
  },
  {
   "cell_type": "code",
   "outputs": [
    {
     "name": "stdout",
     "output_type": "stream",
     "text": [
      "[21649, 513239]\n",
      "Not Prime\n"
     ]
    }
   ],
   "source": [
    "def factorize(n):\n",
    "    factors = []\n",
    "    d = 2\n",
    "    while n > 1:\n",
    "        while n % d == 0:\n",
    "            factors.append(d)\n",
    "            n //= d\n",
    "        d += 1\n",
    "    return factors\n",
    "\n",
    "n = 11111111111\n",
    "\n",
    "print(factorize(n))\n",
    "\n",
    "if (len(factorize(n)) == 1):\n",
    "    print(\"Prime\")\n",
    "else:\n",
    "    print(\"Not Prime\")"
   ],
   "metadata": {
    "collapsed": false,
    "ExecuteTime": {
     "end_time": "2024-02-18T19:01:26.802858Z",
     "start_time": "2024-02-18T19:01:26.751834Z"
    }
   },
   "id": "e6f61dfd04abfdca",
   "execution_count": 1
  },
  {
   "cell_type": "markdown",
   "source": [
    "## Fundamental Theorem of Algebra\n",
    "\n",
    "Every non-constant single-variable polynomial with complex coefficients has at least one complex root.\n",
    "\n",
    "$$p(x) = a_n x^n + a_{n-1} x^{n-1} + \\ldots + a_1 x + a_0$$\n",
    "\n",
    "where $a_n \\neq 0$ and $n \\geq 1$."
   ],
   "metadata": {
    "collapsed": false
   },
   "id": "d506d7e88b89e3c3"
  },
  {
   "cell_type": "markdown",
   "source": [
    "## Fundamental Theorem of Calculus\n",
    "\n",
    "The fundamental theorem of calculus is a theorem that links the concept of the derivative of a function with the concept of the function's integral.\n",
    "\n",
    "$$\\int_a^b f(x) dx = F(b) - F(a)$$\n",
    "\n",
    "where $F$ is any anti-derivative of $f$.\n",
    "\n",
    "The fundamental theorem of calculus comprises two parts, loosely speaking:\n",
    "\n",
    "- The first part says that one of the antiderivatives (also called indefinite integral), say $F$, of some function $f$ may be obtained as the integral of $f$ with a variable bound of integration. This implies that the set of all antiderivatives of $f$ is precisely the set of all functions of the form $F(x) + C$, where $C$ is an arbitrary constant.\n",
    "- The second part states that the definite integral of $f$ over an interval $[a, b]$ can be computed by using any one, say $F$, of its infinitely many antiderivatives. This part of the theorem has key practical applications because explicitly finding the antiderivative of a function by symbolic integration allows for avoiding numerical integration to compute integrals.\n",
    "\n",
    "The derivative of the function $f'$ is defined as:\n",
    "\n",
    "$$f'(x) = \\lim_{h \\to 0} \\frac{f(x+h) - f(x)}{h}$$"
   ],
   "metadata": {
    "collapsed": false
   },
   "id": "f364d7a6ed6eeee6"
  },
  {
   "cell_type": "code",
   "outputs": [],
   "source": [],
   "metadata": {
    "collapsed": false
   },
   "id": "bcb49548eda3707b"
  }
 ],
 "metadata": {
  "kernelspec": {
   "display_name": "Python 3",
   "language": "python",
   "name": "python3"
  },
  "language_info": {
   "codemirror_mode": {
    "name": "ipython",
    "version": 2
   },
   "file_extension": ".py",
   "mimetype": "text/x-python",
   "name": "python",
   "nbconvert_exporter": "python",
   "pygments_lexer": "ipython2",
   "version": "2.7.6"
  }
 },
 "nbformat": 4,
 "nbformat_minor": 5
}
