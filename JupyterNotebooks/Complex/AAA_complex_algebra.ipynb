{
 "cells": [
  {
   "cell_type": "code",
   "execution_count": 3,
   "id": "initial_id",
   "metadata": {
    "collapsed": true,
    "ExecuteTime": {
     "end_time": "2024-02-19T02:25:59.895204Z",
     "start_time": "2024-02-19T02:25:58.936410Z"
    }
   },
   "outputs": [],
   "source": [
    "import numpy as np\n",
    "import matplotlib.pyplot as plt"
   ]
  },
  {
   "cell_type": "markdown",
   "source": [
    "# Complex Algebra\n",
    "\n",
    "Complex numbers are numbers that can be expressed in the form \n",
    "\n",
    "$$z = a + bi$$ \n",
    "\n",
    "where $a$ and $b$ are real numbers, and $i$ is the imaginary unit that satisfies the equation $i^2 = -1$. In this expression, $a$ is the real part and $b$ is the imaginary part of the complex number.\n",
    "\n",
    "## Complex Conjugate\n",
    "\n",
    "The complex conjugate of a complex number is the number with the same real part and an imaginary part equal in magnitude but opposite in sign. It is denoted as $z*$.\n",
    "\n",
    "## Magnitude\n",
    "\n",
    "The magnitude of a complex number is the distance from the origin to the point in the complex plane. It is denoted as $|z|$.\n",
    "\n",
    "From the definition of the magnitude, we can see that \n",
    "$$|z| = \\sqrt{a^2 + b^2}$$\n",
    "\n",
    "## Angle\n",
    "\n",
    "The angle of a complex number is the angle between the real axis and the line joining the origin and the point in the complex plane. It is denoted as $\\theta$.\n",
    "\n",
    "From the definition of the angle, we can see that \n",
    "$$\\theta = \\arctan(\\frac{b}{a})$$\n",
    "\n",
    "## Polar Form\n",
    "\n",
    "The polar form of a complex number is the representation of the number in terms of its magnitude and angle. It is denoted as \n",
    "$$z = r(\\cos(\\theta) + i\\sin(\\theta))$$\n",
    " \n",
    "where $r$ is the magnitude and $\\theta$ is the angle.\n",
    "\n",
    "## Euler's Formula\n",
    "\n",
    "Euler's formula states that \n",
    "$$e^{i\\theta} = \\cos(\\theta) + i\\sin(\\theta)$$\n",
    "\n",
    "Thus, the polar form of a complex number can be written as \n",
    "$$z = re^{i\\theta}$$\n",
    "\n",
    "## Addition and Subtraction\n",
    "\n",
    "Addition and subtraction of complex numbers are done by adding or subtracting the real and imaginary parts separately.  Thus, we have that:\n",
    "\n",
    "$$z_1 + z_2 = (a_1 + a_2) + (b_1 + b_2)i$$\n",
    "\n",
    "$$z_1 - z_2 = (a_1 - a_2) + (b_1 - b_2)i$$\n",
    "\n",
    "## Multiplication\n",
    "\n",
    "Multiplication of complex numbers is done by using the distributive property and the fact that $i^2 = -1$. Thus, we have that:\n",
    "\n",
    "$$z_1z_2 = (a_1a_2 - b_1b_2) + (a_1b_2 + a_2b_1)i$$\n",
    "\n",
    "Using the polar form of the numbers, we can also write the multiplication as:\n",
    "\n",
    "$$z_1z_2 = r_1r_2 e^{i(\\theta_1 + \\theta_2)}$$\n",
    "\n",
    "## Division\n",
    "\n",
    "Division of complex numbers is done by multiplying the numerator and denominator by the complex conjugate of the denominator. Thus, we have that:\n",
    "\n",
    "$$\\frac{z_1}{z_2} = \\frac{z_1z_2^*}{z_2z_2^*}$$\n",
    "\n",
    "Using the polar form of the numbers, we can also write the division as:\n",
    "\n",
    "$$\\frac{z_1}{z_2} = \\frac{r_1}{r_2} e^{i(\\theta_1 - \\theta_2)}$$\n",
    "\n",
    "## Power\n",
    "\n",
    "The power of a complex number is done by using the polar form of the number. Thus, we have that:\n",
    "\n",
    "$$z^n = r^n e^{in\\theta}$$\n",
    "\n",
    "## Square Root\n",
    "\n",
    "The square root of a complex number is done by using the polar form of the number. Thus, we have that:\n",
    "\n",
    "$$\\sqrt{z} = \\sqrt{r} e^{i\\theta/2}$$\n",
    "\n",
    "\n"
   ],
   "metadata": {
    "collapsed": false
   },
   "id": "1a22e35c38e906d8"
  },
  {
   "cell_type": "code",
   "outputs": [
    {
     "name": "stdout",
     "output_type": "stream",
     "text": [
      "c1: 0.707+0.707j\n",
      "c2: 0.000+1.000j\n",
      "additions: 0.707+1.707j\n",
      "subtraction: 0.707-0.293j\n",
      "multiplication: -0.707+0.707j , angle = 135.000\n",
      "division: 0.707-0.707j , angle = -45.000\n"
     ]
    }
   ],
   "source": [
    "theta1d = 45.0\n",
    "theta2d = 90.0\n",
    "\n",
    "theta1 = theta1d*np.pi/180.0\n",
    "theta2 = theta2d*np.pi/180.0\n",
    "\n",
    "c1 = np.cos(theta1) + 1j*np.sin(theta1)\n",
    "c2 = np.cos(theta2) + 1j*np.sin(theta2)\n",
    "\n",
    "\n",
    "print('c1: {:.3f}'.format(c1))\n",
    "print('c2: {:.3f}'.format(c2))\n",
    "\n",
    "cadd = c1 + c2\n",
    "csub = c1 - c2\n",
    "c3 = c1*c2\n",
    "c4 = c1/c2\n",
    "\n",
    "theta3 = np.angle(c3)*180.0/np.pi\n",
    "theta4 = np.angle(c4)*180.0/np.pi\n",
    "\n",
    "print('additions: {:.3f}'.format(cadd))\n",
    "print('subtraction: {:.3f}'.format(csub))\n",
    "print('multiplication: {:.3f} , angle = {:.3f}'.format(c3, theta3))\n",
    "print('division: {:.3f} , angle = {:.3f}'.format(c4, theta4))"
   ],
   "metadata": {
    "collapsed": false,
    "ExecuteTime": {
     "end_time": "2024-02-19T02:26:00.352694Z",
     "start_time": "2024-02-19T02:26:00.348926Z"
    }
   },
   "id": "33ae101a2e27ed4",
   "execution_count": 4
  },
  {
   "cell_type": "code",
   "outputs": [
    {
     "name": "stdout",
     "output_type": "stream",
     "text": [
      "c1: 4.000+3.000j\n",
      "c2: 2.000-1.000j\n",
      "additions: 6.000+2.000j\n",
      "subtraction: 2.000+4.000j\n",
      "multiplication: 11.000+2.000j , angle = 10.305\n",
      "division: 1.000+2.000j , angle = 63.435\n"
     ]
    }
   ],
   "source": [
    "c1 = 4 + 3j\n",
    "c2 = 2 - 1j\n",
    "\n",
    "print('c1: {:.3f}'.format(c1))\n",
    "print('c2: {:.3f}'.format(c2))\n",
    "\n",
    "cadd = c1 + c2\n",
    "csub = c1 - c2\n",
    "c3 = c1*c2\n",
    "c4 = c1/c2\n",
    "\n",
    "theta3 = np.angle(c3)*180.0/np.pi\n",
    "theta4 = np.angle(c4)*180.0/np.pi\n",
    "\n",
    "print('additions: {:.3f}'.format(cadd))\n",
    "print('subtraction: {:.3f}'.format(csub))\n",
    "print('multiplication: {:.3f} , angle = {:.3f}'.format(c3, theta3))\n",
    "print('division: {:.3f} , angle = {:.3f}'.format(c4, theta4))\n"
   ],
   "metadata": {
    "collapsed": false,
    "ExecuteTime": {
     "end_time": "2024-02-19T02:26:01.760143Z",
     "start_time": "2024-02-19T02:26:01.754096Z"
    }
   },
   "id": "ba8a873fce7942ef",
   "execution_count": 5
  },
  {
   "cell_type": "code",
   "outputs": [
    {
     "name": "stdout",
     "output_type": "stream",
     "text": [
      "c5 = c1**7 = -16124.000-76443.000j\n"
     ]
    }
   ],
   "source": [
    "c5 = c1**7\n",
    "\n",
    "print('c5 = c1**7 = {:.3f}'.format(c5))"
   ],
   "metadata": {
    "collapsed": false,
    "ExecuteTime": {
     "end_time": "2024-02-19T02:26:02.556953Z",
     "start_time": "2024-02-19T02:26:02.554685Z"
    }
   },
   "id": "9e68bf5ee2b95d92",
   "execution_count": 6
  },
  {
   "cell_type": "code",
   "outputs": [
    {
     "name": "stdout",
     "output_type": "stream",
     "text": [
      "c6 = sqrt(c1) = 2.121+0.707j\n"
     ]
    }
   ],
   "source": [
    "c6 = np.sqrt(c1)\n",
    "\n",
    "print('c6 = sqrt(c1) = {:.3f}'.format(c6))"
   ],
   "metadata": {
    "collapsed": false,
    "ExecuteTime": {
     "end_time": "2024-02-19T02:26:03.167755Z",
     "start_time": "2024-02-19T02:26:03.165614Z"
    }
   },
   "id": "88bc6ea6cbd438f8",
   "execution_count": 7
  },
  {
   "cell_type": "code",
   "execution_count": 7,
   "outputs": [],
   "source": [],
   "metadata": {
    "collapsed": false,
    "ExecuteTime": {
     "end_time": "2024-02-19T02:26:03.758613Z",
     "start_time": "2024-02-19T02:26:03.756858Z"
    }
   },
   "id": "a1a415f1931c9c42"
  },
  {
   "cell_type": "code",
   "execution_count": 7,
   "outputs": [],
   "source": [],
   "metadata": {
    "collapsed": false,
    "ExecuteTime": {
     "end_time": "2024-02-19T02:26:04.270967Z",
     "start_time": "2024-02-19T02:26:04.269391Z"
    }
   },
   "id": "f760d90126f2ac08"
  },
  {
   "cell_type": "code",
   "execution_count": 8,
   "outputs": [
    {
     "name": "stdout",
     "output_type": "stream",
     "text": [
      "multiplication:\n",
      "-c1i⋅c2i + ⅈ⋅c1i⋅c2r + ⅈ⋅c1r⋅c2i + c1r⋅c2r\n",
      "\n",
      "division:\n",
      "   ⅈ⋅c1i          c1r    \n",
      "─────────── + ───────────\n",
      "ⅈ⋅c2i + c2r   ⅈ⋅c2i + c2r\n",
      "\n",
      "addition:\n",
      "ⅈ⋅c1i + c1r + ⅈ⋅c2i + c2r\n",
      "\n",
      "subtraction:\n",
      "ⅈ⋅c1i + c1r - ⅈ⋅c2i - c2r\n",
      "\n",
      "power:\n",
      "       7        6               5    2         4    3           3    4        \n",
      "- ⅈ⋅c1i  - 7⋅c1i ⋅c1r + 21⋅ⅈ⋅c1i ⋅c1r  + 35⋅c1i ⋅c1r  - 35⋅ⅈ⋅c1i ⋅c1r  - 21⋅c1\n",
      "\n",
      " 2    5              6      7\n",
      "i ⋅c1r  + 7⋅ⅈ⋅c1i⋅c1r  + c1r \n",
      "\n",
      "sqrt:\n",
      "  _____________\n",
      "╲╱ ⅈ⋅c1i + c1r \n",
      "\n",
      "Substituting values:\n",
      "\n",
      "multiplication:\n",
      "11 + 2⋅ⅈ\n",
      "division:\n",
      "1 + 2⋅ⅈ\n",
      "addition:\n",
      "6 + 2⋅ⅈ\n",
      "subtraction:\n",
      "2 + 4⋅ⅈ\n",
      "power:\n",
      "-16124 - 76443⋅ⅈ\n",
      "sqrt:\n",
      "√2⋅(3 + ⅈ)\n",
      "──────────\n",
      "    2     \n"
     ]
    }
   ],
   "source": [
    "import sympy as sym\n",
    "c1r, c1i, c2r, c2i = sym.symbols('c1r c1i c2r c2i', real=True)\n",
    "c1 = c1r + sym.I*c1i\n",
    "c2 = c2r + sym.I*c2i\n",
    "\n",
    "expr_mult = c1*c2\n",
    "expr_mult = sym.expand(expr_mult)\n",
    "\n",
    "print('multiplication:')\n",
    "sym.pprint(expr_mult)\n",
    "print()\n",
    "\n",
    "expr_div = c1/c2\n",
    "expr_div = sym.expand(expr_div)\n",
    "\n",
    "print('division:')\n",
    "sym.pprint(expr_div)\n",
    "print()\n",
    "\n",
    "expr_add = c1+c2\n",
    "expr_add = sym.expand(expr_add)\n",
    "\n",
    "print('addition:')\n",
    "sym.pprint(expr_add)\n",
    "print()\n",
    "\n",
    "expr_sub = c1-c2\n",
    "expr_sub = sym.expand(expr_sub)\n",
    "\n",
    "print('subtraction:')\n",
    "sym.pprint(expr_sub)\n",
    "print()\n",
    "\n",
    "expr_power = c1**7\n",
    "expr_power = sym.expand(expr_power)\n",
    "\n",
    "print('power:')\n",
    "sym.pprint(expr_power)\n",
    "print()\n",
    "\n",
    "expr_sqrt = sym.sqrt(c1)\n",
    "expr_sqrt = sym.expand(expr_sqrt)\n",
    "\n",
    "print('sqrt:')\n",
    "sym.pprint(expr_sqrt)\n",
    "print()\n",
    "\n",
    "print(\"Substituting values:\")\n",
    "print()\n",
    "\n",
    "print('multiplication:')\n",
    "sym.pprint(sym.simplify(expr_mult.subs({c1r:4, c1i:3, c2r:2, c2i:-1})))\n",
    "print('division:')\n",
    "sym.pprint(sym.simplify(expr_div.subs({c1r:4, c1i:3, c2r:2, c2i:-1})))\n",
    "print('addition:')\n",
    "sym.pprint(sym.simplify(expr_add.subs({c1r:4, c1i:3, c2r:2, c2i:-1})))\n",
    "print('subtraction:')\n",
    "sym.pprint(sym.simplify(expr_sub.subs({c1r:4, c1i:3, c2r:2, c2i:-1})))\n",
    "print('power:')\n",
    "sym.pprint(sym.simplify(expr_power.subs({c1r:4, c1i:3})))\n",
    "print('sqrt:')\n",
    "sym.pprint(sym.simplify(expr_sqrt.subs({c1r:4, c1i:3})))\n",
    "\n"
   ],
   "metadata": {
    "collapsed": false,
    "ExecuteTime": {
     "end_time": "2024-02-19T02:26:06.021048Z",
     "start_time": "2024-02-19T02:26:04.744251Z"
    }
   },
   "id": "46451fbf2b1efe12"
  },
  {
   "cell_type": "code",
   "execution_count": 8,
   "outputs": [],
   "source": [],
   "metadata": {
    "collapsed": false,
    "ExecuteTime": {
     "end_time": "2024-01-22T15:30:26.388055Z",
     "start_time": "2024-01-22T15:30:26.385807Z"
    }
   },
   "id": "fb4f976860bb5c77"
  },
  {
   "cell_type": "code",
   "execution_count": 8,
   "outputs": [],
   "source": [],
   "metadata": {
    "collapsed": false,
    "ExecuteTime": {
     "end_time": "2024-01-22T15:30:27.251037Z",
     "start_time": "2024-01-22T15:30:27.249318Z"
    }
   },
   "id": "80e1c5fb2a48747d"
  },
  {
   "cell_type": "code",
   "outputs": [],
   "source": [],
   "metadata": {
    "collapsed": false
   },
   "id": "a8481998c9019c7c"
  }
 ],
 "metadata": {
  "kernelspec": {
   "display_name": "Python 3",
   "language": "python",
   "name": "python3"
  },
  "language_info": {
   "codemirror_mode": {
    "name": "ipython",
    "version": 2
   },
   "file_extension": ".py",
   "mimetype": "text/x-python",
   "name": "python",
   "nbconvert_exporter": "python",
   "pygments_lexer": "ipython2",
   "version": "2.7.6"
  }
 },
 "nbformat": 4,
 "nbformat_minor": 5
}
