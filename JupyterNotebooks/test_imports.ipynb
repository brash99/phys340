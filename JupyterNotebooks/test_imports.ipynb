{
 "cells": [
  {
   "cell_type": "code",
   "execution_count": 1,
   "id": "initial_id",
   "metadata": {
    "collapsed": true,
    "ExecuteTime": {
     "end_time": "2024-04-09T13:45:47.868274Z",
     "start_time": "2024-04-09T13:45:47.712438Z"
    }
   },
   "outputs": [
    {
     "name": "stdout",
     "output_type": "stream",
     "text": [
      "sys.executable:  /Users/brash/anaconda3/bin/python\n",
      "-----------------\n",
      "python is /Users/brash/anaconda3/bin/python\r\n",
      "-----------------\n",
      "['/Users/brash/phys340/JupyterNotebooks',\n",
      " '/Users/brash/phys340',\n",
      " '/Users/brash/anaconda3/lib/python311.zip',\n",
      " '/Users/brash/anaconda3/lib/python3.11',\n",
      " '/Users/brash/anaconda3/lib/python3.11/lib-dynload',\n",
      " '',\n",
      " '/Users/brash/.local/lib/python3.11/site-packages',\n",
      " '/Users/brash/anaconda3/lib/python3.11/site-packages',\n",
      " '/Users/brash/anaconda3/lib/python3.11/site-packages/aeosa',\n",
      " '/Users/brash/anaconda3/lib/python3.11/site-packages/SCons-4.6.0-py3.11.egg']\n"
     ]
    }
   ],
   "source": [
    "sys_values = True\n",
    "if (sys_values):\n",
    "    import sys\n",
    "    print(\"sys.executable: \", sys.executable)\n",
    "    print(\"-----------------\")\n",
    "    !type python\n",
    "    print(\"-----------------\")\n",
    "    from pprint import pprint as p\n",
    "    p(sys.path)"
   ]
  },
  {
   "cell_type": "code",
   "outputs": [],
   "source": [
    "from mpl_toolkits.mplot3d import Axes3D\n",
    "from pprint import pprint\n",
    "from sympy.vector import CoordSys3D\n",
    "import sys    \n",
    "import os   \n",
    "from array import array \n",
    "from functools import lru_cache \n",
    "from matplotlib import cm as cm\n",
    "from mpl_toolkits.axes_grid1 import make_axes_locatable \n",
    "from mpl_toolkits.mplot3d import Axes3D \n",
    "from scipy import integrate \n",
    "from scipy import signal \n",
    "from scipy.fftpack import fft \n",
    "from scipy.integrate import dblquad \n",
    "from scipy.integrate import tplquad \n",
    "from scipy.optimize import fsolve \n",
    "from scipy.special import gamma, factorial\n",
    "from sympy.vector import CoordSys3D \n",
    "from timer import Timer \n",
    "import decimal as dec \n",
    "import librosa   \n",
    "import librosa.display   \n",
    "import math   \n",
    "import matplotlib.animation as animation \n",
    "import matplotlib.pyplot as plt \n",
    "import numpy as np \n",
    "import numpy.random as random \n",
    "import pandas as pd \n",
    "import platform   \n",
    "import random   \n",
    "import rk_functions as rk \n",
    "import sympy as sp \n",
    "import time"
   ],
   "metadata": {
    "collapsed": false,
    "ExecuteTime": {
     "end_time": "2024-04-09T13:48:00.696965Z",
     "start_time": "2024-04-09T13:47:52.455464Z"
    }
   },
   "id": "cb73ba2f2fdba9c5",
   "execution_count": 2
  },
  {
   "cell_type": "code",
   "outputs": [],
   "source": [],
   "metadata": {
    "collapsed": false
   },
   "id": "878af9acdca491e2"
  }
 ],
 "metadata": {
  "kernelspec": {
   "display_name": "Python 3",
   "language": "python",
   "name": "python3"
  },
  "language_info": {
   "codemirror_mode": {
    "name": "ipython",
    "version": 2
   },
   "file_extension": ".py",
   "mimetype": "text/x-python",
   "name": "python",
   "nbconvert_exporter": "python",
   "pygments_lexer": "ipython2",
   "version": "2.7.6"
  }
 },
 "nbformat": 4,
 "nbformat_minor": 5
}
