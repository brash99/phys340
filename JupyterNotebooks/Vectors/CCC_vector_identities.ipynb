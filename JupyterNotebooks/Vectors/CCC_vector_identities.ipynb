{
 "cells": [
  {
   "cell_type": "markdown",
   "source": [
    "# Potentially useful vector identities\n",
    "\n",
    "We have seen how to calculate the scalar and vector products of two vectors. We can also calculate the scalar triple product and the vector triple product. These are defined as follows:\n",
    "\n",
    "$$\n",
    "\\begin{align}\n",
    "\\mathbf{a} \\cdot (\\mathbf{b} \\times \\mathbf{c}) &= \\mathbf{b} \\cdot (\\mathbf{c} \\times \\mathbf{a}) = \\mathbf{c} \\cdot (\\mathbf{a} \\times \\mathbf{b}) \\\\\n",
    "\\mathbf{a} \\times (\\mathbf{b} \\times \\mathbf{c}) &= \\mathbf{b}(\\mathbf{a} \\cdot \\mathbf{c}) - \\mathbf{c}(\\mathbf{a} \\cdot \\mathbf{b}) \\\\\n",
    "\\end{align}\n",
    "$$\n",
    "\n",
    "You will find many other useful vector identities in the table below."
   ],
   "metadata": {
    "collapsed": false
   },
   "id": "a6ef8312bc3946a4"
  },
  {
   "cell_type": "markdown",
   "source": [
    "[Wikipedia](https://en.wikipedia.org/wiki/Vector_algebra_relations)"
   ],
   "metadata": {
    "collapsed": false
   },
   "id": "3b57df1b9cb6754c"
  },
  {
   "cell_type": "markdown",
   "source": [
    "# Example\n",
    "\n",
    "Prove the following vector identity:\n",
    "\n",
    "$$\n",
    "(\\mathbf{a} \\times \\mathbf{b}) \\cdot (\\mathbf{c} \\times \\mathbf{d}) = (\\mathbf{a} \\cdot \\mathbf{c})(\\mathbf{b} \\cdot \\mathbf{d}) - (\\mathbf{a} \\cdot \\mathbf{d})(\\mathbf{b} \\cdot \\mathbf{c})$$\n",
    "\n",
    "## Solution\n",
    "\n",
    "Assume the following definitions:\n",
    "\n",
    "$$\n",
    "\\begin{align}\n",
    "\\mathbf{a} &= a_1\\mathbf{i} + a_2\\mathbf{j} + a_3\\mathbf{k} \\\\\n",
    "\\mathbf{b} &= b_1\\mathbf{i} + b_2\\mathbf{j} + b_3\\mathbf{k} \\\\\n",
    "\\mathbf{c} &= c_1\\mathbf{i} + c_2\\mathbf{j} + c_3\\mathbf{k} \\\\\n",
    "\\mathbf{d} &= d_1\\mathbf{i} + d_2\\mathbf{j} + d_3\\mathbf{k} \\\\\n",
    "\\end{align}\n",
    "$$\n",
    "\n",
    "We can then calculate the left-hand side of the equation:\n",
    "\n",
    "$$\n",
    "\\begin{align}\n",
    "(\\mathbf{a} \\times \\mathbf{b}) = \\begin{vmatrix}\n",
    "\\mathbf{i} & \\mathbf{j} & \\mathbf{k} \\\\\n",
    "a_1 & a_2 & a_3 \\\\\n",
    "b_1 & b_2 & b_3 \\\\\n",
    "\\end{vmatrix} &= (a_2b_3 - a_3b_2)\\mathbf{i} - (a_1b_3 - a_3b_1)\\mathbf{j} + (a_1b_2 - a_2b_1)\\mathbf{k} \\\\\n",
    "(\\mathbf{c} \\times \\mathbf{d}) = \\begin{vmatrix}\n",
    "\\mathbf{i} & \\mathbf{j} & \\mathbf{k} \\\\\n",
    "c_1 & c_2 & c_3 \\\\\n",
    "d_1 & d_2 & d_3 \\\\\n",
    "\\end{vmatrix} &= (c_2d_3 - c_3d_2)\\mathbf{i} - (c_1d_3 - c_3d_1)\\mathbf{j} + (c_1d_2 - c_2d_1)\\mathbf{k} \\\\\n",
    "\\end{align}\n",
    "$$\n",
    "\n",
    "Thus, the left-hand side of the equation is:\n",
    "\n",
    "$$\n",
    "\\begin{align}\n",
    "(\\mathbf{a} \\times \\mathbf{b}) \\cdot (\\mathbf{c} \\times \\mathbf{d}) &= (a_2b_3 - a_3b_2)(c_2d_3 - c_3d_2) + (a_1b_3 - a_3b_1)(c_1d_3 - c_3d_1) + (a_1b_2 - a_2b_1)(c_1d_2 - c_2d_1) \\\\\n",
    "&= \\colorbox{red}{a_2b_3c_2d_3} - \\colorbox{red}{a_2b_3c_3d_2} - \\colorbox{green}{a_3b_2c_2d_3} + \\colorbox{green}{a_3b_2c_3d_2} +\\\\\n",
    "& \\colorbox{blue}{a_1b_3c_1d_3} - \\colorbox{blue}{a_1b_3c_3d_1} - \\colorbox{green}{a_3b_1c_1d_3} + \\colorbox{green}{a_3b_1c_3d_1} + \\\\\n",
    "& \\colorbox{blue}{a_1b_2c_1d_2} - \\colorbox{blue}{a_1b_2c_2d_1} + \\colorbox{red}{a_2b_1c_2d_1} - \\colorbox{red}{a_2b_1c_1d_2} \\\\\n",
    "\\end{align}\n",
    "$$\n",
    "\n",
    "Now, turning to the right-hand side of the equation:\n",
    "\n",
    "$$\n",
    "\\begin{align}\n",
    "(\\mathbf{a} \\cdot \\mathbf{c}) = a_1c_1 + a_2c_2 + a_3c_3 \\\\\n",
    "(\\mathbf{b} \\cdot \\mathbf{d}) = b_1d_1 + b_2d_2 + b_3d_3 \\\\\n",
    "(\\mathbf{a} \\cdot \\mathbf{d}) = a_1d_1 + a_2d_2 + a_3d_3 \\\\\n",
    "(\\mathbf{b} \\cdot \\mathbf{c}) = b_1c_1 + b_2c_2 + b_3c_3 \\\\\n",
    "\\end{align}\n",
    "$$\n",
    "\n",
    "Thus, the first term of the right-hand side of the equation is:\n",
    "\n",
    "$$\n",
    "\\begin{align}\n",
    "(\\mathbf{a} \\cdot \\mathbf{c})(\\mathbf{b} \\cdot \\mathbf{d}) &= (a_1c_1 + a_2c_2 + a_3c_3)(b_1d_1 + b_2d_2 + b_3d_3) \\\\\n",
    "&= a_1b_1c_1d_1 + a_1b_2c_1d_2 + a_1b_3c_1d_3 + a_2b_1c_2d_1 + a_2b_2c_2d_2 + a_2b_3c_2d_3 + a_3b_1c_3d_1 + a_3b_2c_3d_2 + a_3b_3c_3d_3\n",
    "\\end{align}\n",
    "$$\n",
    "\n",
    "The second term of the right-hand side of the equation is:\n",
    "\n",
    "$$\n",
    "\\begin{align}\n",
    "(\\mathbf{a} \\cdot \\mathbf{d})(\\mathbf{b} \\cdot \\mathbf{c}) &= (a_1d_1 + a_2d_2 + a_3d_3)(b_1c_1 + b_2c_2 + b_3c_3) \\\\\n",
    "&= a_1b_1c_1d_1 + a_1b_2c_2d_1 + a_1b_3c_3d_1 + a_2b_1c_1d_2 + a_2b_2c_2d_2 + a_2b_3c_3d_2 + a_3b_1c_1d_3 + a_3b_2c_2d_3 + a_3b_3c_3d_3\n",
    "\\end{align}\n",
    "$$\n",
    "\n",
    "Thus, the right-hand side of the equation is:\n",
    "\n",
    "$$\n",
    "\\begin{align}\n",
    "(\\mathbf{a} \\cdot \\mathbf{c})(\\mathbf{b} \\cdot \\mathbf{d}) - (\\mathbf{a} \\cdot \\mathbf{d})(\\mathbf{b} \\cdot \\mathbf{c}) &= a_1b_1c_1d_1 + a_1b_2c_1d_2 + a_1b_3c_1d_3 + a_2b_1c_2d_1 + a_2b_2c_2d_2 + a_2b_3c_2d_3 + a_3b_1c_3d_1 + a_3b_2c_3d_2 + a_3b_3c_3d_3 \\\\\n",
    "&- a_1b_1c_1d_1 - a_1b_2c_2d_1 - a_1b_3c_3d_1 - a_2b_1c_1d_2 - a_2b_2c_2d_2 - a_2b_3c_3d_2 - a_3b_1c_1d_3 - a_3b_2c_2d_3 - a_3b_3c_3d_3 \\\\\n",
    "&= \\colorbox{blue}{a_1b_2c_1d_2} + \\colorbox{blue}{a_1b_3c_1d_3} + \\colorbox{red}{a_2b_1c_2d_1} + \\colorbox{red}{a_2b_3c_2d_3} + \\\\\n",
    "& \\colorbox{green}{a_3b_1c_3d_1} + \\colorbox{green}{a_3b_2c_3d_2} - \\colorbox{blue}{a_1b_2c_2d_1} - \\colorbox{blue}{a_1b_3c_3d_1} \\\\\n",
    "& - \\colorbox{red}{a_2b_1c_1d_2} - \\colorbox{red}{a_2b_3c_3d_2} - \\colorbox{green}{a_3b_1c_1d_3} - \\colorbox{green}{a_3b_2c_2d_3} \\\\\n",
    "\\end{align}\n",
    "$$\n",
    "\n",
    "A comparison of the red, green, and blue terms on each of the left-hand side and the right-hand side of the equation shows that they are equal. Thus, the identity is proven."
   ],
   "metadata": {
    "collapsed": false
   },
   "id": "240c7cd2d8e50736"
  },
  {
   "cell_type": "code",
   "outputs": [
    {
     "name": "stdout",
     "output_type": "stream",
     "text": [
      "lhs =  (a1*b2 - a2*b1)*(c1*d2 - c2*d1) + (-a1*b3 + a3*b1)*(-c1*d3 + c3*d1) + (a2*b3 - a3*b2)*(c2*d3 - c3*d2)\n",
      "rhs =  (a1*c1 + a2*c2 + a3*c3)*(b1*d1 + b2*d2 + b3*d3) - (a1*d1 + a2*d2 + a3*d3)*(b1*c1 + b2*c2 + b3*c3)\n",
      "lhs - rhs =  0\n"
     ]
    }
   ],
   "source": [
    "import sympy as sp\n",
    "\n",
    "a1, a2, a3, b1, b2, b3, c1, c2, c3, d1, d2, d3 = sp.symbols('a1 a2 a3 b1 b2 b3 c1 c2 c3 d1 d2 d3')\n",
    "\n",
    "a = sp.Matrix([a1, a2, a3])\n",
    "b = sp.Matrix([b1, b2, b3])\n",
    "c = sp.Matrix([c1, c2, c3])\n",
    "d = sp.Matrix([d1, d2, d3])\n",
    "\n",
    "lhs = a.cross(b).dot(c.cross(d))\n",
    "rhs = (a.dot(c) * b.dot(d)) - (a.dot(d) * b.dot(c))\n",
    "\n",
    "print (\"lhs = \", lhs)\n",
    "print (\"rhs = \", rhs)\n",
    "print (\"lhs - rhs = \", sp.simplify(lhs - rhs))"
   ],
   "metadata": {
    "collapsed": false,
    "ExecuteTime": {
     "end_time": "2024-03-04T19:52:52.702611Z",
     "start_time": "2024-03-04T19:52:52.667046Z"
    }
   },
   "id": "be785875c1915238",
   "execution_count": 2
  },
  {
   "cell_type": "code",
   "outputs": [
    {
     "name": "stdout",
     "output_type": "stream",
     "text": [
      "lhs =  Matrix([[a2*(b1*c2 - b2*c1) - a3*(-b1*c3 + b3*c1)], [-a1*(b1*c2 - b2*c1) + a3*(b2*c3 - b3*c2)], [a1*(-b1*c3 + b3*c1) - a2*(b2*c3 - b3*c2)]])\n",
      "rhs =  Matrix([[b1*(a1*c1 + a2*c2 + a3*c3) - c1*(a1*b1 + a2*b2 + a3*b3)], [b2*(a1*c1 + a2*c2 + a3*c3) - c2*(a1*b1 + a2*b2 + a3*b3)], [b3*(a1*c1 + a2*c2 + a3*c3) - c3*(a1*b1 + a2*b2 + a3*b3)]])\n",
      "lhs - rhs =  Matrix([[0], [0], [0]])\n"
     ]
    }
   ],
   "source": [
    "# Vector Triple Product\n",
    "\n",
    "a = sp.Matrix([a1, a2, a3])\n",
    "b = sp.Matrix([b1, b2, b3])\n",
    "c = sp.Matrix([c1, c2, c3])\n",
    "\n",
    "lhs = a.cross(b.cross(c))\n",
    "rhs = (a.dot(c) * b) - (a.dot(b) * c)\n",
    "\n",
    "print (\"lhs = \", lhs)\n",
    "print (\"rhs = \", rhs)\n",
    "print (\"lhs - rhs = \", sp.simplify(lhs - rhs))"
   ],
   "metadata": {
    "collapsed": false,
    "ExecuteTime": {
     "end_time": "2024-03-04T19:54:34.849539Z",
     "start_time": "2024-03-04T19:54:34.787337Z"
    }
   },
   "id": "29d6779e0396b41",
   "execution_count": 3
  },
  {
   "cell_type": "code",
   "outputs": [
    {
     "name": "stdout",
     "output_type": "stream",
     "text": [
      "lhs =  a1*(b2*c3 - b3*c2) + a2*(-b1*c3 + b3*c1) + a3*(b1*c2 - b2*c1)\n",
      "rhs =  c1*(a2*b3 - a3*b2) + c2*(-a1*b3 + a3*b1) + c3*(a1*b2 - a2*b1)\n",
      "lhs - rhs =  0\n"
     ]
    }
   ],
   "source": [
    "# Scalar Triple Product\n",
    "\n",
    "a = sp.Matrix([a1, a2, a3])\n",
    "b = sp.Matrix([b1, b2, b3])\n",
    "c = sp.Matrix([c1, c2, c3])\n",
    "\n",
    "lhs = a.dot(b.cross(c))\n",
    "rhs = c.dot(a.cross(b))\n",
    "\n",
    "print (\"lhs = \", lhs)\n",
    "print (\"rhs = \", rhs)\n",
    "print (\"lhs - rhs = \", sp.simplify(lhs - rhs))"
   ],
   "metadata": {
    "collapsed": false,
    "ExecuteTime": {
     "end_time": "2024-03-04T19:55:01.029526Z",
     "start_time": "2024-03-04T19:55:00.998905Z"
    }
   },
   "id": "a73a10bc6a1bda16",
   "execution_count": 4
  },
  {
   "cell_type": "code",
   "outputs": [],
   "source": [],
   "metadata": {
    "collapsed": false
   },
   "id": "20d41b692cadb7c1"
  }
 ],
 "metadata": {
  "kernelspec": {
   "display_name": "Python 3",
   "language": "python",
   "name": "python3"
  },
  "language_info": {
   "codemirror_mode": {
    "name": "ipython",
    "version": 2
   },
   "file_extension": ".py",
   "mimetype": "text/x-python",
   "name": "python",
   "nbconvert_exporter": "python",
   "pygments_lexer": "ipython2",
   "version": "2.7.6"
  }
 },
 "nbformat": 4,
 "nbformat_minor": 5
}
