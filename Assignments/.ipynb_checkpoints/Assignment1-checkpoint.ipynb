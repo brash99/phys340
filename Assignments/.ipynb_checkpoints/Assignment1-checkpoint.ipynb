{
 "cells": [
  {
   "cell_type": "markdown",
   "source": [
    "# Assignment 1 Solutions"
   ],
   "metadata": {
    "collapsed": false
   },
   "id": "b64e77be556797ad"
  },
  {
   "cell_type": "code",
   "outputs": [
    {
     "name": "stdout",
     "output_type": "stream",
     "text": [
      "Requirement already satisfied: sympy in /opt/homebrew/lib/python3.11/site-packages (1.12)\r\n",
      "Requirement already satisfied: mpmath>=0.19 in /opt/homebrew/lib/python3.11/site-packages (from sympy) (1.3.0)\r\n"
     ]
    },
    {
     "ename": "ModuleNotFoundError",
     "evalue": "No module named 'sympy'",
     "output_type": "error",
     "traceback": [
      "\u001B[0;31m---------------------------------------------------------------------------\u001B[0m",
      "\u001B[0;31mModuleNotFoundError\u001B[0m                       Traceback (most recent call last)",
      "Cell \u001B[0;32mIn[5], line 3\u001B[0m\n\u001B[1;32m      1\u001B[0m \u001B[38;5;28;01mimport\u001B[39;00m \u001B[38;5;21;01mnumpy\u001B[39;00m \u001B[38;5;28;01mas\u001B[39;00m \u001B[38;5;21;01mnp\u001B[39;00m\n\u001B[1;32m      2\u001B[0m get_ipython()\u001B[38;5;241m.\u001B[39msystem(\u001B[38;5;124m'\u001B[39m\u001B[38;5;124mpip install sympy\u001B[39m\u001B[38;5;124m'\u001B[39m)\n\u001B[0;32m----> 3\u001B[0m \u001B[38;5;28;01mimport\u001B[39;00m \u001B[38;5;21;01msympy\u001B[39;00m \u001B[38;5;28;01mas\u001B[39;00m \u001B[38;5;21;01msym\u001B[39;00m\n",
      "\u001B[0;31mModuleNotFoundError\u001B[0m: No module named 'sympy'"
     ]
    }
   ],
   "source": [
    "import numpy as np\n",
    "!pip install sympy\n",
    "import sympy as sym"
   ],
   "metadata": {
    "collapsed": false,
    "ExecuteTime": {
     "end_time": "2024-01-19T15:26:10.768281Z",
     "start_time": "2024-01-19T15:26:10.028651Z"
    }
   },
   "id": "3fe5a580020aa4cb",
   "execution_count": 5
  },
  {
   "cell_type": "code",
   "outputs": [
    {
     "name": "stdout",
     "output_type": "stream",
     "text": [
      "9.643650760992955\n"
     ]
    },
    {
     "ename": "ModuleNotFoundError",
     "evalue": "No module named 'sympy'",
     "output_type": "error",
     "traceback": [
      "\u001B[0;31m---------------------------------------------------------------------------\u001B[0m",
      "\u001B[0;31mModuleNotFoundError\u001B[0m                       Traceback (most recent call last)",
      "Cell \u001B[0;32mIn[4], line 10\u001B[0m\n\u001B[1;32m      7\u001B[0m distance \u001B[38;5;241m=\u001B[39m np\u001B[38;5;241m.\u001B[39mlinalg\u001B[38;5;241m.\u001B[39mnorm(a\u001B[38;5;241m-\u001B[39mb)\n\u001B[1;32m      8\u001B[0m \u001B[38;5;28mprint\u001B[39m(distance)\n\u001B[0;32m---> 10\u001B[0m \u001B[38;5;28;01mfrom\u001B[39;00m \u001B[38;5;21;01msympy\u001B[39;00m\u001B[38;5;21;01m.\u001B[39;00m\u001B[38;5;21;01mvector\u001B[39;00m \u001B[38;5;28;01mimport\u001B[39;00m CoordSys3D\n\u001B[1;32m     11\u001B[0m N \u001B[38;5;241m=\u001B[39m CoordSys3D(\u001B[38;5;124m'\u001B[39m\u001B[38;5;124mN\u001B[39m\u001B[38;5;124m'\u001B[39m)\n\u001B[1;32m     12\u001B[0m a \u001B[38;5;241m=\u001B[39m \u001B[38;5;241m6\u001B[39m\u001B[38;5;241m*\u001B[39mN\u001B[38;5;241m.\u001B[39mi \u001B[38;5;241m-\u001B[39m N\u001B[38;5;241m.\u001B[39mj \u001B[38;5;241m+\u001B[39m \u001B[38;5;241m4\u001B[39m\u001B[38;5;241m*\u001B[39mN\u001B[38;5;241m.\u001B[39mk\n",
      "\u001B[0;31mModuleNotFoundError\u001B[0m: No module named 'sympy'"
     ]
    }
   ],
   "source": [
    "# Problem 1\n",
    "\n",
    "a = np.array([6, -1, 4])\n",
    "b = np.array([8, 7, 9])\n",
    "\n",
    "# calculate the distance between a and b\n",
    "distance = np.linalg.norm(a-b)\n",
    "print(distance)\n",
    "\n",
    "from sympy.vector import CoordSys3D\n",
    "N = CoordSys3D('N')\n",
    "a = 6*N.i - N.j + 4*N.k\n",
    "b = 8*N.i + 7*N.j + 9*N.k\n",
    "\n",
    "# calculate the distance between a and b\n",
    "distance = sym.sqrt((a-b).dot(a-b))\n",
    "print(distance)"
   ],
   "metadata": {
    "collapsed": false,
    "ExecuteTime": {
     "end_time": "2024-01-19T15:25:02.763121Z",
     "start_time": "2024-01-19T15:25:02.742559Z"
    }
   },
   "id": "54042cd600f325d6",
   "execution_count": 4
  },
  {
   "cell_type": "markdown",
   "source": [
    "# Calculating the Projection of a Vector onto a Plane\n",
    "\n",
    "In mathematics, the projection of a vector onto a plane is the orthogonal projection of that vector onto a plane, i.e., the component of the vector that lies in the plane. \n",
    "\n",
    "In addition, we have the component of the vector that is perpendicular to the plane. The vector component of a vector that is perpendicular to a plane is the component of the vector that is orthogonal to the plane, and is given by:\n",
    "\n",
    "$$\\vec{a}_{\\text{perp}} = \\frac{\\vec{a} \\cdot \\hat{n}}{\\hat{n} \\cdot \\hat{n}} \\hat{n}$$\n",
    "\n",
    "where $\\vec{a}$ is the vector to be projected and $\\hat{n}$ is the unit normal vector to the plane. The dot product of $\\vec{a}$ and $\\hat{n}$ is the length of the projection of $\\vec{a}$ onto $\\hat{n}$, i.e., the length of the orthogonal projection of $\\vec{a}$ perpendicular to the plane. The dot product of $\\hat{n}$ with itself is the square of the length of $\\hat{n}$, so the division by $\\hat{n} \\cdot \\hat{n}$ is to normalize the vector to a unit vector.\n",
    "\n",
    "Further, we have the component of the vector that is parallel to the plane. The vector component of a vector that is parallel to a plane is the component of the vector that is parallel to the plane, and is given by:\n",
    "\n",
    "$$\\vec{a}_{\\text{proj}} = \\vec{a} - \\vec{a}_{\\text{perp}}$$\n",
    "\n",
    "where $\\vec{a}$ is the vector to be projected and $\\vec{a}_{\\text{perp}}$ is the projection of $\\vec{a}$ normal to the plane.\n",
    "\n",
    "## Calculating the vector normal to a plane\n",
    "\n",
    "The vector normal to a plane is given by the formula:\n",
    "\n",
    "$$\\hat{n} = \\frac{\\vec{a} \\times \\vec{b}}{|\\vec{a} \\times \\vec{b}|}$$\n",
    "\n",
    "where $\\vec{a}$ and $\\vec{b}$ are vectors in the plane.\n",
    "\n",
    "## Example\n",
    "\n",
    "Consider the y-z plane. The normal vector to the y-z plane is given by:\n",
    "\n",
    "$$\\hat{n} = \\frac{\\vec{a} \\times \\vec{b}}{|\\vec{a} \\times \\vec{b}|} = \\frac{\\vec{j} \\times \\vec{k}}{|\\vec{j} \\times \\vec{k}|} = \\frac{\\vec{i}}{|\\vec{i}|} = \\frac{\\vec{i}}{1} = \\vec{i}$$\n",
    "\n",
    "Further, suppose that the vector $\\vec{a}$ is given by:\n",
    "\n",
    "$$\\vec{a} = 6\\vec{i} - 3\\vec{j} - 4\\vec{k}$$\n",
    "\n",
    "The perpendicular projection of $\\vec{a}$ normal the y-z plane is given by:\n",
    "\n",
    "$$\\vec{a}_{\\text{perp}} = \\frac{\\vec{a} \\cdot \\hat{n}}{\\hat{n} \\cdot \\hat{n}} \\hat{n} = \\frac{\\vec{a} \\cdot \\vec{i}}{\\vec{i} \\cdot \\vec{i}} \\vec{i} = \\frac{6\\vec{i} \\cdot \\vec{i}}{\\vec{i} \\cdot \\vec{i}} \\vec{i} = 6\\vec{i}$$\n",
    "\n",
    "The parallel projection of $\\vec{a}$ onto the y-z plane is given by:\n",
    "\n",
    "$$\\vec{a}_{\\text{proj}} = \\vec{a} - \\vec{a}_{\\text{perp}} = -3\\vec{j}-4\\vec{k}$$\n",
    "\n",
    "## Calculating the distance between a vector and a plane\n",
    "\n",
    "The distance between a vector and a plane is given by the formula:\n",
    "\n",
    "$$d = \\frac{|\\vec{a} \\cdot \\hat{n}|}{|\\hat{n}|}$$\n",
    "\n",
    "where $\\vec{a}$ is the vector to be projected and $\\hat{n}$ is the unit normal vector to the plane."
   ],
   "metadata": {
    "collapsed": false
   },
   "id": "c22a6acd3762bd20"
  },
  {
   "cell_type": "markdown",
   "source": [
    "# Calculating the Projection of a vector onto a line\n",
    "\n",
    "In mathematics, the projection of a vector the component of the vector that lies in the line.\n",
    "\n",
    "In addition, we have the component of the vector that is perpendicular to the line. The vector component of a vector that is perpendicular to a line is the component of the vector that is orthogonal to the line, and is given by:\n",
    "\n",
    "$$\\vec{a}_{\\text{proj}} = \\frac{\\vec{a} \\cdot \\hat{c}}{\\hat{c} \\cdot \\hat{c}} \\hat{c}$$\n",
    "\n",
    "where $\\vec{a}$ is the vector to be projected and $\\hat{c}$ is the unit vector in the direction of the line. The dot product of $\\vec{a}$ and $\\hat{c}$ is the length of the projection of $\\vec{a}$ onto $\\hat{c}$, i.e., the length of the orthogonal projection of $\\vec{a}$ parallel to the line. The dot product of $\\hat{c}$ with itself is the square of the length of $\\hat{c}$, so the division by $\\hat{c} \\cdot \\hat{c}$ is to normalize the vector to a unit vector.\n",
    "\n",
    "Further, we have the component of the vector that is perpendicular to the line, and is given by:\n",
    "\n",
    "$$\\vec{a}_{\\text{perp}} = \\vec{a} - \\vec{a}_{\\text{proj}}$$\n",
    "\n",
    "where $\\vec{a}$ is the vector to be projected and $\\vec{a}_{\\text{proj}}$ is the projection of $\\vec{a}$ parallel to the line."
   ],
   "metadata": {
    "collapsed": false
   },
   "id": "c402bc5d5a456f7b"
  },
  {
   "cell_type": "code",
   "outputs": [],
   "source": [],
   "metadata": {
    "collapsed": false,
    "ExecuteTime": {
     "start_time": "2024-01-19T15:23:42.941257Z"
    }
   },
   "id": "8e33834924910507"
  },
  {
   "cell_type": "code",
   "outputs": [],
   "source": [
    "# Problem 2\n",
    "\n",
    "a = 6*N.i - 3*N.j - 4*N.k\n",
    "\n",
    "# Define the perpendicular projection of a normal to the y-z plane\n",
    "a_perp = a.dot(N.i)/N.i.dot(N.i)*N.i\n",
    "\n",
    "# calculate distance between a and its projection\n",
    "distance = sym.sqrt(a_perp.dot(a_perp))\n",
    "print(distance)\n",
    "\n",
    "# Define the the projection of a onto the x axis\n",
    "line = N.i\n",
    "a_proj = a.dot(line)/line.dot(line)*line\n",
    "a_perp = a - a_proj\n",
    "\n",
    "# calculate length of the projection of a perpendicular to the x axis\n",
    "distance = sym.sqrt(a_perp.dot(a_perp))\n",
    "print(distance)\n"
   ],
   "metadata": {
    "collapsed": false,
    "ExecuteTime": {
     "start_time": "2024-01-19T15:23:42.952029Z"
    }
   },
   "id": "d86b20a1980dcabc",
   "execution_count": null
  },
  {
   "cell_type": "code",
   "outputs": [],
   "source": [
    "# Problem 3\n",
    "\n",
    "a = 4*N.i - 6*N.j + 7*N.k\n",
    "b = -1*N.i + 4*N.j + 8*N.k\n",
    "c = 6*N.i + 9*N.j - 1*N.k\n",
    "\n",
    "# calculate a dot (b+c)\n",
    "print(a.dot(b+c))"
   ],
   "metadata": {
    "collapsed": false,
    "ExecuteTime": {
     "start_time": "2024-01-19T15:23:42.954344Z"
    }
   },
   "id": "3b8c47dc0e7e9e17",
   "execution_count": null
  },
  {
   "cell_type": "code",
   "outputs": [],
   "source": [
    "# Problem 4\n",
    "\n",
    "c = sym.Symbol('c')\n",
    "\n",
    "a = 4*N.i - c*N.j + 9*N.k\n",
    "b = 9*N.i + 2*N.j + 6*N.k\n",
    "\n",
    "print(a.dot(b))\n",
    "\n",
    "# calculate the value of c that makes a perpendicular to b\n",
    "d = sym.solve(a.dot(b), c)\n",
    "\n",
    "print(d)\n",
    "\n",
    "a = c*N.i + N.j/2 + c*N.k\n",
    "b = -5*N.i + 12*N.j + c*N.k\n",
    "\n",
    "print(a.dot(b))\n",
    "\n",
    "# calculate the value of c that makes a perpendicular to b\n",
    "d = sym.solve(a.dot(b), c)\n",
    "print(d)"
   ],
   "metadata": {
    "collapsed": false,
    "ExecuteTime": {
     "end_time": "2024-01-19T15:23:42.960318Z",
     "start_time": "2024-01-19T15:23:42.956895Z"
    }
   },
   "id": "14e34a0eded89d62",
   "execution_count": null
  },
  {
   "cell_type": "code",
   "outputs": [],
   "source": [
    "# Problem 5\n",
    "\n",
    "a = 2*N.i + 6*N.j -4*N.k\n",
    "b = 1*N.i + 1*N.j - 1*N.k\n",
    "\n",
    "# calculate the cross product of a and b\n",
    "c = a.cross(b)\n",
    "print(c)"
   ],
   "metadata": {
    "collapsed": false,
    "ExecuteTime": {
     "start_time": "2024-01-19T15:23:42.958794Z"
    }
   },
   "id": "417cd1e4f2cd54cf",
   "execution_count": null
  },
  {
   "cell_type": "code",
   "outputs": [],
   "source": [
    "# Problem 6\n",
    "\n",
    "acrossb = 4*N.i - 3*N.j +5*N.k\n",
    "c = 2*N.i + 4*N.j -1*N.k\n",
    "\n",
    "# Vector identity: a . (b x c) = b . (c x a) = c . (a x b)\n",
    "\n",
    "# calculate c . (a x b)\n",
    "print(c.dot(acrossb))"
   ],
   "metadata": {
    "collapsed": false,
    "ExecuteTime": {
     "end_time": "2024-01-19T15:23:42.993575Z",
     "start_time": "2024-01-19T15:23:42.960876Z"
    }
   },
   "id": "2d1376a6727a7c0f",
   "execution_count": null
  },
  {
   "cell_type": "code",
   "outputs": [],
   "source": [],
   "metadata": {
    "collapsed": false,
    "ExecuteTime": {
     "start_time": "2024-01-19T15:23:42.962271Z"
    }
   },
   "id": "92af3f951b1b088e",
   "execution_count": null
  }
 ],
 "metadata": {
  "kernelspec": {
   "display_name": "Python 3",
   "language": "python",
   "name": "python3"
  },
  "language_info": {
   "codemirror_mode": {
    "name": "ipython",
    "version": 2
   },
   "file_extension": ".py",
   "mimetype": "text/x-python",
   "name": "python",
   "nbconvert_exporter": "python",
   "pygments_lexer": "ipython2",
   "version": "2.7.6"
  }
 },
 "nbformat": 4,
 "nbformat_minor": 5
}
