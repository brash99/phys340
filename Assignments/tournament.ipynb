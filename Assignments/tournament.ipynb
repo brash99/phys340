{
 "cells": [
  {
   "metadata": {
    "ExecuteTime": {
     "end_time": "2025-05-13T23:56:43.837634Z",
     "start_time": "2025-05-13T23:55:25.269559Z"
    }
   },
   "cell_type": "code",
   "source": [
    "import numpy as np\n",
    "\n",
    "# Number of players in the tournament\n",
    "n = 8\n",
    "\n",
    "\n",
    "n_events = 0\n",
    "for i in range(1000000):\n",
    "\n",
    "    one_plays_two = False\n",
    "\n",
    "    # Fill an array with the players, randomly assigned to the tournament\n",
    "    players = np.arange(1, n+1)\n",
    "    np.random.shuffle(players)\n",
    "\n",
    "    # Play the first round\n",
    "    matches = []\n",
    "    for i in range(0, n, 2):\n",
    "        matches.append((players[i], players[i+1]))\n",
    "        if (players[i] + players[i+1] == 3):\n",
    "            one_plays_two = True\n",
    "            #print(\"Player 1 plays Player 2\")\n",
    "\n",
    "    #print(\"Matches:\", matches)\n",
    "    winners = []\n",
    "    for match in matches:\n",
    "        # Randomly select a winner from each match\n",
    "        winner = np.random.choice(match)\n",
    "        winners.append(winner)\n",
    "\n",
    "    # continue the tournament\n",
    "    while len(winners) > 1:\n",
    "        matches = []\n",
    "        for i in range(0, len(winners), 2):\n",
    "            matches.append((winners[i], winners[i+1]))\n",
    "            if (winners[i] + winners[i+1] == 3):\n",
    "                one_plays_two = True\n",
    "                #print(\"Player 1 plays Player 2\")\n",
    "        #print(\"Matches:\", matches)\n",
    "\n",
    "        winners = []\n",
    "        for match in matches:\n",
    "            winner = np.random.choice(match)\n",
    "            winners.append(winner)\n",
    "        #print(\"Winners:\", winners)\n",
    "\n",
    "    if one_plays_two:\n",
    "        n_events += 1\n",
    "\n",
    "\n",
    "print(\"Number of events where Player 1 plays Player 2:\", n_events)\n",
    "print(\"Probability of Player 1 playing Player 2:\", n_events/1000000)"
   ],
   "id": "a8154b34424e62fc",
   "outputs": [
    {
     "name": "stdout",
     "output_type": "stream",
     "text": [
      "Number of events where Player 1 plays Player 2: 249724\n",
      "Probability of Player 1 playing Player 2: 0.249724\n"
     ]
    }
   ],
   "execution_count": 1
  },
  {
   "metadata": {},
   "cell_type": "markdown",
   "source": [
    "### Theoretical probability\n",
    "\n",
    "The probability of Player 1 playing Player 2 in the first round is 1/7\n",
    "\n",
    "The probability of Player 1 not playing Player 2 in the first round is 6/7\n",
    "The probability of both players making it to the second round is 6/7 * 1/2 * 1/2 = 3/14\n",
    "The probability of Player 1 playing Player 2 in the second round is 3/14 * 1/3 = 1/14\n",
    "\n",
    "The probability of Player 1 not playing Player 2 in the second round is 3/14 * 2/3 = 1/7\n",
    "The probability of both players making it to the third round is 1/7 * 1/2 * 1/2 = 1/28\n",
    "The probability of Player 1 playing Player 2 in the third round is 1/28 * 1 = 1/28\n",
    "\n",
    "thus, the probability of Player 1 playing Player 2 in the tournament is:\n",
    "P(1 plays 2) = P(1 plays 2 in first round) + P(1 plays 2 in second round) + P(1 plays 2 in third round)\n",
    "P(1 plays 2) = 1/7 + 1/14 + 1/28\n",
    "P(1 plays 2) = 4/28 + 2/28 + 1/28\n",
    "P(1 plays 2) = 7/28\n",
    "P(1 plays 2) = 1/4\n",
    "\n",
    "The probability of Player 1 playing Player 2 in the tournament is 1/4\n"
   ],
   "id": "50f41fe404ab2578"
  },
  {
   "metadata": {},
   "cell_type": "markdown",
   "source": [
    "# Generalizing the problem\n",
    "\n",
    "We assume that the tournament is a knockout tournament, where the winner of each match advances to the next round and the loser is eliminated. The tournament continues until there is one winner.  Further, we assume that there are $2^n$ players in the tournament, where $n$ is a positive integer. The players are numbered from $1$ to $2^n$. The players are randomly assigned to the tournament, and the matches are played in pairs. The winner of each match is randomly selected from the two players in the match. The probability of Player 1 playing Player 2 in the tournament is given by:\n",
    "\n",
    "$$P(1 \\text{ plays } 2) = \\frac{1}{2^{n}-1} + \\frac{1}{2(2^{n}-1)} + \\frac{1}{4(2^{n}-1)} + ... + \\frac{1}{2^{k-1}(2^{n}-1)}$$\n",
    "\n",
    "where $k$ is the number of rounds in the tournament.\n",
    "\n",
    "Writing the above equation in a more compact form, we have:\n",
    "\n",
    "$$P(1 \\text{ plays } 2) = \\sum_{i=0}^{k-1} \\frac{1}{2^{i}(2^{n}-1)}$$\n",
    "\n",
    "where $k$ is the number of rounds in the tournament.  But, it is also true that $k = n$!!!\n",
    "\n"
   ],
   "id": "ab8eb51e030b417a"
  },
  {
   "metadata": {},
   "cell_type": "markdown",
   "source": [
    "$$ \\sum_{i=0}^{n-1} \\frac{1}{2^i (2^n - 1)}\n",
    "= \\frac{1}{2^n - 1} \\sum_{i=0}^{n-1} \\frac{1}{2^i}$$\n",
    "\n",
    "$$\\sum_{i=0}^{n-1} \\frac{1}{2^i} = \\frac{1 - \\left(\\frac{1}{2}\\right)^n}{1 - \\frac{1}{2}} = 2\\left(1 - \\frac{1}{2^n} \\right)$$\n",
    "\n",
    "$$\\frac{1}{2^n - 1} \\cdot 2\\left(1 - \\frac{1}{2^n} \\right)\n",
    "= \\frac{2 \\left(1 - \\frac{1}{2^n} \\right)}{2^n - 1}\n",
    "= \\frac{2 \\cdot \\left(\\frac{2^n - 1}{2^n} \\right)}{2^n - 1}\n",
    "= \\frac{2}{2^n}\n",
    "= \\frac{1}{2^{n - 1}}$$\n",
    "\n",
    "$$\\boxed{\n",
    "\\sum_{i=0}^{n-1} \\frac{1}{2^i (2^n - 1)} = \\frac{1}{2^{n - 1}}\n",
    "} $$\n",
    "\n",
    "\n"
   ],
   "id": "b50a96ea729ecbae"
  },
  {
   "metadata": {},
   "cell_type": "markdown",
   "source": "",
   "id": "65daf2bd46a9d564"
  }
 ],
 "metadata": {},
 "nbformat": 4,
 "nbformat_minor": 5
}
