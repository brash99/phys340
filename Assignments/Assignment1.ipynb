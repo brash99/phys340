{
 "cells": [
  {
   "cell_type": "markdown",
   "id": "b64e77be556797ad",
   "metadata": {
    "collapsed": false
   },
   "source": [
    "# Assignment 1 Solutions"
   ]
  },
  {
   "cell_type": "code",
   "execution_count": 1,
   "id": "3fe5a580020aa4cb",
   "metadata": {
    "collapsed": false,
    "ExecuteTime": {
     "end_time": "2024-02-12T20:40:29.248142Z",
     "start_time": "2024-02-12T20:40:27.866367Z"
    }
   },
   "outputs": [
    {
     "name": "stdout",
     "output_type": "stream",
     "text": [
      "sys.version_info(major=3, minor=9, micro=6, releaselevel='final', serial=0)\n",
      "/Applications/Xcode.app/Contents/Developer/usr/bin/python3\n",
      "arm\n",
      "Python 3.11.7\r\n"
     ]
    }
   ],
   "source": [
    "import numpy as np\n",
    "import sympy as sym\n",
    "\n",
    "import sys\n",
    "import platform\n",
    "\n",
    "print(sys.version_info)\n",
    "print(sys.executable)\n",
    "print(platform.processor())\n",
    "!python --version"
   ]
  },
  {
   "cell_type": "code",
   "execution_count": 2,
   "id": "54042cd600f325d6",
   "metadata": {
    "collapsed": false,
    "ExecuteTime": {
     "end_time": "2024-02-12T20:40:30.296884Z",
     "start_time": "2024-02-12T20:40:30.140115Z"
    }
   },
   "outputs": [
    {
     "name": "stdout",
     "output_type": "stream",
     "text": [
      "9.643650760992955\n",
      "sqrt(93)\n"
     ]
    }
   ],
   "source": [
    "# Problem 1\n",
    "\n",
    "a = np.array([6, -1, 4])\n",
    "b = np.array([8, 7, 9])\n",
    "\n",
    "# calculate the distance between a and b\n",
    "distance = np.linalg.norm(a-b)\n",
    "print(distance)\n",
    "\n",
    "from sympy.vector import CoordSys3D\n",
    "N = CoordSys3D('N')\n",
    "a = 6*N.i - N.j + 4*N.k\n",
    "b = 8*N.i + 7*N.j + 9*N.k\n",
    "\n",
    "# calculate the distance between a and b\n",
    "distance = sym.sqrt((a-b).dot(a-b))\n",
    "print(distance)"
   ]
  },
  {
   "cell_type": "markdown",
   "id": "c22a6acd3762bd20",
   "metadata": {
    "collapsed": false
   },
   "source": [
    "# Calculating the Projection of a Vector onto a Plane\n",
    "\n",
    "In mathematics, the projection of a vector onto a plane is the orthogonal projection of that vector onto a plane, i.e., the component of the vector that lies in the plane. \n",
    "\n",
    "In addition, we have the component of the vector that is perpendicular to the plane. The vector component of a vector that is perpendicular to a plane is the component of the vector that is orthogonal to the plane, and is given by:\n",
    "\n",
    "$$\\vec{a}_{\\text{perp}} = \\frac{\\vec{a} \\cdot \\hat{n}}{\\hat{n} \\cdot \\hat{n}} \\hat{n}$$\n",
    "\n",
    "where $\\vec{a}$ is the vector to be projected and $\\hat{n}$ is the unit normal vector to the plane. The dot product of $\\vec{a}$ and $\\hat{n}$ is the length of the projection of $\\vec{a}$ onto $\\hat{n}$, i.e., the length of the orthogonal projection of $\\vec{a}$ perpendicular to the plane. The dot product of $\\hat{n}$ with itself is the square of the length of $\\hat{n}$, so the division by $\\hat{n} \\cdot \\hat{n}$ is to normalize the vector to a unit vector.\n",
    "\n",
    "Further, we have the component of the vector that is parallel to the plane. The vector component of a vector that is parallel to a plane is the component of the vector that is parallel to the plane, and is given by:\n",
    "\n",
    "$$\\vec{a}_{\\text{proj}} = \\vec{a} - \\vec{a}_{\\text{perp}}$$\n",
    "\n",
    "where $\\vec{a}$ is the vector to be projected and $\\vec{a}_{\\text{perp}}$ is the projection of $\\vec{a}$ normal to the plane.\n",
    "\n",
    "## Calculating the vector normal to a plane\n",
    "\n",
    "The vector normal to a plane is given by the formula:\n",
    "\n",
    "$$\\hat{n} = \\frac{\\vec{a} \\times \\vec{b}}{|\\vec{a} \\times \\vec{b}|}$$\n",
    "\n",
    "where $\\vec{a}$ and $\\vec{b}$ are vectors in the plane.\n",
    "\n",
    "## Example\n",
    "\n",
    "Consider the y-z plane. The normal vector to the y-z plane is given by:\n",
    "\n",
    "$$\\hat{n} = \\frac{\\vec{a} \\times \\vec{b}}{|\\vec{a} \\times \\vec{b}|} = \\frac{\\vec{j} \\times \\vec{k}}{|\\vec{j} \\times \\vec{k}|} = \\frac{\\vec{i}}{|\\vec{i}|} = \\frac{\\vec{i}}{1} = \\vec{i}$$\n",
    "\n",
    "Further, suppose that the vector $\\vec{a}$ is given by:\n",
    "\n",
    "$$\\vec{a} = 6\\vec{i} - 3\\vec{j} - 4\\vec{k}$$\n",
    "\n",
    "The perpendicular projection of $\\vec{a}$ normal the y-z plane is given by:\n",
    "\n",
    "$$\\vec{a}_{\\text{perp}} = \\frac{\\vec{a} \\cdot \\hat{n}}{\\hat{n} \\cdot \\hat{n}} \\hat{n} = \\frac{\\vec{a} \\cdot \\vec{i}}{\\vec{i} \\cdot \\vec{i}} \\vec{i} = \\frac{6\\vec{i} \\cdot \\vec{i}}{\\vec{i} \\cdot \\vec{i}} \\vec{i} = 6\\vec{i}$$\n",
    "\n",
    "The parallel projection of $\\vec{a}$ onto the y-z plane is given by:\n",
    "\n",
    "$$\\vec{a}_{\\text{proj}} = \\vec{a} - \\vec{a}_{\\text{perp}} = -3\\vec{j}-4\\vec{k}$$\n",
    "\n",
    "## Calculating the distance between a vector and a plane\n",
    "\n",
    "The distance between a vector and a plane is given by the formula:\n",
    "\n",
    "$$d = \\frac{|\\vec{a} \\cdot \\hat{n}|}{|\\hat{n}|}$$\n",
    "\n",
    "where $\\vec{a}$ is the vector to be projected and $\\hat{n}$ is the unit normal vector to the plane."
   ]
  },
  {
   "cell_type": "markdown",
   "id": "c402bc5d5a456f7b",
   "metadata": {
    "collapsed": false
   },
   "source": [
    "# Calculating the Projection of a vector onto a line\n",
    "\n",
    "In mathematics, the projection of a vector the component of the vector that lies in the line.\n",
    "\n",
    "In addition, we have the component of the vector that is perpendicular to the line. The vector component of a vector that is perpendicular to a line is the component of the vector that is orthogonal to the line, and is given by:\n",
    "\n",
    "$$\\vec{a}_{\\text{proj}} = \\frac{\\vec{a} \\cdot \\hat{c}}{\\hat{c} \\cdot \\hat{c}} \\hat{c}$$\n",
    "\n",
    "where $\\vec{a}$ is the vector to be projected and $\\hat{c}$ is the unit vector in the direction of the line. The dot product of $\\vec{a}$ and $\\hat{c}$ is the length of the projection of $\\vec{a}$ onto $\\hat{c}$, i.e., the length of the orthogonal projection of $\\vec{a}$ parallel to the line. The dot product of $\\hat{c}$ with itself is the square of the length of $\\hat{c}$, so the division by $\\hat{c} \\cdot \\hat{c}$ is to normalize the vector to a unit vector.\n",
    "\n",
    "Further, we have the component of the vector that is perpendicular to the line, and is given by:\n",
    "\n",
    "$$\\vec{a}_{\\text{perp}} = \\vec{a} - \\vec{a}_{\\text{proj}}$$\n",
    "\n",
    "where $\\vec{a}$ is the vector to be projected and $\\vec{a}_{\\text{proj}}$ is the projection of $\\vec{a}$ parallel to the line."
   ]
  },
  {
   "cell_type": "code",
   "execution_count": 2,
   "id": "8e33834924910507",
   "metadata": {
    "collapsed": false,
    "ExecuteTime": {
     "end_time": "2024-02-12T20:40:32.920313Z",
     "start_time": "2024-02-12T20:40:32.906966Z"
    }
   },
   "outputs": [],
   "source": []
  },
  {
   "cell_type": "code",
   "execution_count": 3,
   "id": "d86b20a1980dcabc",
   "metadata": {
    "collapsed": false,
    "ExecuteTime": {
     "end_time": "2024-02-12T20:40:33.488286Z",
     "start_time": "2024-02-12T20:40:33.484684Z"
    }
   },
   "outputs": [
    {
     "name": "stdout",
     "output_type": "stream",
     "text": [
      "6\n",
      "5\n"
     ]
    }
   ],
   "source": [
    "# Problem 2\n",
    "\n",
    "a = 6*N.i - 3*N.j - 4*N.k\n",
    "\n",
    "# Define the perpendicular projection of a normal to the y-z plane\n",
    "a_perp = a.dot(N.i)/N.i.dot(N.i)*N.i\n",
    "\n",
    "# calculate distance between a and its projection\n",
    "distance = sym.sqrt(a_perp.dot(a_perp))\n",
    "print(distance)\n",
    "\n",
    "# Define the the projection of a onto the x axis\n",
    "line = N.i\n",
    "a_proj = a.dot(line)/line.dot(line)*line\n",
    "a_perp = a - a_proj\n",
    "\n",
    "# calculate length of the projection of a perpendicular to the x axis\n",
    "distance = sym.sqrt(a_perp.dot(a_perp))\n",
    "print(distance)\n"
   ]
  },
  {
   "cell_type": "code",
   "execution_count": 4,
   "id": "3b8c47dc0e7e9e17",
   "metadata": {
    "collapsed": false,
    "ExecuteTime": {
     "end_time": "2024-02-12T20:40:34.190083Z",
     "start_time": "2024-02-12T20:40:34.186308Z"
    }
   },
   "outputs": [
    {
     "name": "stdout",
     "output_type": "stream",
     "text": [
      "-9\n"
     ]
    }
   ],
   "source": [
    "# Problem 3\n",
    "\n",
    "a = 4*N.i - 6*N.j + 7*N.k\n",
    "b = -1*N.i + 4*N.j + 8*N.k\n",
    "c = 6*N.i + 9*N.j - 1*N.k\n",
    "\n",
    "# calculate a dot (b+c)\n",
    "print(a.dot(b+c))"
   ]
  },
  {
   "cell_type": "code",
   "execution_count": 5,
   "id": "14e34a0eded89d62",
   "metadata": {
    "collapsed": false,
    "ExecuteTime": {
     "end_time": "2024-02-12T20:40:34.742765Z",
     "start_time": "2024-02-12T20:40:34.721392Z"
    }
   },
   "outputs": [
    {
     "name": "stdout",
     "output_type": "stream",
     "text": [
      "90 - 2*c\n",
      "[45]\n",
      "c**2 - 5*c + 6\n",
      "[2, 3]\n"
     ]
    }
   ],
   "source": [
    "# Problem 4\n",
    "\n",
    "c = sym.Symbol('c')\n",
    "\n",
    "a = 4*N.i - c*N.j + 9*N.k\n",
    "b = 9*N.i + 2*N.j + 6*N.k\n",
    "\n",
    "print(a.dot(b))\n",
    "\n",
    "# calculate the value of c that makes a perpendicular to b\n",
    "d = sym.solve(a.dot(b), c)\n",
    "\n",
    "print(d)\n",
    "\n",
    "a = c*N.i + N.j/2 + c*N.k\n",
    "b = -5*N.i + 12*N.j + c*N.k\n",
    "\n",
    "print(a.dot(b))\n",
    "\n",
    "# calculate the value of c that makes a perpendicular to b\n",
    "d = sym.solve(a.dot(b), c)\n",
    "print(d)"
   ]
  },
  {
   "cell_type": "code",
   "execution_count": 6,
   "id": "417cd1e4f2cd54cf",
   "metadata": {
    "collapsed": false,
    "ExecuteTime": {
     "end_time": "2024-02-12T20:40:35.494738Z",
     "start_time": "2024-02-12T20:40:35.492436Z"
    }
   },
   "outputs": [
    {
     "name": "stdout",
     "output_type": "stream",
     "text": [
      "(-3)*N.i + (-4)*N.j + (-7)*N.k\n"
     ]
    }
   ],
   "source": [
    "# Problem 5\n",
    "\n",
    "a = 2*N.i + 9*N.j -6*N.k\n",
    "b = 1*N.i + 1*N.j - 1*N.k\n",
    "\n",
    "# calculate the cross product of a and b\n",
    "c = a.cross(b)\n",
    "print(c)"
   ]
  },
  {
   "cell_type": "code",
   "execution_count": 7,
   "id": "2d1376a6727a7c0f",
   "metadata": {
    "collapsed": false,
    "ExecuteTime": {
     "end_time": "2024-02-12T20:40:36.165385Z",
     "start_time": "2024-02-12T20:40:36.159119Z"
    }
   },
   "outputs": [
    {
     "name": "stdout",
     "output_type": "stream",
     "text": [
      "-9\n"
     ]
    }
   ],
   "source": [
    "# Problem 6\n",
    "\n",
    "acrossb = 4*N.i - 3*N.j +5*N.k\n",
    "c = 2*N.i + 4*N.j -1*N.k\n",
    "\n",
    "# Vector identity: a . (b x c) = b . (c x a) = c . (a x b)\n",
    "\n",
    "# calculate c . (a x b)\n",
    "print(c.dot(acrossb))"
   ]
  },
  {
   "cell_type": "code",
   "execution_count": 9,
   "id": "92af3f951b1b088e",
   "metadata": {
    "collapsed": false,
    "ExecuteTime": {
     "end_time": "2024-01-19T16:53:38.615026Z",
     "start_time": "2024-01-19T16:53:38.607839Z"
    }
   },
   "outputs": [],
   "source": []
  },
  {
   "cell_type": "code",
   "outputs": [],
   "source": [],
   "metadata": {
    "collapsed": false
   },
   "id": "c3dc3a9a4efa59d5"
  }
 ],
 "metadata": {
  "kernelspec": {
   "display_name": "Python 3 (ipykernel)",
   "language": "python",
   "name": "python3"
  },
  "language_info": {
   "codemirror_mode": {
    "name": "ipython",
    "version": 3
   },
   "file_extension": ".py",
   "mimetype": "text/x-python",
   "name": "python",
   "nbconvert_exporter": "python",
   "pygments_lexer": "ipython3",
   "version": "3.12.1"
  }
 },
 "nbformat": 4,
 "nbformat_minor": 5
}
