{
 "cells": [
  {
   "cell_type": "code",
   "outputs": [],
   "source": [
    "import sympy as sym\n",
    "import numpy as np\n",
    "import matplotlib.pyplot as plt"
   ],
   "metadata": {
    "collapsed": false,
    "ExecuteTime": {
     "end_time": "2024-03-22T14:14:11.453865Z",
     "start_time": "2024-03-22T14:14:08.887850Z"
    }
   },
   "id": "659aff4b70bccad9",
   "execution_count": 1
  },
  {
   "cell_type": "code",
   "outputs": [
    {
     "name": "stdout",
     "output_type": "stream",
     "text": [
      "z = 14(cos(4*pi/3) + i sin(4*pi/3) )\n"
     ]
    }
   ],
   "source": [
    "# 6.1\n",
    "\n",
    "x = -7\n",
    "y = -7*sym.sqrt(3)\n",
    "\n",
    "z = x + sym.I*y\n",
    "\n",
    "r = abs(z)\n",
    "theta = sym.arg(z)\n",
    "\n",
    "if (theta < 0):\n",
    "    theta = 2*sym.pi + theta\n",
    "\n",
    "print(f'z = {r}(cos({theta}) + i sin({theta}) )')"
   ],
   "metadata": {
    "collapsed": true,
    "ExecuteTime": {
     "end_time": "2024-03-22T14:14:11.536032Z",
     "start_time": "2024-03-22T14:14:11.454630Z"
    }
   },
   "id": "initial_id",
   "execution_count": 2
  },
  {
   "cell_type": "code",
   "outputs": [
    {
     "name": "stdout",
     "output_type": "stream",
     "text": [
      "z1*z2 = 12*I\n",
      "z1/z2 = ( 3*sqrt(2)/2 ) + i( -3*sqrt(2)/2 )\n"
     ]
    }
   ],
   "source": [
    "\n",
    "# 6.2\n",
    "\n",
    "r1 = 6\n",
    "theta1 = sym.pi/8\n",
    "\n",
    "r2 = 2\n",
    "theta2 = 3*sym.pi/8\n",
    "\n",
    "z1 = r1*sym.exp(sym.I*theta1)\n",
    "z2 = r2*sym.exp(sym.I*theta2)\n",
    "\n",
    "z = z1*z2\n",
    "\n",
    "print(f'z1*z2 = {z.simplify()}')\n",
    "\n",
    "z = z1/z2\n",
    "zreal = z.simplify().as_real_imag()[0]\n",
    "zimag = z.simplify().as_real_imag()[1]\n",
    "\n",
    "print(f'z1/z2 = ( {zreal} ) + i( {zimag} )')"
   ],
   "metadata": {
    "collapsed": false,
    "ExecuteTime": {
     "end_time": "2024-03-22T14:14:17.049549Z",
     "start_time": "2024-03-22T14:14:16.890545Z"
    }
   },
   "id": "e64ddaa797dc9ead",
   "execution_count": 3
  },
  {
   "cell_type": "code",
   "outputs": [
    {
     "name": "stdout",
     "output_type": "stream",
     "text": [
      "z = sqrt(2)(cos(5*pi/3) + i sin(5*pi/3) )\n",
      "z = ( sqrt(2)/2 ) + i( -sqrt(6)/2 )\n"
     ]
    }
   ],
   "source": [
    "# 6.3\n",
    "\n",
    "z1 = sym.sqrt(2) + sym.sqrt(6)*sym.I\n",
    "z2 = -1 + sym.sqrt(3)*sym.I\n",
    "z = z1/z2\n",
    "\n",
    "r = abs(z)\n",
    "theta = sym.arg(z)\n",
    "\n",
    "zreal = z.simplify().as_real_imag()[0]\n",
    "zimag = z.simplify().as_real_imag()[1]\n",
    "\n",
    "if (theta < 0):\n",
    "    theta = 2*sym.pi + theta\n",
    "    \n",
    "print(f'z = {r}(cos({theta}) + i sin({theta}) )')\n",
    "\n",
    "print(f'z = ( {zreal} ) + i( {zimag} )')"
   ],
   "metadata": {
    "collapsed": false,
    "ExecuteTime": {
     "end_time": "2024-03-22T14:14:20.665422Z",
     "start_time": "2024-03-22T14:14:20.626425Z"
    }
   },
   "id": "6b73ec09e3a84e90",
   "execution_count": 4
  },
  {
   "cell_type": "code",
   "outputs": [
    {
     "name": "stdout",
     "output_type": "stream",
     "text": [
      "z = +/- ( sqrt(2)/2 ) + i( sqrt(6)/2 )\n"
     ]
    }
   ],
   "source": [
    "#6.4\n",
    "\n",
    "z = -1 + sym.sqrt(3)*sym.I\n",
    "\n",
    "zsqrt = sym.sqrt(z)\n",
    "\n",
    "zreal = zsqrt.simplify().as_real_imag()[0]\n",
    "zimag = zsqrt.simplify().as_real_imag()[1]\n",
    "\n",
    "print(f'z = +/- ( {zreal} ) + i( {zimag} )')\n"
   ],
   "metadata": {
    "collapsed": false,
    "ExecuteTime": {
     "end_time": "2024-03-22T14:14:22.311387Z",
     "start_time": "2024-03-22T14:14:22.305168Z"
    }
   },
   "id": "87029271a7582865",
   "execution_count": 5
  },
  {
   "cell_type": "code",
   "outputs": [
    {
     "name": "stdout",
     "output_type": "stream",
     "text": [
      "2⋅(8 - 7⋅ⅈ)\n",
      "───────────\n",
      "          2\n",
      " (2⋅z + ⅈ) \n"
     ]
    }
   ],
   "source": [
    "#6.5\n",
    "\n",
    "z = sym.symbols('z')\n",
    "\n",
    "f = (4*z -8 + 9*sym.I)/(2*z+sym.I)\n",
    "\n",
    "fprime = sym.diff(f, z)\n",
    "\n",
    "fprime = fprime.simplify()\n",
    "\n",
    "sym.pprint(fprime)"
   ],
   "metadata": {
    "collapsed": false,
    "ExecuteTime": {
     "end_time": "2024-03-22T14:14:24.649672Z",
     "start_time": "2024-03-22T14:14:24.646335Z"
    }
   },
   "id": "68f0ab9dcc14418f",
   "execution_count": 6
  },
  {
   "cell_type": "code",
   "outputs": [
    {
     "name": "stdout",
     "output_type": "stream",
     "text": [
      " 2                                     \n",
      "z  - 8⋅z - 2⋅(z - 4)⋅(z - 5 + 4⋅ⅈ) + 41\n",
      "───────────────────────────────────────\n",
      "                           2           \n",
      "            ⎛ 2           ⎞            \n",
      "            ⎝z  - 8⋅z + 41⎠            \n",
      "fprime(z) denominator = z**2 - 8*z + 41 = 0\n",
      "z = [4 - 5*I, 4 + 5*I]\n"
     ]
    }
   ],
   "source": [
    "#6.6\n",
    "\n",
    "z = sym.symbols('z')\n",
    "\n",
    "f = (z - 5 +4*sym.I)/(z**2 + -8*z + 41)\n",
    "\n",
    "fprime = sym.diff(f, z)\n",
    "\n",
    "fprime = fprime.simplify()\n",
    "\n",
    "sym.pprint(fprime)\n",
    "\n",
    "denominator = f.simplify().as_numer_denom()[1]\n",
    "\n",
    "print(f'fprime(z) denominator = {denominator} = 0')\n",
    "\n",
    "solution = sym.solve(denominator, z)\n",
    "\n",
    "print(f'z = {solution}')"
   ],
   "metadata": {
    "collapsed": false,
    "ExecuteTime": {
     "end_time": "2024-03-22T14:14:29.708287Z",
     "start_time": "2024-03-22T14:14:29.642057Z"
    }
   },
   "id": "7ac91c804668b50e",
   "execution_count": 7
  },
  {
   "cell_type": "code",
   "outputs": [],
   "source": [],
   "metadata": {
    "collapsed": false,
    "ExecuteTime": {
     "end_time": "2024-03-22T14:14:36.476809Z",
     "start_time": "2024-03-22T14:14:36.469522Z"
    }
   },
   "id": "32b2de84b97545c7",
   "execution_count": 7
  },
  {
   "cell_type": "code",
   "outputs": [],
   "source": [],
   "metadata": {
    "collapsed": false
   },
   "id": "b0eb2a0bc72f8d1c"
  }
 ],
 "metadata": {
  "kernelspec": {
   "display_name": "Python 3",
   "language": "python",
   "name": "python3"
  },
  "language_info": {
   "codemirror_mode": {
    "name": "ipython",
    "version": 2
   },
   "file_extension": ".py",
   "mimetype": "text/x-python",
   "name": "python",
   "nbconvert_exporter": "python",
   "pygments_lexer": "ipython2",
   "version": "2.7.6"
  }
 },
 "nbformat": 4,
 "nbformat_minor": 5
}
