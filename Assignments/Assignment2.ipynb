{
 "cells": [
  {
   "cell_type": "markdown",
   "source": [
    "# Assignment 2"
   ],
   "metadata": {
    "collapsed": false
   },
   "id": "f6657dbe03007455"
  },
  {
   "cell_type": "code",
   "outputs": [],
   "source": [
    "import numpy as np\n",
    "import matplotlib.pyplot as plt\n",
    "import sympy as sp"
   ],
   "metadata": {
    "collapsed": false,
    "ExecuteTime": {
     "end_time": "2024-01-24T17:25:50.579762Z",
     "start_time": "2024-01-24T17:25:50.060256Z"
    }
   },
   "id": "d94fbbc122acf954",
   "execution_count": 1
  },
  {
   "cell_type": "code",
   "outputs": [
    {
     "name": "stdout",
     "output_type": "stream",
     "text": [
      "45*x**4 + 28*x**3*y**3 - 2*x*y**6\n",
      "21*x**4*y**2 - 6*x**2*y**5 - 4\n"
     ]
    }
   ],
   "source": [
    "# Problem 2.1\n",
    "\n",
    "f = sp.Function('f')\n",
    "x = sp.symbols('x')\n",
    "y = sp.symbols('y')\n",
    "z = sp.symbols('z')\n",
    "\n",
    "f = 7*x**4*y**3 - x**2*y**6 + 9*x**5 -4*y\n",
    "\n",
    "deriv_x = sp.diff(f,x)\n",
    "deriv_y = sp.diff(f,y)\n",
    "\n",
    "print(deriv_x)\n",
    "print(deriv_y)\n"
   ],
   "metadata": {
    "collapsed": false,
    "ExecuteTime": {
     "end_time": "2024-01-24T17:25:50.614413Z",
     "start_time": "2024-01-24T17:25:50.582488Z"
    }
   },
   "id": "ce4f3bb933860945",
   "execution_count": 2
  },
  {
   "cell_type": "code",
   "outputs": [
    {
     "name": "stdout",
     "output_type": "stream",
     "text": [
      "-8*sin(4*x)*cos(4*x)\n",
      "8*sin(4*y)*cos(4*y)\n"
     ]
    }
   ],
   "source": [
    "# Problem 2.2\n",
    "\n",
    "f = sp.cos(4*x)**2 + sp.sin(4*y)**2\n",
    "\n",
    "deriv_x = sp.diff(f,x)\n",
    "deriv_y = sp.diff(f,y)\n",
    "\n",
    "print(deriv_x)\n",
    "print(deriv_y)"
   ],
   "metadata": {
    "collapsed": false,
    "ExecuteTime": {
     "end_time": "2024-01-24T17:25:51.948671Z",
     "start_time": "2024-01-24T17:25:51.945438Z"
    }
   },
   "id": "76eed4b6bf639686",
   "execution_count": 3
  },
  {
   "cell_type": "code",
   "outputs": [
    {
     "name": "stdout",
     "output_type": "stream",
     "text": [
      "(-8*x**7*y**2 + 2*x)*N.i + (-2*x**8*y - 4*y**3)*N.j\n"
     ]
    }
   ],
   "source": [
    "# Problem 2.3\n",
    "\n",
    "f = x**2-x**8*y**2-y**4\n",
    "\n",
    "def gradient(f):\n",
    "    fx = sp.diff(f,x)\n",
    "    fy = sp.diff(f,y)\n",
    "    \n",
    "    from sympy.vector import CoordSys3D\n",
    "    N = CoordSys3D('N')\n",
    "    \n",
    "    grad = fx*N.i + fy*N.j\n",
    "    \n",
    "    return grad\n",
    "\n",
    "print(gradient(f))"
   ],
   "metadata": {
    "collapsed": false,
    "ExecuteTime": {
     "end_time": "2024-01-24T17:25:52.847528Z",
     "start_time": "2024-01-24T17:25:52.834599Z"
    }
   },
   "id": "e523046bbd6cc80f",
   "execution_count": 4
  },
  {
   "cell_type": "code",
   "outputs": [
    {
     "name": "stdout",
     "output_type": "stream",
     "text": [
      "(-4/25)*N.i + 1/5*N.j + 3/25*N.k\n"
     ]
    }
   ],
   "source": [
    "# Problem 2.4\n",
    "\n",
    "f = sp.log(x**2+y**2+z**2)\n",
    "\n",
    "fx = sp.diff(f,x)\n",
    "fy = sp.diff(f,y)\n",
    "fz = sp.diff(f,z)\n",
    "\n",
    "from sympy.vector import CoordSys3D\n",
    "N = CoordSys3D('N')\n",
    "\n",
    "grad = fx*N.i + fy*N.j + fz*N.k\n",
    "\n",
    "grad_value = grad.subs([(x,-4),(y,5),(z,3)])\n",
    "\n",
    "print(grad_value)"
   ],
   "metadata": {
    "collapsed": false,
    "ExecuteTime": {
     "end_time": "2024-01-24T17:25:53.512927Z",
     "start_time": "2024-01-24T17:25:53.490100Z"
    }
   },
   "id": "6891f7b0525c761f",
   "execution_count": 5
  },
  {
   "cell_type": "code",
   "outputs": [
    {
     "name": "stdout",
     "output_type": "stream",
     "text": [
      "43/5\n"
     ]
    }
   ],
   "source": [
    "# Problem 2.5\n",
    "\n",
    "f = x*y/(x+y)\n",
    "\n",
    "# Calculate the directional derivative in the direction of the vector v = 6i + 8j at the point (-2,3)\n",
    "\n",
    "fx = sp.diff(f,x)\n",
    "fy = sp.diff(f,y)\n",
    "\n",
    "from sympy.vector import CoordSys3D\n",
    "N = CoordSys3D('N')\n",
    "\n",
    "grad = fx*N.i + fy*N.j\n",
    "\n",
    "v = 6*N.i + 8*N.j\n",
    "\n",
    "vhat = v / sp.sqrt(v.dot(v))\n",
    "\n",
    "grad_value = grad.subs([(x,-2),(y,3)])\n",
    "\n",
    "dot_product = grad_value.dot(vhat)\n",
    "\n",
    "print(dot_product)"
   ],
   "metadata": {
    "collapsed": false,
    "ExecuteTime": {
     "end_time": "2024-01-24T17:25:54.063511Z",
     "start_time": "2024-01-24T17:25:54.060289Z"
    }
   },
   "id": "6fdc87f98861b07a",
   "execution_count": 6
  },
  {
   "cell_type": "code",
   "outputs": [
    {
     "name": "stdout",
     "output_type": "stream",
     "text": [
      "7*N.i + (1 - 6*y)*N.j + 6*z*N.k\n"
     ]
    }
   ],
   "source": [
    "# Problem 2.6\n",
    "\n",
    "F = x*y*N.i + 3*y*z**2*N.j + 7*x*z*N.k\n",
    "\n",
    "def curl(F):\n",
    "    Fx = F.dot(N.i)\n",
    "    Fy = F.dot(N.j)\n",
    "    Fz = F.dot(N.k)\n",
    "    \n",
    "    dFx_dz = sp.diff(Fx,z)\n",
    "    dFx_dy = sp.diff(Fx,y)\n",
    "    \n",
    "    dFy_dx = sp.diff(Fy,x)\n",
    "    dFy_dz = sp.diff(Fy,z)\n",
    "    \n",
    "    dFz_dy = sp.diff(Fz,y)\n",
    "    dFz_dx = sp.diff(Fz,x)\n",
    "    \n",
    "    curl = (dFz_dy - dFy_dz)*N.i + (dFx_dz - dFz_dx)*N.j + (dFy_dx - dFx_dy)*N.k\n",
    "    \n",
    "    return curl\n",
    "    \n",
    "curlF = curl(F)\n",
    "\n",
    "curlcurlF = curl(curlF)\n",
    "\n",
    "print(curlcurlF)\n",
    "    \n"
   ],
   "metadata": {
    "collapsed": false,
    "ExecuteTime": {
     "end_time": "2024-01-24T17:25:54.611432Z",
     "start_time": "2024-01-24T17:25:54.603526Z"
    }
   },
   "id": "9cd0abfaa6beab91",
   "execution_count": 7
  },
  {
   "cell_type": "code",
   "outputs": [
    {
     "name": "stdout",
     "output_type": "stream",
     "text": [
      "r dot a =  a1*x + a2*y + a3*z\n",
      "r dot r =  x**2 + y**2 + z**2\n",
      "r dot r times a =  (a1*(x**2 + y**2 + z**2))*N.i + (a2*(x**2 + y**2 + z**2))*N.j + (a3*(x**2 + y**2 + z**2))*N.k\n",
      "LHS =  2*a1*x + 2*a2*y + 2*a3*z\n",
      "RHS =  2*a1*x + 2*a2*y + 2*a3*z\n"
     ]
    }
   ],
   "source": [
    "# Problem 2.7\n",
    "\n",
    "r = x*N.i + y*N.j + z*N.k\n",
    "a1 = sp.symbols('a1')\n",
    "a2 = sp.symbols('a2')\n",
    "a3 = sp.symbols('a3')\n",
    "a = a1*N.i + a2*N.j + a3*N.k\n",
    "\n",
    "def divergence(a):\n",
    "    ax = a.dot(N.i)\n",
    "    ay = a.dot(N.j)\n",
    "    az = a.dot(N.k)\n",
    "    \n",
    "    dax_dx = sp.diff(ax,x)\n",
    "    day_dy = sp.diff(ay,y)\n",
    "    daz_dz = sp.diff(az,z)\n",
    "    \n",
    "    div = dax_dx + day_dy + daz_dz\n",
    "    \n",
    "    return div\n",
    "\n",
    "rdotr = r.dot(r)\n",
    "rdotr_times_a = rdotr*a\n",
    "del_dot_rdotr_times_a = divergence(rdotr_times_a)\n",
    "\n",
    "print('r dot a = ',r.dot(a))\n",
    "print('r dot r = ',r.dot(r))\n",
    "print('r dot r times a = ',rdotr_times_a)\n",
    "print('LHS = ',del_dot_rdotr_times_a)\n",
    "print('RHS = ',2*(r.dot(a)))"
   ],
   "metadata": {
    "collapsed": false,
    "ExecuteTime": {
     "end_time": "2024-01-24T17:25:55.213557Z",
     "start_time": "2024-01-24T17:25:55.210940Z"
    }
   },
   "id": "6608b0873f0d55ad",
   "execution_count": 8
  },
  {
   "cell_type": "code",
   "outputs": [],
   "source": [],
   "metadata": {
    "collapsed": false,
    "ExecuteTime": {
     "end_time": "2024-01-24T17:25:56.001785Z",
     "start_time": "2024-01-24T17:25:55.998258Z"
    }
   },
   "id": "724018b2562b5066",
   "execution_count": 8
  },
  {
   "cell_type": "code",
   "outputs": [],
   "source": [],
   "metadata": {
    "collapsed": false
   },
   "id": "18f29fad62af6356"
  }
 ],
 "metadata": {
  "kernelspec": {
   "display_name": "Python 3",
   "language": "python",
   "name": "python3"
  },
  "language_info": {
   "codemirror_mode": {
    "name": "ipython",
    "version": 2
   },
   "file_extension": ".py",
   "mimetype": "text/x-python",
   "name": "python",
   "nbconvert_exporter": "python",
   "pygments_lexer": "ipython2",
   "version": "2.7.6"
  }
 },
 "nbformat": 4,
 "nbformat_minor": 5
}
