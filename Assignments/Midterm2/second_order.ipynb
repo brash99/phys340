{
 "cells": [
  {
   "cell_type": "markdown",
   "source": [
    "# Coupled Second Order ODEs\n",
    "\n",
    "$$\\begin{equation}\n",
    "\\begin{bmatrix}\n",
    "\\frac{d^2y_1}{dt^2}\\\\\n",
    "\\frac{d^2y_2}{dt^2}\n",
    "\\end{bmatrix}\n",
    "=\n",
    "\\begin{bmatrix}\n",
    "-4 & 0\\\\\n",
    "9 & 4\n",
    "\\end{bmatrix}\n",
    "\\begin{bmatrix}\n",
    "y_1\\\\\n",
    "y_2\n",
    "\\end{bmatrix}\n",
    "\\end{equation}$$\n",
    "\n",
    "From the fundamental theorem for eigenvalues and eigenvectors, we know that we can write:\n",
    "\n",
    "$$\\begin{bmatrix} \\frac{d^2y_1}{dt^2}\\\\ \\frac{d^2y_2}{dt^2} \\end{bmatrix} = S \\Lambda S^{-1} \\begin{bmatrix} y_1\\\\ y_2 \\end{bmatrix}$$\n",
    "\n",
    "\n",
    "$$S^{-1} \\begin{bmatrix} \\frac{d^2y_1}{dt^2}\\\\ \\frac{d^2y_2}{dt^2} \\end{bmatrix} = \\Lambda S^{-1} \\begin{bmatrix} y_1\\\\ y_2 \\end{bmatrix}$$\n",
    "\n",
    "We can define a new set of variables, $r$ and $s$, as:\n",
    "\n",
    "$$\\begin{equation}\n",
    "\n",
    "\\begin{bmatrix} r_1\\\\ r_2 \\end{bmatrix} = S^{-1} \\begin{bmatrix} y_1\\\\ y_2 \\end{bmatrix}\n",
    "\n",
    "\\end{equation}$$\n",
    "\n",
    "Then, the system of ODEs can be written as\n",
    "\n",
    "$$\\begin{equation}\n",
    "\n",
    "\\begin{bmatrix} \\frac{d^2r_1}{dt^2}\\\\ \\frac{d^2r_2}{dt^2} \\end{bmatrix} = \\Lambda \\begin{bmatrix} r_1\\\\ r_2 \\end{bmatrix}\n",
    "\n",
    "\\end{equation}$$\n",
    "\n",
    "where $\\Lambda$ is a diagonal matrix with the eigenvalues of the coefficient matrix on the diagonal.\n",
    "\n",
    " "
   ],
   "metadata": {
    "collapsed": false
   },
   "id": "89a1c93afb49b69"
  },
  {
   "cell_type": "code",
   "source": [
    "import numpy as np\n",
    "\n",
    "# Initial conditions\n",
    "\n",
    "y10 = 0\n",
    "y20 = np.sqrt(2)\n",
    "y10dot = 2\n",
    "y20dot = 2*np.sqrt(2)\n",
    "\n",
    "# create a coefficient matrix\n",
    "A = np.array([[-4, 0], [9, 4]])\n",
    "print(A)\n",
    "\n",
    "# print the eigenvalues and eigenvectors of the coefficient matrix\n",
    "eigenvalues, eigenvectorsT = np.linalg.eig(A)\n",
    "\n",
    "# the eigenvectors are the columns of the eigenvectorsT matrix\n",
    "# taking the transpose of this matrix gives the eigenvectors as rows\n",
    "eigenvectors = eigenvectorsT.T\n",
    "print('The eigenvalues are ')\n",
    "print(eigenvalues)\n",
    "print('The eigenvectors (columns) are ')\n",
    "print(eigenvectorsT)\n",
    "print()"
   ],
   "metadata": {
    "collapsed": false,
    "ExecuteTime": {
     "end_time": "2025-02-26T22:46:36.618248Z",
     "start_time": "2025-02-26T22:46:36.611126Z"
    }
   },
   "id": "initial_id",
   "outputs": [
    {
     "name": "stdout",
     "output_type": "stream",
     "text": [
      "[[-4  0]\n",
      " [ 9  4]]\n",
      "The eigenvalues are \n",
      "[ 4. -4.]\n",
      "The eigenvectors (columns) are \n",
      "[[ 0.          0.66436384]\n",
      " [ 1.         -0.74740932]]\n",
      "\n"
     ]
    }
   ],
   "execution_count": 31
  },
  {
   "cell_type": "markdown",
   "source": [
    "## Solution of the System of ODEs\n",
    "\n",
    "Solving for the eigenvalues and eigenvectors of the coefficient matrix, we find that the eigenvalues are $\\lambda_1 = 4$ and $\\lambda_2 = -4$.  \n",
    "\n",
    "The corresponding eigenvectors are $\\mathbf{v}_1 = \\begin{bmatrix}0\\\\1\\end{bmatrix}$,  $\\mathbf{v}_2 = \\begin{bmatrix}\\frac{1}{\\sqrt{2}}\\\\-\\frac{1}{\\sqrt{2}}\\end{bmatrix}$.\n",
    "\n",
    "From these, we create a similar matrix $S$ with the eigenvectors as columns, and a diagonal matrix $L$ with the eigenvalues on the diagonal:\n",
    "\n",
    "$$\\begin{equation}\n",
    "S = \\begin{bmatrix}\n",
    "0 & \\frac{1}{\\sqrt{2}}\\\\\n",
    " 1 & -\\frac{1}{\\sqrt{2}}\n",
    "\\end{bmatrix}\n",
    "\\end{equation}$$\n",
    "\n",
    "$$\\begin{equation}\n",
    "L = \\begin{bmatrix}\n",
    "4& 0\\\\\n",
    "0 & -4\n",
    "\\end{bmatrix}\n",
    "\\end{equation}$$\n",
    "\n",
    "The solution of the system of ODEs is then\n",
    "\n",
    "$$\\begin{equation}\n",
    "\\begin{bmatrix}\n",
    "y_1\\\\\n",
    "y_2\n",
    "\\end{bmatrix}\n",
    "=\n",
    "\\begin{bmatrix}\n",
    "0 & \\frac{1}{\\sqrt{2}}\\\\\n",
    "1 & -\\frac{1}{\\sqrt{2}}\n",
    "\\end{bmatrix}\n",
    "\\begin{bmatrix}\n",
    "r_1\\\\\n",
    "r_2\n",
    "\\end{bmatrix}\n",
    "\\end{equation}$$\n",
    "\n",
    "where $r_1$ and $r_2$ are the solutions of the system of ODEs\n",
    "\n",
    "$$\\begin{equation}\n",
    "\\begin{bmatrix}\n",
    "\\frac{d^2r_1}{dt^2}\\\\\n",
    "\\frac{d^2r_2}{dt^2}\n",
    "\\end{bmatrix}\n",
    "=\n",
    "\\begin{bmatrix}\n",
    "-4 & 0\\\\\n",
    "0 & 4\n",
    "\\end{bmatrix}\n",
    "\\begin{bmatrix}\n",
    "r_1\\\\\n",
    "r_2\n",
    "\\end{bmatrix}\n",
    "\\end{equation}$$\n",
    "\n",
    "The solution of this system of ODEs is\n",
    "    \n",
    "$$\\begin{equation}\n",
    "\\begin{bmatrix}\n",
    "r_1\\\\\n",
    "r_2\n",
    "\\end{bmatrix}\n",
    "=\n",
    "\\begin{bmatrix}\n",
    "c_1 e^{2t} + c_2 e^{-2t}\\\\\n",
    "k_1 sin(2t) + k_2 cos(2t)\n",
    "\\end{bmatrix}\n",
    "\\end{equation}$$\n",
    "\n",
    "where $c_1$, $c_2$, $k_1$, and $k_2$ are constants of integration.\n",
    "\n",
    "We can determine these constants of integration from the initial conditions.  If the initial conditions are $y_1(0) = 0$ m, $y_2(0) = \\sqrt{2}$ m, $y_1'(0) = 2$ m/s, and $y_2'(0) = 2\\sqrt{2}$ m/s, then the solution of the system of ODEs is\n",
    "\n",
    "$$\\begin{equation}\n",
    "\\begin{bmatrix}\n",
    "y_1\\\\\n",
    "y_2\n",
    "\\end{bmatrix}\n",
    "=\n",
    "\\begin{bmatrix}\n",
    "0 & \\frac{1}{\\sqrt{2}}\\\\\n",
    " 1 & -\\frac{1}{\\sqrt{2}}\n",
    "\\end{bmatrix}\n",
    "\\begin{bmatrix}\n",
    "c_1 e^{2t} + c_2 e^{-2t}\\\\\n",
    "k_1 sin(2t) + k_2 cos(2t)\n",
    "\\end{bmatrix}\n",
    "\\end{equation}$$\n",
    "\n",
    "where\n",
    "\n",
    "$$\\begin{equation}\n",
    "\\begin{bmatrix}\n",
    "c_1 + c_2\\\\\n",
    "k_2\n",
    "\\end{bmatrix}\n",
    "=\n",
    "\\begin{bmatrix}\n",
    "0 & \\frac{1}{\\sqrt{2}}\\\\\n",
    "1 & -\\frac{1}{\\sqrt{2}}\n",
    "\\end{bmatrix}^{-1}\n",
    "\\begin{bmatrix}\n",
    "0\\\\\n",
    "\\sqrt{2}\n",
    "\\end{bmatrix}\n",
    "\\end{equation}$$\n",
    "\n",
    "$$\\begin{equation}\n",
    "\\begin{bmatrix}\n",
    "c_1 + c_2\\\\\n",
    "k_2\n",
    "\\end{bmatrix}\n",
    "=\n",
    "\\begin{bmatrix}\n",
    "1 & 1\\\\\n",
    "\\sqrt{2} & 0\n",
    "\\end{bmatrix}\n",
    "\\begin{bmatrix}\n",
    "0\\\\\n",
    "\\sqrt{2}\n",
    "\\end{bmatrix}\n",
    "\\end{equation}$$\n",
    "\n",
    "$$\\begin{equation}\n",
    "\\begin{bmatrix}\n",
    "c_2 + c2\\\\\n",
    "k_2\n",
    "\\end{bmatrix}\n",
    "=\n",
    "\\begin{bmatrix}\n",
    "\\sqrt{2}\\\\\n",
    "0\n",
    "\\end{bmatrix}\n",
    "\\end{equation}$$\n",
    "\n",
    "and\n",
    "\n",
    "$$\\begin{equation}\n",
    "\\begin{bmatrix}\n",
    "2c_1 - 2c_2\\\\\n",
    "2k_1\n",
    "\\end{bmatrix}\n",
    "=\n",
    "\\begin{bmatrix}\n",
    "0 & \\frac{1}{\\sqrt{2}}\\\\\n",
    "1 & -\\frac{1}{\\sqrt{2}}\n",
    "\\end{bmatrix}^{-1}\n",
    "\\begin{bmatrix}\n",
    "2\\\\\n",
    "2 \\sqrt{2}\n",
    "\\end{bmatrix}\n",
    "\\end{equation}$$\n",
    "\n",
    "$$\\begin{equation}\n",
    "\\begin{bmatrix}\n",
    "2c_1 - 2c_2\\\\\n",
    "2k_1\n",
    "\\end{bmatrix}\n",
    "=\n",
    "\\begin{bmatrix}\n",
    "1 & 1\\\\\n",
    "\\sqrt{2} & 0\n",
    "\\end{bmatrix}\n",
    "\\begin{bmatrix}\n",
    "2\\\\\n",
    "2 \\sqrt{2}\n",
    "\\end{bmatrix}\n",
    "\\end{equation}$$\n",
    "\n",
    "$$\\begin{equation}\n",
    "\\begin{bmatrix}\n",
    "2c_1 - 2c_2\\\\\n",
    "2k_1\n",
    "\\end{bmatrix}\n",
    "=\n",
    "\\begin{bmatrix}\n",
    "2\\sqrt{2}\\\\\n",
    "2\\sqrt{2}\n",
    "\\end{bmatrix}\n",
    "\\end{equation}$$\n",
    "\n",
    "From these, we can determine the constants of integration, to be:\n",
    "\n",
    "$$c1 = \\sqrt{2}$$\n",
    "$$c2 = 0$$\n",
    "$$k1 = \\sqrt{2}$$\n",
    "$$k2 = 0$$\n",
    "\n",
    "Thus, the solution of the system of ODEs is\n",
    "\n",
    "$$\\begin{equation}\n",
    "\\begin{bmatrix}\n",
    "y_1\\\\\n",
    "y_2\n",
    "\\end{bmatrix}\n",
    "\\begin{bmatrix}\n",
    "0 & \\frac{1}{\\sqrt{2}}\\\\\n",
    "1 & -\\frac{1}{\\sqrt{2}}\n",
    "\\end{bmatrix}\n",
    "\\begin{bmatrix}\n",
    "\\sqrt{2} e^{2t}\\\\\n",
    "\\sqrt{2} sin(2t)\n",
    "\\end{bmatrix}\n",
    "\\end{equation}$$\n",
    "\n",
    "$$\\begin{equation}\n",
    "\\begin{bmatrix}\n",
    "y_1\\\\\n",
    "y_2\n",
    "\\end{bmatrix}\n",
    "=\n",
    "\\begin{bmatrix}\n",
    "sin(2t)\\\\\n",
    "\\sqrt{2}e^{2t} - sin(2t)\n",
    "\\end{bmatrix}\n",
    "\\end{equation}$$\n",
    "\n"
   ],
   "metadata": {
    "collapsed": false
   },
   "id": "eafc23228c5a2117"
  },
  {
   "cell_type": "code",
   "source": [
    "import sympy as sym\n",
    "\n",
    "# create a solution matrix\n",
    "R = sym.Matrix([sym.symbols('r1'), sym.symbols('r2')])\n",
    "sym.pretty_print(R)\n",
    "\n",
    "# create a matrix of eigenvectors\n",
    "S = sym.Matrix(eigenvectorsT)\n",
    "sym.pretty_print(S)\n",
    "\n",
    "# create a diagonal matrix of eigenvalues\n",
    "L = sym.Matrix([[eigenvalues[0], 0], [0, eigenvalues[1]]])\n",
    "\n",
    "# create the inverse of the matrix of eigenvectors\n",
    "Sinv = S.inv()\n",
    "sym.pretty_print(Sinv)\n",
    "\n",
    "if (eigenvalues[0] > 0 ):\n",
    "    r1 = sym.symbols('c1')*sym.exp(sym.sqrt(eigenvalues[0]) * sym.symbols('t')) + sym.symbols('c2')*sym.exp(-sym.sqrt(eigenvalues[0]) * sym.symbols('t'))\n",
    "else:\n",
    "    r1 = sym.symbols('c1') * sym.sin(sym.sqrt(-eigenvalues[0]) * sym.symbols('t')) + sym.symbols('c2') * sym.cos(sym.sqrt(-eigenvalues[0]) * sym.symbols('t'))\n",
    "\n",
    "if (eigenvalues[1] > 0 ):\n",
    "    r2 = sym.symbols('k1')*sym.exp(sym.sqrt(eigenvalues[1]) * sym.symbols('t')) + sym.symbols('k2')*sym.exp(-sym.sqrt(eigenvalues[1]) * sym.symbols('t'))\n",
    "else:\n",
    "    r2 = sym.symbols('k1') * sym.sin(sym.sqrt(-eigenvalues[1]) * sym.symbols('t')) + sym.symbols('k2') * sym.cos(sym.sqrt(-eigenvalues[1]) * sym.symbols('t'))\n",
    "\n",
    "sym.pretty_print(r1)\n",
    "sym.pretty_print(r2)\n",
    "\n",
    "Y = S * R\n",
    "\n",
    "print('The solution is')\n",
    "sym.pretty_print(Y)\n",
    "\n",
    "print('r1(0) = ',r1.subs(sym.symbols('t'),0).subs(sym.symbols('t'),0))\n",
    "print('r2(0) = ',r2.subs(sym.symbols('t'),0).subs(sym.symbols('t'),0))\n",
    "\n",
    "print('r1dot(0) = ',sym.diff(r1,sym.symbols('t')).subs(sym.symbols('t'),0))\n",
    "print('r2dot(0) = ',sym.diff(r2,sym.symbols('t')).subs(sym.symbols('t'),0))\n",
    "\n",
    "\n"
   ],
   "metadata": {
    "collapsed": false,
    "ExecuteTime": {
     "end_time": "2025-02-26T22:39:18.361833Z",
     "start_time": "2025-02-26T22:39:18.344605Z"
    }
   },
   "id": "49606853ee497903",
   "outputs": [
    {
     "name": "stdout",
     "output_type": "stream",
     "text": [
      "⎡r₁⎤\n",
      "⎢  ⎥\n",
      "⎣r₂⎦\n",
      "⎡ 0   0.66436383882992 ⎤\n",
      "⎢                      ⎥\n",
      "⎣1.0  -0.74740931868366⎦\n",
      "⎡     1.125        1.0⎤\n",
      "⎢                     ⎥\n",
      "⎣1.50519932234904   0 ⎦\n",
      "    2.0⋅t       -2.0⋅t\n",
      "c₁⋅ℯ      + c₂⋅ℯ      \n",
      "k₁⋅sin(2.0⋅t) + k₂⋅cos(2.0⋅t)\n",
      "The solution is\n",
      "⎡    0.66436383882992⋅r₂     ⎤\n",
      "⎢                            ⎥\n",
      "⎣1.0⋅r₁ - 0.74740931868366⋅r₂⎦\n",
      "r1(0) =  c1 + c2\n",
      "r2(0) =  k2\n",
      "r1dot(0) =  2.0*c1 - 2.0*c2\n",
      "r2dot(0) =  2.0*k1\n"
     ]
    }
   ],
   "execution_count": 23
  },
  {
   "cell_type": "code",
   "source": [
    "Y0 = S * R.subs(sym.symbols('r1'),r1).subs(sym.symbols('r2'),r2)\n",
    "Y0 = Y0.subs(sym.symbols('t'),0)\n",
    "sym.pretty_print(Y0)\n",
    "\n",
    "Y0dot = S * R.subs(sym.symbols('r1'),sym.diff(r1,sym.symbols('t'))).subs(sym.symbols('r2'),sym.diff(r2,sym.symbols('t')))\n",
    "Y0dot = Y0dot.subs(sym.symbols('t'),0)\n",
    "sym.pretty_print(Y0dot)\n",
    "\n",
    "Y0val = sym.Matrix([sym.symbols('y10'), sym.symbols('y20')])\n",
    "sym.pretty_print(Y0val)\n",
    "\n",
    "Y0dotval = sym.Matrix([sym.symbols('y10dot'), sym.symbols('y20dot')])\n",
    "sym.pretty_print(Y0dotval)\n",
    "\n",
    "Y0val = Y0val.subs(sym.symbols('y10'),y10).subs(sym.symbols('y20'),y20)\n",
    "Y0dotval = Y0dotval.subs(sym.symbols('y10dot'),y10dot).subs(sym.symbols('y20dot'),y20dot)\n",
    "\n",
    "sym.pretty_print(Y0val)\n",
    "sym.pretty_print(Y0dotval)"
   ],
   "metadata": {
    "collapsed": false,
    "ExecuteTime": {
     "end_time": "2025-02-26T22:39:23.649199Z",
     "start_time": "2025-02-26T22:39:23.638348Z"
    }
   },
   "id": "d8de2baffc4d43d0",
   "outputs": [
    {
     "name": "stdout",
     "output_type": "stream",
     "text": [
      "⎡         0.66436383882992⋅k₂         ⎤\n",
      "⎢                                     ⎥\n",
      "⎣1.0⋅c₁ + 1.0⋅c₂ - 0.74740931868366⋅k₂⎦\n",
      "⎡         1.32872767765984⋅k₁         ⎤\n",
      "⎢                                     ⎥\n",
      "⎣2.0⋅c₁ - 2.0⋅c₂ - 1.49481863736732⋅k₁⎦\n",
      "⎡y₁₀⎤\n",
      "⎢   ⎥\n",
      "⎣y₂₀⎦\n",
      "⎡y1̇0⎤\n",
      "⎢   ⎥\n",
      "⎣y2̇0⎦\n",
      "⎡       0       ⎤\n",
      "⎢               ⎥\n",
      "⎣1.4142135623731⎦\n",
      "⎡       2        ⎤\n",
      "⎢                ⎥\n",
      "⎣2.82842712474619⎦\n"
     ]
    }
   ],
   "execution_count": 24
  },
  {
   "cell_type": "code",
   "source": [
    "constant_dict = sym.solve([Y0val[0] - Y0[0], Y0val[1] - Y0[1], Y0dotval[0] - Y0dot[0], Y0dotval[1] - Y0dot[1]], [sym.symbols('c1'), sym.symbols('c2'), sym.symbols('k1'), sym.symbols('k2')])"
   ],
   "metadata": {
    "collapsed": false,
    "ExecuteTime": {
     "end_time": "2025-02-26T22:39:31.643626Z",
     "start_time": "2025-02-26T22:39:31.586766Z"
    }
   },
   "id": "f8a8083e955038d9",
   "outputs": [],
   "execution_count": 25
  },
  {
   "cell_type": "code",
   "source": [
    "print(constant_dict[sym.symbols('c1')])\n",
    "print(constant_dict[sym.symbols('c2')])\n",
    "print(constant_dict[sym.symbols('k1')])\n",
    "print(constant_dict[sym.symbols('k2')])\n"
   ],
   "metadata": {
    "collapsed": false,
    "ExecuteTime": {
     "end_time": "2025-02-26T22:39:32.691008Z",
     "start_time": "2025-02-26T22:39:32.687266Z"
    }
   },
   "id": "57116b65c890286d",
   "outputs": [
    {
     "name": "stdout",
     "output_type": "stream",
     "text": [
      "1.97671356237310\n",
      "-0.562499999999997\n",
      "1.50519932234904\n",
      "0.0\n"
     ]
    }
   ],
   "execution_count": 26
  },
  {
   "cell_type": "code",
   "source": [
    "Y_solution = Y.subs(sym.symbols('r1'),r1).subs(sym.symbols('r2'),r2)\n",
    "Y_solution = Y_solution.subs(sym.symbols('c1'),constant_dict[sym.symbols('c1')]).subs(sym.symbols('c2'),constant_dict[sym.symbols('c2')]).subs(sym.symbols('k1'),constant_dict[sym.symbols('k1')]).subs(sym.symbols('k2'),constant_dict[sym.symbols('k2')])\n",
    "Y_solution = Y_solution.subs(sym.symbols('r1'),r1).subs(sym.symbols('r2'),r2)\n",
    "sym.pretty_print(Y_solution)"
   ],
   "metadata": {
    "collapsed": false,
    "ExecuteTime": {
     "end_time": "2025-02-26T22:39:36.911365Z",
     "start_time": "2025-02-26T22:39:36.906461Z"
    }
   },
   "id": "4b23aed52fdb11d9",
   "outputs": [
    {
     "name": "stdout",
     "output_type": "stream",
     "text": [
      "⎡                    0.999999999999999⋅sin(2.0⋅t)                     ⎤\n",
      "⎢                                                                     ⎥\n",
      "⎢                 2.0⋅t                                         -2.0⋅t⎥\n",
      "⎣1.9767135623731⋅ℯ      - 1.125⋅sin(2.0⋅t) - 0.562499999999997⋅ℯ      ⎦\n"
     ]
    }
   ],
   "execution_count": 27
  },
  {
   "cell_type": "code",
   "source": [
    "import matplotlib.pyplot as plt\n",
    "\n",
    "t = np.linspace(0, 1, 100)\n",
    "\n",
    "y1t = sym.lambdify(sym.symbols('t'), Y_solution[0], 'numpy')\n",
    "y2t = sym.lambdify(sym.symbols('t'), Y_solution[1], 'numpy')\n",
    "\n",
    "plt.plot(t, y1t(t), label='y1')\n",
    "plt.plot(t, y2t(t), label='y2')\n",
    "plt.legend()\n",
    "plt.show()"
   ],
   "metadata": {
    "collapsed": false,
    "ExecuteTime": {
     "end_time": "2025-02-26T22:40:12.006472Z",
     "start_time": "2025-02-26T22:40:11.933455Z"
    }
   },
   "id": "d8912d9dc533394e",
   "outputs": [
    {
     "data": {
      "text/plain": [
       "<Figure size 640x480 with 1 Axes>"
      ],
      "image/png": "[encoded data removed]"
     },
     "metadata": {},
     "output_type": "display_data"
    }
   ],
   "execution_count": 28
  },
  {
   "cell_type": "code",
   "source": [
    "# now, let's calculate the motion numerically, using the Euler method\n",
    "# time step\n",
    "dt = 0.0001\n",
    "\n",
    "# number of time steps\n",
    "n = 10000\n",
    "\n",
    "# create arrays to store the solution\n",
    "tn = np.zeros(n)\n",
    "y1 = np.zeros(n)\n",
    "y2 = np.zeros(n)\n",
    "y1dot = np.zeros(n)\n",
    "y2dot = np.zeros(n)\n",
    "\n",
    "# initial conditions\n",
    "tn[0] = 0\n",
    "y1[0] = 0\n",
    "y2[0] = np.sqrt(2)\n",
    "y1dot[0] = 2\n",
    "y2dot[0] = 2*np.sqrt(2)\n",
    "\n",
    "# loop over time steps\n",
    "for i in range(n-1):\n",
    "    # calculate the derivatives\n",
    "    y1dotdot = -4 * y1[i]\n",
    "    y2dotdot = 9*y1[i] + 4*y2[i]\n",
    "    \n",
    "    # calculate the new values of y1 and y2 (Euler method)\n",
    "    y1[i+1] = y1[i] + y1dot[i] * dt\n",
    "    y2[i+1] = y2[i] + y2dot[i] * dt\n",
    "    \n",
    "    # calculate the new values of y1 and y2 (Euler-Cromer method)\n",
    "    # y1[i+1] = y1[i] + y1dot[i] * dt + 0.5 * y1dotdot * dt**2\n",
    "    # y2[i+1] = y2[i] + y2dot[i] * dt + 0.5 * y2dotdot * dt**2\n",
    "    \n",
    "    # calculate the new values of y1dot and y2dot\n",
    "    y1dot[i+1] = y1dot[i] + y1dotdot * dt\n",
    "    y2dot[i+1] = y2dot[i] + y2dotdot * dt\n",
    "    \n",
    "    # calculate the new time\n",
    "    tn[i+1] = tn[i] + dt"
   ],
   "metadata": {
    "collapsed": false,
    "ExecuteTime": {
     "end_time": "2025-02-26T22:40:25.344071Z",
     "start_time": "2025-02-26T22:40:25.316911Z"
    }
   },
   "id": "811f2f1e4fbaa9f6",
   "outputs": [],
   "execution_count": 29
  },
  {
   "cell_type": "markdown",
   "source": [],
   "metadata": {
    "collapsed": false
   },
   "id": "41c816b280890772"
  },
  {
   "cell_type": "code",
   "source": [
    "# plot the results\n",
    "fig, ax = plt.subplots(2,figsize=(10, 10))\n",
    "ax[0].plot(tn, y1, 'r.', label='y1')\n",
    "ax[1].plot(tn, y2, 'r.', label='y2')\n",
    "ax[0].plot(t, y1t(t), 'b-', label='y1 analytical', linewidth=4)\n",
    "ax[1].plot(t, y2t(t), 'b-', label='y2 analytical', linewidth=4)\n",
    "ax[0].set_xlabel('t (s)')\n",
    "ax[1].set_xlabel('t (s)')\n",
    "ax[0].set_ylabel('y1 (m)')\n",
    "ax[1].set_ylabel('y2 (m)')\n",
    "ax[0].legend()\n",
    "ax[1].legend()\n",
    "plt.show()\n"
   ],
   "metadata": {
    "collapsed": false,
    "ExecuteTime": {
     "end_time": "2025-02-26T22:40:27.620609Z",
     "start_time": "2025-02-26T22:40:27.487536Z"
    }
   },
   "id": "c34fcc69782babc6",
   "outputs": [
    {
     "data": {
      "text/plain": [
       "<Figure size 1000x1000 with 2 Axes>"
      ],
      "image/png": "[encoded data removed]"
     },
     "metadata": {},
     "output_type": "display_data"
    }
   ],
   "execution_count": 30
  },
  {
   "cell_type": "code",
   "execution_count": 10,
   "outputs": [],
   "source": [],
   "metadata": {
    "collapsed": false,
    "ExecuteTime": {
     "end_time": "2024-01-28T15:06:06.328425Z",
     "start_time": "2024-01-28T15:06:06.325982Z"
    }
   },
   "id": "543369ebe9b4ed73"
  },
  {
   "cell_type": "code",
   "execution_count": 9,
   "outputs": [],
   "source": [],
   "metadata": {
    "collapsed": false,
    "ExecuteTime": {
     "end_time": "2023-12-29T18:36:27.470764Z",
     "start_time": "2023-12-29T18:36:27.466834Z"
    }
   },
   "id": "a490b5dbf504dc47"
  }
 ],
 "metadata": {
  "kernelspec": {
   "display_name": "Python 3",
   "language": "python",
   "name": "python3"
  },
  "language_info": {
   "codemirror_mode": {
    "name": "ipython",
    "version": 2
   },
   "file_extension": ".py",
   "mimetype": "text/x-python",
   "name": "python",
   "nbconvert_exporter": "python",
   "pygments_lexer": "ipython2",
   "version": "2.7.6"
  }
 },
 "nbformat": 4,
 "nbformat_minor": 5
}
