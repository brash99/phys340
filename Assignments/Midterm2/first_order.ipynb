{
 "cells": [
  {
   "cell_type": "markdown",
   "source": [
    "# Coupled First Order ODEs\n",
    "\n",
    "Consider the following system of coupled first order ODEs:\n",
    "\n",
    "$$\\begin{equation}\n",
    "\\frac{dx}{dt} =  x + y\\\\\n",
    "\\frac{dy}{dt} =  4x + y\n",
    "\\end{equation}$$\n",
    "\n",
    "where $x$ and $y$ are functions of time $t$.  This system of ODEs can be written in matrix form as:\n",
    "\n",
    "$$\\begin{equation}\n",
    "\\begin{bmatrix}\n",
    "\\frac{dx}{dt}\\\\\n",
    "\\frac{dy}{dt}\n",
    "\\end{bmatrix}\n",
    "=\n",
    "\\begin{bmatrix}\n",
    "1 & 1\\\\\n",
    "4 & 1\n",
    "\\end{bmatrix}\n",
    "\\begin{bmatrix}\n",
    "x\\\\\n",
    "y\n",
    "\\end{bmatrix}\n",
    "\\end{equation}$$\n",
    "\n",
    "From the fundamental theorem for eigenvalues and eigenvectors, we know that we can write:\n",
    "\n",
    "$$\\begin{bmatrix} \\frac{dx}{dt}\\\\ \\frac{dy}{dt} \\end{bmatrix} = S \\Lambda S^{-1} \\begin{bmatrix} x\\\\ y \\end{bmatrix}$$\n",
    "\n",
    "\n",
    "$$S^{-1} \\begin{bmatrix} \\frac{dx}{dt}\\\\ \\frac{dy}{dt} \\end{bmatrix} = \\Lambda S^{-1} \\begin{bmatrix} x\\\\ y \\end{bmatrix}$$\n",
    "\n",
    "We can define a new set of variables, $r_1$ and $r_2$, as:\n",
    "\n",
    "$$\\begin{equation}\n",
    "\n",
    "\\begin{bmatrix} r_1\\\\ r_2 \\end{bmatrix} = S^{-1} \\begin{bmatrix} x\\\\ y \\end{bmatrix}\n",
    "\n",
    "\\end{equation}$$\n",
    "\n",
    "Then, the system of ODEs can be written as\n",
    "\n",
    "$$\\begin{equation}\n",
    "\n",
    "\\begin{bmatrix} \\frac{dr_1}{dt}\\\\ \\frac{dr_2}{dt} \\end{bmatrix} = \\Lambda \\begin{bmatrix} r_1\\\\ r_2 \\end{bmatrix}\n",
    "\n",
    "\\end{equation}$$\n",
    "\n",
    "where $\\Lambda$ is a diagonal matrix with the eigenvalues of the coefficient matrix on the diagonal.\n",
    "\n",
    " "
   ],
   "metadata": {
    "collapsed": false
   },
   "id": "89a1c93afb49b69"
  },
  {
   "cell_type": "code",
   "execution_count": 10,
   "outputs": [
    {
     "name": "stdout",
     "output_type": "stream",
     "text": [
      "[[1 1]\n",
      " [4 1]]\n",
      "The eigenvalues are \n",
      "[ 3. -1.]\n",
      "The eigenvectors (columns) are \n",
      "[[ 0.4472136  -0.4472136 ]\n",
      " [ 0.89442719  0.89442719]]\n"
     ]
    }
   ],
   "source": [
    "import numpy as np\n",
    "\n",
    "# Initial conditions\n",
    "\n",
    "y10 = 1/np.sqrt(5)\n",
    "y20 = -3/np.sqrt(5)\n",
    "\n",
    "# create a coefficient matrix\n",
    "A = np.array([[1, 1],[4, 1]])\n",
    "print(A)\n",
    "\n",
    "# print the eigenvalues and eigenvectors of the coefficient matrix\n",
    "eigenvalues, eigenvectorsT = np.linalg.eig(A)\n",
    "\n",
    "# the eigenvectors are the columns of the eigenvectorsT matrix\n",
    "# taking the transpose of this matrix gives the eigenvectors as rows\n",
    "eigenvectors = eigenvectorsT.T\n",
    "print('The eigenvalues are ')\n",
    "print(eigenvalues)\n",
    "print('The eigenvectors (columns) are ')\n",
    "print(eigenvectorsT)\n",
    "print()"
   ],
   "metadata": {
    "collapsed": false,
    "ExecuteTime": {
     "end_time": "2024-02-26T18:35:41.819797Z",
     "start_time": "2024-02-26T18:35:41.815740Z"
    }
   },
   "id": "initial_id"
  },
  {
   "cell_type": "markdown",
   "source": [
    "## Solution of the System of ODEs\n",
    "\n",
    "Solving for the eigenvalues and eigenvectors of the coefficient matrix, we find that the eigenvalues are $\\lambda_1 = 3$ and $\\lambda_2 = -1$. \n",
    "\n",
    "We can show this by solving the characteristic equation of the coefficient matrix:\n",
    "\n",
    "$$\\begin{equation}\n",
    "\\begin{vmatrix}\n",
    "1-\\lambda & 1\\\\\n",
    "4 & 1-\\lambda\n",
    "\\end{vmatrix}\n",
    "= (1-\\lambda)(1-\\lambda) - 4 = 0\n",
    "\\end{equation}$$\n",
    "\n",
    "This leads to the characteristic equation $\\lambda^2 - 2\\lambda - 3 = 0$, which has solutions $\\lambda_1 = 3$ and $\\lambda_2 = -1$. \n",
    "\n",
    "The corresponding eigenvectors are $\\mathbf{v}_1 = \\begin{bmatrix}\\frac{1}{\\sqrt{5}}\\\\\\frac{2}{\\sqrt{5}}\\end{bmatrix}$ and $\\mathbf{v}_2 = \\begin{bmatrix}\\frac{1}{\\sqrt{5}}\\\\-\\frac{2}{\\sqrt{5}}\\end{bmatrix}$.\n",
    "\n",
    "We can show this by solving the equation $(A - \\lambda I)\\mathbf{v} = 0$ for each eigenvalue.  For $\\lambda_1 = 3$, we have\n",
    "\n",
    "$$\\begin{equation}\n",
    "\\begin{bmatrix}\n",
    "1-3 & 1\\\\\n",
    "4 & 1-3\n",
    "\\end{bmatrix}\n",
    "\\begin{bmatrix}\n",
    "v_{11}\\\\\n",
    "v_{21}\n",
    "\\end{bmatrix}\n",
    "= \\begin{bmatrix}\n",
    "-2 & 1\\\\\n",
    "4 & -2\n",
    "\\end{bmatrix}\n",
    "\\begin{bmatrix}\n",
    "v_{11}\\\\\n",
    "v_{21}\n",
    "\\end{bmatrix}\n",
    "= \\begin{bmatrix}\n",
    "0\\\\\n",
    "0\n",
    "\\end{bmatrix}\n",
    "\\end{equation}$$\n",
    "\n",
    "This leads to the equations $-2v_{11} + v_{21} = 0$ and $4v_{11} - 2v_{21} = 0$.  Each of these leads to the condition $v_{21} = 2v_{11}$.\n",
    "\n",
    "We can also impose that the eigenvector is normalized, so that $v_{11}^2 + v_{21}^2 = 1$.  This leads to the condition $v_{11}^2 + 4v_{11}^2 = 1$, or $5v_{11}^2 = 1$, or $v_{11} = \\frac{1}{\\sqrt{5}}$.  Then, $v_{21} = 2v_{11} = \\frac{2}{\\sqrt{5}}$.\n",
    "\n",
    "For $\\lambda_2 = -1$, we have\n",
    "\n",
    "$$\\begin{equation}\n",
    "\\begin{bmatrix}\n",
    "-1-(-1) & 1\\\\\n",
    "4 & -1-(-1)\n",
    "\\end{bmatrix}\n",
    "\\begin{bmatrix}\n",
    "v_{12}\\\\\n",
    "v_{22}\n",
    "\\end{bmatrix}\n",
    "= \\begin{bmatrix}\n",
    "2 & 1\\\\\n",
    "4 & 2\n",
    "\\end{bmatrix}\n",
    "\\begin{bmatrix}\n",
    "v_{12}\\\\\n",
    "v_{22}\n",
    "\\end{bmatrix}\n",
    "= \\begin{bmatrix}\n",
    "0\\\\\n",
    "0\n",
    "\\end{bmatrix}\n",
    "\\end{equation}$$\n",
    "\n",
    "This leads to the equations $2v_{12} + v_{22} = 0$ and $4v_{12} + 2v_{22} = 0$.  Each of these leads to the condition $v_{22} = -2v_{12}$.\n",
    "\n",
    "We can also impose that the eigenvector is normalized, so that $v_{12}^2 + v_{22}^2 = 1$.  This leads to the condition $v_{12}^2 + 4v_{12}^2 = 1$, or $5v_{12}^2 = 1$, or $v_{12} = \\frac{1}{\\sqrt{5}}$.  Then, $v_{22} = -2v_{12} = -\\frac{2}{\\sqrt{5}}$.\n",
    "\n",
    "The eigenvectors are then $\\mathbf{v}_1 = \\begin{bmatrix}\\frac{1}{\\sqrt{5}}\\\\\\frac{2}{\\sqrt{5}}\\end{bmatrix}$ and $\\mathbf{v}_2 = \\begin{bmatrix}\\frac{1}{\\sqrt{5}}\\\\-\\frac{2}{\\sqrt{5}}\\end{bmatrix}$.\n",
    "\n",
    "From these, we create a similar matrix $S$ with the eigenvectors as columns, and a diagonal matrix $L$ with the eigenvalues on the diagonal:\n",
    "\n",
    "$$\\begin{equation}\n",
    "S = \\begin{bmatrix}\n",
    "\\frac{1}{\\sqrt{5}} & \\frac{1}{\\sqrt{5}}\\\\\n",
    "\\frac{2}{\\sqrt{5}} & -\\frac{2}{\\sqrt{5}}\n",
    "\\end{bmatrix}\n",
    "\\end{equation}$$\n",
    "\n",
    "$$\\begin{equation}\n",
    "L = \\begin{bmatrix}\n",
    "3& 0\\\\\n",
    "0 & -1\n",
    "\\end{bmatrix}\n",
    "\\end{equation}$$\n",
    "\n",
    "The determinant of the matrix $S$ is $\\frac{1}{\\sqrt{5}}(-\\frac{2}{\\sqrt{5}}) - \\frac{1}{\\sqrt{5}}(\\frac{2}{\\sqrt{5}}) = -\\frac{4}{5}$.  \n",
    "\n",
    "The inverse of the matrix $S$ is then\n",
    "\n",
    "$$\\begin{equation}\n",
    "S^{-1} = \\frac{1}{-\\frac{4}{5}}\\begin{bmatrix}\n",
    "-\\frac{2}{\\sqrt{5}} & -\\frac{1}{\\sqrt{5}}\\\\\n",
    "-\\frac{2}{\\sqrt{5}} & \\frac{1}{\\sqrt{5}}\n",
    "\\end{bmatrix}\n",
    "\\end{equation}$$\n",
    "\n",
    "or, simplifying, \n",
    "\n",
    "$$\\begin{equation}\n",
    "S^{-1} = \\sqrt{5} \\begin{bmatrix}\n",
    "\\frac{1}{2} & \\frac{1}{4}\\\\\n",
    "\\frac{1}{2} & -\\frac{1}{4}\n",
    "\\end{bmatrix}\n",
    "\\end{equation}$$\n",
    "\n",
    "The solution of the system of ODEs is then\n",
    "\n",
    "$$\\begin{equation}\n",
    "\\begin{bmatrix}\n",
    "x\\\\\n",
    "y\n",
    "\\end{bmatrix}\n",
    "=\n",
    "S\n",
    "\\begin{bmatrix}\n",
    "r_1\\\\\n",
    "r_2\n",
    "\\end{bmatrix}\n",
    "=\n",
    "\\begin{bmatrix}\n",
    "\\frac{1}{\\sqrt{5}} & \\frac{1}{\\sqrt{5}}\\\\\n",
    "\\frac{2}{\\sqrt{5}} & -\\frac{2}{\\sqrt{5}}\n",
    "\\end{bmatrix}\n",
    "\\begin{bmatrix}\n",
    "r_1\\\\\n",
    "r_2\n",
    "\\end{bmatrix}\n",
    "\\end{equation}$$\n",
    "\n",
    "where $r_1$ and $r_2$ are the solutions of the system of ODEs\n",
    "\n",
    "$$\\begin{equation}\n",
    "\\begin{bmatrix}\n",
    "\\frac{dr_1}{dt}\\\\\n",
    "\\frac{dr_2}{dt}\n",
    "\\end{bmatrix}\n",
    "=\n",
    "\\begin{bmatrix}\n",
    "3& 0\\\\\n",
    "0 & -1\n",
    "\\end{bmatrix}\n",
    "\\begin{bmatrix}\n",
    "r_1\\\\\n",
    "r_2\n",
    "\\end{bmatrix}\n",
    "\\end{equation}$$\n",
    "\n",
    "The solution of this system of ODEs is\n",
    "    \n",
    "$$\\begin{equation}\n",
    "\\begin{bmatrix}\n",
    "r_1\\\\\n",
    "r_2\n",
    "\\end{bmatrix}\n",
    "=\n",
    "\\begin{bmatrix}\n",
    "r_{10} e^{3t}\\\\\n",
    "r_{20} e^{-t}\n",
    "\\end{bmatrix}\n",
    "\\end{equation}$$\n",
    "\n",
    "where $r_{10}$, $r_{20}$  are constants of integration.\n",
    "\n",
    "We can determine these constants of integration from the initial conditions.  If the initial conditions are $x(0) = \\frac{1}{\\sqrt{5}}$, $y(0) = -\\frac{3}{\\sqrt{5}}$ then the solution of the system of ODEs is\n",
    "\n",
    "$$\\begin{equation}\n",
    "\\begin{bmatrix}\n",
    "r_{10}\\\\\n",
    "r_{20}\n",
    "\\end{bmatrix}\n",
    "= \\sqrt{5}\n",
    "\\begin{bmatrix}\n",
    "\\frac{1}{2} & \\frac{1}{4}\\\\\n",
    "\\frac{1}{2} & -\\frac{1}{4}\n",
    "\\end{bmatrix}\n",
    "\\begin{bmatrix}\n",
    "\\frac{1}{\\sqrt{5}}\\\\\n",
    "-\\frac{3}{\\sqrt{5}}\n",
    "\\end{bmatrix}\n",
    "\\end{equation}$$\n",
    "\n",
    "\n",
    "This leads to the following solution for $y_1$ and $y_2$:\n",
    "\n",
    "$$\\begin{equation}\n",
    "r_{10}= \\frac{1}{2} - \\frac{3}{4} = -\\frac{1}{4}  \\\\\n",
    "r_{20}= \\frac{1}{2}  + \\frac{3}{4} = \\frac{5}{4}\n",
    "\\end{equation}$$\n",
    "\n",
    "The solution of the system of ODEs is then\n",
    "\n",
    "$$\\begin{equation}\n",
    "\\begin{bmatrix}\n",
    "x\\\\\n",
    "y\n",
    "\\end{bmatrix}\n",
    "=\n",
    "S\n",
    "\\begin{bmatrix}\n",
    "r\\\\\n",
    "s\n",
    "\\end{bmatrix}\n",
    "=\n",
    "\\begin{bmatrix}\n",
    "\\frac{1}{\\sqrt{5}} & \\frac{1}{\\sqrt{5}}\\\\\n",
    "\\frac{2}{\\sqrt{5}} & -\\frac{2}{\\sqrt{5}}\n",
    "\\end{bmatrix}\n",
    "\\begin{bmatrix}\n",
    "-\\frac{1}{4} e^{3t}\\\\\n",
    "\\frac{5}{4} e^{-t}\n",
    "\\end{bmatrix}\n",
    "\\end{equation}$$\n",
    "\n",
    "Multiplying the matrices, we find\n",
    "\n",
    "$$\\begin{equation}\n",
    "\\begin{bmatrix}\n",
    "x\\\\\n",
    "y\n",
    "\\end{bmatrix}\n",
    "=\n",
    "\\begin{bmatrix}\n",
    "\\frac{1}{\\sqrt{5}}(-\\frac{1}{4} e^{3t} + \\frac{5}{4} e^{-t})\\\\\n",
    "\\frac{2}{\\sqrt{5}}(-\\frac{1}{4} e^{3t} - \\frac{5}{4} e^{-t})\n",
    "\\end{bmatrix}\n",
    "\\end{equation}$$\n"
   ],
   "metadata": {
    "collapsed": false
   },
   "id": "eafc23228c5a2117"
  },
  {
   "cell_type": "code",
   "execution_count": 11,
   "outputs": [
    {
     "name": "stdout",
     "output_type": "stream",
     "text": [
      "⎡r₁⎤\n",
      "⎢  ⎥\n",
      "⎣r₂⎦\n",
      "⎡0.447213595499958  -0.447213595499958⎤\n",
      "⎢                                     ⎥\n",
      "⎣0.894427190999916  0.894427190999916 ⎦\n",
      "⎡1.11803398874989   0.559016994374947⎤\n",
      "⎢                                    ⎥\n",
      "⎣-1.11803398874989  0.559016994374948⎦\n",
      "     3.0⋅t\n",
      "r₁₀⋅ℯ     \n",
      "     -1.0⋅t\n",
      "r₂₀⋅ℯ      \n",
      "The solution is\n",
      "⎡0.447213595499958⋅r₁ - 0.447213595499958⋅r₂⎤\n",
      "⎢                                           ⎥\n",
      "⎣0.894427190999916⋅r₁ + 0.894427190999916⋅r₂⎦\n",
      "r1(0) =  r10\n",
      "r2(0) =  r20\n"
     ]
    }
   ],
   "source": [
    "import sympy as sym\n",
    "\n",
    "# create a solution matrix\n",
    "R = sym.Matrix([sym.symbols('r1'), sym.symbols('r2')])\n",
    "sym.pretty_print(R)\n",
    "\n",
    "# create a matrix of eigenvectors\n",
    "S = sym.Matrix(eigenvectorsT)\n",
    "sym.pretty_print(S)\n",
    "\n",
    "# create a diagonal matrix of eigenvalues\n",
    "L = sym.Matrix([[eigenvalues[0], 0], [0, eigenvalues[1]]])\n",
    "\n",
    "# create the inverse of the matrix of eigenvectors\n",
    "Sinv = S.inv()\n",
    "sym.pretty_print(Sinv)\n",
    "\n",
    "r1 = sym.symbols('r10')*sym.exp(eigenvalues[0] * sym.symbols('t'))\n",
    "r2 = sym.symbols('r20')*sym.exp(eigenvalues[1] * sym.symbols('t'))\n",
    "\n",
    "sym.pretty_print(r1)\n",
    "sym.pretty_print(r2)\n",
    "\n",
    "Y = S * R\n",
    "\n",
    "print('The solution is')\n",
    "sym.pretty_print(Y)\n",
    "\n",
    "print('r1(0) = ',r1.subs(sym.symbols('t'),0).subs(sym.symbols('t'),0))\n",
    "print('r2(0) = ',r2.subs(sym.symbols('t'),0).subs(sym.symbols('t'),0))\n",
    "\n",
    "\n"
   ],
   "metadata": {
    "collapsed": false,
    "ExecuteTime": {
     "end_time": "2024-02-26T18:35:41.839885Z",
     "start_time": "2024-02-26T18:35:41.825575Z"
    }
   },
   "id": "49606853ee497903"
  },
  {
   "cell_type": "code",
   "execution_count": 12,
   "outputs": [
    {
     "name": "stdout",
     "output_type": "stream",
     "text": [
      "⎡0.447213595499958⋅r₁₀ - 0.447213595499958⋅r₂₀⎤\n",
      "⎢                                             ⎥\n",
      "⎣0.894427190999916⋅r₁₀ + 0.894427190999916⋅r₂₀⎦\n",
      "⎡1.34164078649987⋅r₁₀ + 0.447213595499958⋅r₂₀⎤\n",
      "⎢                                            ⎥\n",
      "⎣2.68328157299975⋅r₁₀ - 0.894427190999916⋅r₂₀⎦\n",
      "⎡y₁₀⎤\n",
      "⎢   ⎥\n",
      "⎣y₂₀⎦\n",
      "⎡0.447213595499958⎤\n",
      "⎢                 ⎥\n",
      "⎣-1.34164078649987⎦\n"
     ]
    }
   ],
   "source": [
    "Y0 = S * R.subs(sym.symbols('r1'),r1).subs(sym.symbols('r2'),r2)\n",
    "Y0 = Y0.subs(sym.symbols('t'),0)\n",
    "sym.pretty_print(Y0)\n",
    "\n",
    "Y0dot = S * R.subs(sym.symbols('r1'),sym.diff(r1,sym.symbols('t'))).subs(sym.symbols('r2'),sym.diff(r2,sym.symbols('t')))\n",
    "Y0dot = Y0dot.subs(sym.symbols('t'),0)\n",
    "sym.pretty_print(Y0dot)\n",
    "\n",
    "Y0val = sym.Matrix([sym.symbols('y10'), sym.symbols('y20')])\n",
    "sym.pretty_print(Y0val)\n",
    "\n",
    "Y0val = Y0val.subs(sym.symbols('y10'),y10).subs(sym.symbols('y20'),y20)\n",
    "\n",
    "sym.pretty_print(Y0val)"
   ],
   "metadata": {
    "collapsed": false,
    "ExecuteTime": {
     "end_time": "2024-02-26T18:35:41.840132Z",
     "start_time": "2024-02-26T18:35:41.832714Z"
    }
   },
   "id": "d8de2baffc4d43d0"
  },
  {
   "cell_type": "code",
   "execution_count": 13,
   "outputs": [],
   "source": [
    "constant_dict = sym.solve([Y0val[0] - Y0[0], Y0val[1] - Y0[1]], [sym.symbols('r10'), sym.symbols('r20')])"
   ],
   "metadata": {
    "collapsed": false,
    "ExecuteTime": {
     "end_time": "2024-02-26T18:35:41.865560Z",
     "start_time": "2024-02-26T18:35:41.845635Z"
    }
   },
   "id": "f8a8083e955038d9"
  },
  {
   "cell_type": "code",
   "execution_count": 14,
   "outputs": [
    {
     "name": "stdout",
     "output_type": "stream",
     "text": [
      "-0.249999999999998\n",
      "-1.25000000000000\n"
     ]
    }
   ],
   "source": [
    "print(constant_dict[sym.symbols('r10')])\n",
    "print(constant_dict[sym.symbols('r20')])\n"
   ],
   "metadata": {
    "collapsed": false,
    "ExecuteTime": {
     "end_time": "2024-02-26T18:35:41.866913Z",
     "start_time": "2024-02-26T18:35:41.849324Z"
    }
   },
   "id": "57116b65c890286d"
  },
  {
   "cell_type": "code",
   "execution_count": 15,
   "outputs": [
    {
     "name": "stdout",
     "output_type": "stream",
     "text": [
      "⎡                       3.0⋅t                          -1.0⋅t⎤\n",
      "⎢0.447213595499958⋅r₁₀⋅ℯ      - 0.447213595499958⋅r₂₀⋅ℯ      ⎥\n",
      "⎢                                                            ⎥\n",
      "⎢                       3.0⋅t                          -1.0⋅t⎥\n",
      "⎣0.894427190999916⋅r₁₀⋅ℯ      + 0.894427190999916⋅r₂₀⋅ℯ      ⎦\n",
      "⎡                     3.0⋅t                      -1.0⋅t⎤\n",
      "⎢- 0.111803398874989⋅ℯ      + 0.559016994374946⋅ℯ      ⎥\n",
      "⎢                                                      ⎥\n",
      "⎢                     3.0⋅t                     -1.0⋅t ⎥\n",
      "⎣- 0.223606797749977⋅ℯ      - 1.11803398874989⋅ℯ       ⎦\n"
     ]
    }
   ],
   "source": [
    "Y_solution = Y.subs(sym.symbols('r1'),r1).subs(sym.symbols('r2'),r2)\n",
    "sym.pretty_print(Y_solution)\n",
    "Y_solution = Y_solution.subs(constant_dict)\n",
    "sym.pretty_print(Y_solution)"
   ],
   "metadata": {
    "collapsed": false,
    "ExecuteTime": {
     "end_time": "2024-02-26T18:35:41.867344Z",
     "start_time": "2024-02-26T18:35:41.854374Z"
    }
   },
   "id": "4b23aed52fdb11d9"
  },
  {
   "cell_type": "code",
   "execution_count": 16,
   "outputs": [
    {
     "data": {
      "text/plain": "<Figure size 640x480 with 1 Axes>",
      "image/png": "[encoded data removed]"
     },
     "metadata": {},
     "output_type": "display_data"
    }
   ],
   "source": [
    "import matplotlib.pyplot as plt\n",
    "\n",
    "t = np.linspace(0, 2, 100)\n",
    "\n",
    "xt = sym.lambdify(sym.symbols('t'), Y_solution[0], 'numpy')\n",
    "yt = sym.lambdify(sym.symbols('t'), Y_solution[1], 'numpy')\n",
    "\n",
    "plt.plot(t, xt(t), label='x')\n",
    "plt.plot(t, yt(t), label='y')\n",
    "plt.legend()\n",
    "plt.show()"
   ],
   "metadata": {
    "collapsed": false,
    "ExecuteTime": {
     "end_time": "2024-02-26T18:35:41.921756Z",
     "start_time": "2024-02-26T18:35:41.864158Z"
    }
   },
   "id": "d8912d9dc533394e"
  },
  {
   "cell_type": "code",
   "execution_count": 17,
   "outputs": [],
   "source": [
    "# now, let's calculate the motion numerically, using the Euler method\n",
    "# time step\n",
    "dt = 0.001\n",
    "\n",
    "# number of time steps\n",
    "n = 2000\n",
    "\n",
    "# create arrays to store the solution\n",
    "tn = np.zeros(n)\n",
    "x = np.zeros(n)\n",
    "y = np.zeros(n)\n",
    "xdot = np.zeros(n)\n",
    "ydot = np.zeros(n)\n",
    "\n",
    "# initial conditions\n",
    "tn[0] = 0\n",
    "x[0] = 1/np.sqrt(5)\n",
    "y[0] = -3/np.sqrt(5)\n",
    "\n",
    "# loop over time steps\n",
    "for i in range(n-1):\n",
    "    # calculate the derivatives\n",
    "    xdot[i] = x[i] + y[i]\n",
    "    ydot[i] = 4*x[i] + y[i]\n",
    "    \n",
    "    # calculate the new values of y1 and y2 (Euler method)\n",
    "    x[i+1] = x[i] + xdot[i] * dt\n",
    "    y[i+1] = y[i] + ydot[i] * dt\n",
    "    \n",
    "    # calculate the new time\n",
    "    tn[i+1] = tn[i] + dt"
   ],
   "metadata": {
    "collapsed": false,
    "ExecuteTime": {
     "end_time": "2024-02-26T18:35:41.927684Z",
     "start_time": "2024-02-26T18:35:41.924791Z"
    }
   },
   "id": "811f2f1e4fbaa9f6"
  },
  {
   "cell_type": "markdown",
   "source": [],
   "metadata": {
    "collapsed": false
   },
   "id": "41c816b280890772"
  },
  {
   "cell_type": "code",
   "execution_count": 18,
   "outputs": [
    {
     "data": {
      "text/plain": "<Figure size 1000x1000 with 2 Axes>",
      "image/png": "[encoded data removed]"
     },
     "metadata": {},
     "output_type": "display_data"
    }
   ],
   "source": [
    "# plot the results\n",
    "fig, ax = plt.subplots(2,figsize=(10, 10))\n",
    "ax[0].plot(tn, x, 'r.', label='x')\n",
    "ax[1].plot(tn, y, 'r.', label='y')\n",
    "ax[0].plot(t, xt(t), 'b-', label='x analytical', linewidth=4)\n",
    "ax[1].plot(t, yt(t), 'b-', label='y analytical', linewidth=4)\n",
    "ax[0].set_xlabel('t (s)')\n",
    "ax[1].set_xlabel('t (s)')\n",
    "ax[0].set_ylabel('x (m)')\n",
    "ax[1].set_ylabel('y (m)')\n",
    "ax[0].legend()\n",
    "ax[1].legend()\n",
    "plt.show()\n"
   ],
   "metadata": {
    "collapsed": false,
    "ExecuteTime": {
     "end_time": "2024-02-26T18:35:42.051410Z",
     "start_time": "2024-02-26T18:35:41.937585Z"
    }
   },
   "id": "c34fcc69782babc6"
  },
  {
   "cell_type": "code",
   "execution_count": 18,
   "outputs": [],
   "source": [],
   "metadata": {
    "collapsed": false,
    "ExecuteTime": {
     "end_time": "2024-02-26T18:35:42.051699Z",
     "start_time": "2024-02-26T18:35:42.049425Z"
    }
   },
   "id": "543369ebe9b4ed73"
  },
  {
   "cell_type": "code",
   "execution_count": 18,
   "outputs": [],
   "source": [],
   "metadata": {
    "collapsed": false,
    "ExecuteTime": {
     "end_time": "2024-02-26T18:35:42.054574Z",
     "start_time": "2024-02-26T18:35:42.053106Z"
    }
   },
   "id": "a490b5dbf504dc47"
  }
 ],
 "metadata": {
  "kernelspec": {
   "display_name": "Python 3",
   "language": "python",
   "name": "python3"
  },
  "language_info": {
   "codemirror_mode": {
    "name": "ipython",
    "version": 2
   },
   "file_extension": ".py",
   "mimetype": "text/x-python",
   "name": "python",
   "nbconvert_exporter": "python",
   "pygments_lexer": "ipython2",
   "version": "2.7.6"
  }
 },
 "nbformat": 4,
 "nbformat_minor": 5
}
