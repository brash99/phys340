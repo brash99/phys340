{
 "cells": [
  {
   "cell_type": "markdown",
   "source": [
    "# Lagrange's Identity\n",
    "\n",
    "Lagrange's identity is one that relates the size of the cross product of two vectors to the size of the dot product of the same two vectors. It is given as follows:\n",
    "\n",
    "\\begin{equation}\n",
    "\\left| \\mathbf{A} \\times \\mathbf{B} \\right|^2 = \n",
    "\\left| \\mathbf{A} \\right|^2 \\left| \\mathbf{B} \\right|^2 - (\\mathbf{A} \\cdot \\mathbf{B})^2\n",
    "\\end{equation}\n",
    "\n",
    "## Proof\n",
    "\n",
    "The proof of the vector triple product is given as follows.\n",
    "\n",
    "Let: \n",
    "$\\mathbf{A} = a_1\\mathbf{i} + a_2\\mathbf{j} + a_3\\mathbf{k}$\n",
    "\n",
    "Let:\n",
    "$\\mathbf{B} = b_1\\mathbf{i} + b_2\\mathbf{j} + b_3\\mathbf{k}$\n",
    "\n",
    "\n",
    "Then, the vector product $\\mathbf{A} \\times \\mathbf{B}$ is given by\n",
    "\n",
    "\\begin{equation}\n",
    "\\mathbf{A} \\times \\mathbf{B} = \\begin{vmatrix}\n",
    "\\mathbf{i} & \\mathbf{j} & \\mathbf{k} \\\\\n",
    "a_1 & a_2 & a_3 \\\\\n",
    "b_1 & b_2 & b_3\n",
    "\\end{vmatrix}\n",
    "\\end{equation}\n",
    "\n",
    "\\begin{equation}\n",
    "= (a_2b_3 - a_3b_2)\\mathbf{i} - (a_1b_3 - a_3b_1)\\mathbf{j} + (a_1b_2 - a_2b_1)\\mathbf{k}\n",
    "\\end{equation}\n",
    "\n",
    "Now, the size of the vector product is given by\n",
    "\n",
    "\\begin{equation}\n",
    "\\left| \\mathbf{A} \\times \\mathbf{B} \\right|^2 = (a_2b_3 - a_3b_2)^2 + (a_1b_3 - a_3b_1)^2 + (a_1b_2 - a_2b_1)^2\n",
    "= a_2^2b_3^2 - 2a_2a_3b_2b_3 + a_3^2b_2^2 + a_1^2b_3^2 - 2a_1a_3b_1b_3 + a_3^2b_1^2 + a_1^2b_2^2 - 2a_1a_2b_1b_2 + a_2^2b_1^2\n",
    "\\end{equation}\n",
    "\n",
    "Looking at the right-hand side of the equation, we can see that it is equal to\n",
    "\n",
    "\\begin{equation}\n",
    "\\left| \\mathbf{A} \\right|^2 \\left| \\mathbf{B} \\right|^2 - (\\mathbf{A} \\cdot \\mathbf{B})^2\n",
    "= (a_1^2 + a_2^2 + a_3^2)(b_1^2 + b_2^2 + b_3^2) - (a_1b_1 + a_2b_2 + a_3b_3)^2\n",
    "= a_1^2b_1^2 + a_1^2b_2^2 + a_1^2b_3^2 + a_2^2b_1^2 + a_2^2b_2^2 + a_2^2b_3^2 + a_3^2b_1^2 + a_3^2b_2^2 + a_3^2b_3^2 - (a_1b_1 + a_2b_2 + a_3b_3)^2\n",
    "= a_1^2b_1^2 + a_1^2b_2^2 + a_1^2b_3^2 + a_2^2b_1^2 + a_2^2b_2^2 + a_2^2b_3^2 + a_3^2b_1^2 + a_3^2b_2^2 + a_3^2b_3^2 - (a_1^2b_1^2 + a_1a_2b_1b_2 + a_1a_3b_1b_3 + a_1a_2b_1b_2 + a_2a_3b_2b_3 + a_3a_1b_3b_1)\n",
    "\\end{equation}\n",
    "\n",
    "Therefore, we have shown that\n",
    "\n",
    "\\begin{equation}\n",
    "\\left| \\mathbf{A} \\times \\mathbf{B} \\right|^2 =\n",
    "\\left| \\mathbf{A} \\right|^2 \\left| \\mathbf{B} \\right|^2 - (\\mathbf{A} \\cdot \\mathbf{B})^2\n",
    "\\end{equation}\n",
    "\n",
    "\n",
    "\n",
    "\n"
   ],
   "metadata": {
    "collapsed": false
   },
   "id": "25962b1e3a1b8a9b"
  },
  {
   "cell_type": "code",
   "outputs": [],
   "source": [],
   "metadata": {
    "collapsed": false
   },
   "id": "34d4d8d557cb07f7",
   "execution_count": null
  }
 ],
 "metadata": {
  "kernelspec": {
   "display_name": "Python 3",
   "language": "python",
   "name": "python3"
  },
  "language_info": {
   "codemirror_mode": {
    "name": "ipython",
    "version": 2
   },
   "file_extension": ".py",
   "mimetype": "text/x-python",
   "name": "python",
   "nbconvert_exporter": "python",
   "pygments_lexer": "ipython2",
   "version": "2.7.6"
  }
 },
 "nbformat": 4,
 "nbformat_minor": 5
}
