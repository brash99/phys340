{
 "cells": [
  {
   "cell_type": "markdown",
   "source": [
    "# Mass, Center of Mass, and Moment of Inertia of a Rod of Length L"
   ],
   "metadata": {
    "collapsed": false
   },
   "id": "2784745b41022103"
  },
  {
   "cell_type": "markdown",
   "source": [],
   "metadata": {
    "collapsed": false
   },
   "id": "b1b065a8edcf0037"
  },
  {
   "cell_type": "markdown",
   "source": [],
   "metadata": {
    "collapsed": false
   },
   "id": "e105968352220bfa"
  },
  {
   "cell_type": "markdown",
   "source": [],
   "metadata": {
    "collapsed": false
   },
   "id": "9d18a482a5187987"
  },
  {
   "cell_type": "markdown",
   "source": [],
   "metadata": {
    "collapsed": false
   },
   "id": "19baf72ed5921b82"
  },
  {
   "cell_type": "markdown",
   "source": [
    "## Density Function\n",
    "\n",
    "$$\\rho(x) = \\rho_0 \\left( 1 + \\frac{x^2}{a^2} \\right) $$\n",
    "\n",
    "## Calculation of Mass\n",
    "\n",
    "$$ M = \\int \\rho(x) dx $$\n",
    "\n",
    "$$ = \\int \\rho_0 \\left( 1 + \\frac{x^2}{a^2} \\right) dx $$\n",
    "\n",
    "$$ = \\rho_0 \\int 1 + \\frac{x^2}{a^2} dx $$\n",
    "\n",
    "$$ = \\rho_0 \\int 1 dx + \\rho_0 \\int \\frac{x^2}{a^2} dx $$\n",
    "\n",
    "$$ = \\rho_0 \\left[ x + \\frac{x^3}{3a^2} \\right]_{-a/2}^{a/2} $$\n",
    "\n",
    "$$ = \\rho_0 \\left[ \\frac{a}{2} + \\frac{a^3}{24a^2} \\right] - \\rho_0 \\left[ -\\frac{a}{2} - \\frac{a^3}{24a^2} \\right] $$\n",
    "\n",
    "$$ = \\rho_0 \\left[ a + \\frac{a}{12} \\right] $$\n",
    "\n",
    "$$ M = \\frac{13}{12} \\rho_0 a $$\n",
    "\n",
    "\n",
    "## Calculation of Moment of Inertia\n",
    "\n",
    "$$ I_{cm} = \\int x^2 \\rho(x) dx $$\n",
    "\n",
    "$$ = \\int x^2 \\rho_0 \\left( 1 + \\frac{x^2}{a^2} \\right) dx $$\n",
    "\n",
    "$$ = \\rho_0 \\int x^2 \\left( 1 + \\frac{x^2}{a^2} \\right) dx $$\n",
    "\n",
    "$$ = \\rho_0 \\int x^2 + \\frac{x^4}{a^2} dx $$\n",
    "\n",
    "$$ = \\rho_0 \\int x^2 dx + \\rho_0 \\int \\frac{x^4}{a^2} dx $$\n",
    "\n",
    "$$ = \\rho_0 \\left[ \\frac{x^3}{3} + \\frac{x^5}{5a^2} \\right]_{-a/2}^{a/2} $$\n",
    "\n",
    "$$ = \\rho_0 \\left[ \\frac{a^3}{24} + \\frac{a^5}{160a^2} \\right] - \\rho_0 \\left[ -\\frac{a^3}{24} - \\frac{a^5}{160a^2} \\right] $$\n",
    "\n",
    "$$ = \\rho_0 \\left[ \\frac{a^3}{12} + \\frac{a^3}{80} \\right] $$\n",
    "\n",
    "$$ = \\rho_0 \\left[ \\frac{20a^3}{240} + \\frac{3a^3}{240} \\right] $$\n",
    "\n",
    "$$ = \\rho_0 \\left[ \\frac{23a^3}{240} \\right] $$\n",
    "\n",
    "$$ \\frac{I}{M} = \\frac{\\rho_0 \\left[ \\frac{23a^3}{240} \\right]}{\\frac{13}{12} \\rho_0 a} $$\n",
    "\n",
    "$$ = \\frac{23a^3}{240} \\cdot \\frac{12}{13a} $$\n",
    "\n",
    "$$ = \\frac{23a^2}{260} $$\n",
    "\n",
    "$$ I = \\frac{23}{5} Ma^2 $$\n",
    "\n"
   ],
   "metadata": {
    "collapsed": false
   },
   "id": "8025eb7025ded6db"
  },
  {
   "cell_type": "markdown",
   "source": [],
   "metadata": {
    "collapsed": false
   },
   "id": "1d9abc598d0877f4"
  },
  {
   "cell_type": "code",
   "source": [],
   "metadata": {
    "collapsed": false,
    "ExecuteTime": {
     "end_time": "2025-02-26T23:17:32.365049Z",
     "start_time": "2025-02-26T23:17:32.363167Z"
    }
   },
   "id": "9d485012f53f8453",
   "outputs": [],
   "execution_count": null
  },
  {
   "cell_type": "code",
   "source": [],
   "metadata": {
    "collapsed": false,
    "ExecuteTime": {
     "end_time": "2025-02-26T23:17:32.368069Z",
     "start_time": "2025-02-26T23:17:32.366489Z"
    }
   },
   "id": "277405746e4ab9ea",
   "outputs": [],
   "execution_count": null
  }
 ],
 "metadata": {
  "kernelspec": {
   "display_name": "Python 3",
   "language": "python",
   "name": "python3"
  },
  "language_info": {
   "codemirror_mode": {
    "name": "ipython",
    "version": 2
   },
   "file_extension": ".py",
   "mimetype": "text/x-python",
   "name": "python",
   "nbconvert_exporter": "python",
   "pygments_lexer": "ipython2",
   "version": "2.7.6"
  }
 },
 "nbformat": 4,
 "nbformat_minor": 5
}
