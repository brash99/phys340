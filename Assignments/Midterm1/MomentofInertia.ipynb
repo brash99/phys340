{
 "cells": [
  {
   "cell_type": "markdown",
   "source": [
    "# Mass, Center of Mass, and Moment of Inertia of a Rod of Length L"
   ],
   "metadata": {
    "collapsed": false
   },
   "id": "2784745b41022103"
  },
  {
   "cell_type": "markdown",
   "source": [],
   "metadata": {
    "collapsed": false
   },
   "id": "b1b065a8edcf0037"
  },
  {
   "cell_type": "markdown",
   "source": [],
   "metadata": {
    "collapsed": false
   },
   "id": "e105968352220bfa"
  },
  {
   "cell_type": "markdown",
   "source": [],
   "metadata": {
    "collapsed": false
   },
   "id": "9d18a482a5187987"
  },
  {
   "cell_type": "markdown",
   "source": [],
   "metadata": {
    "collapsed": false
   },
   "id": "19baf72ed5921b82"
  },
  {
   "cell_type": "markdown",
   "source": [
    "## Density Function\n",
    "\n",
    "$$\\rho(x) = \\rho_0 \\left( 1 + \\frac{x^2}{a^2} \\right) $$\n",
    "\n",
    "## Calculation of Mass\n",
    "\n",
    "$$ M = \\int \\rho(x) dx $$\n",
    "\n",
    "$$ = \\int \\rho_0 \\left( 1 + \\frac{x^2}{a^2} \\right) dx $$\n",
    "\n",
    "$$ = \\rho_0 \\int 1 + \\frac{x^2}{a^2} dx $$\n",
    "\n",
    "$$ = \\rho_0 \\int 1 dx + \\rho_0 \\int \\frac{x^2}{a^2} dx $$\n",
    "\n",
    "$$ = \\rho_0 \\left[ x + \\frac{x^3}{3a^2} \\right]_0^a $$\n",
    "\n",
    "$$ = \\rho_0 \\left[ a + \\frac{a^3}{3a^2} \\right] - \\rho_0 \\left[ 0 + 0 \\right] $$\n",
    "\n",
    "$$ = \\rho_0 \\left[ a + \\frac{a}{3} \\right] $$\n",
    "\n",
    "$$ M = \\frac{4}{3} \\rho_0 a $$\n",
    "\n",
    "## Calculation of Center of Mass\n",
    "\n",
    "$$ x_{cm} = \\frac{\\int x \\rho(x) dx}{\\int \\rho(x) dx} $$\n",
    "$$ = \\frac{\\int x \\rho_0 \\left( 1 + \\frac{x^2}{a^2} \\right) dx}{\\int \\rho_0 \\left( 1 + \\frac{x^2}{a^2} \\right) dx} $$\n",
    "$$ = \\frac{\\rho_0 \\int x \\left( 1 + \\frac{x^2}{a^2} \\right) dx}{\\rho_0 \\int \\left( 1 + \\frac{x^2}{a^2} \\right) dx} $$\n",
    "$$ = \\frac{\\int x \\left( 1 + \\frac{x^2}{a^2} \\right) dx}{\\int \\left( 1 + \\frac{x^2}{a^2} \\right) dx} $$\n",
    "$$ = \\frac{\\int x + \\frac{x^3}{a^2} dx}{\\int 1 + \\frac{x^2}{a^2} dx} $$\n",
    "$$ = \\frac{\\left[ \\frac{x^2}{2} + \\frac{x^4}{4a^2} \\right]_0^a}{\\left[ x + \\frac{x^3}{3a^2} \\right]_0^a} $$\n",
    "\n",
    "$$ = \\frac{\\left[ \\frac{a^2}{2} + \\frac{a^4}{4a^2} \\right] - \\left[ \\frac{0^2}{2} + \\frac{0^4}{4a^2} \\right]}{\\left[ a + \\frac{a^3}{3a^2} \\right] - \\left[ 0 + \\frac{0^3}{3a^2} \\right]} $$\n",
    "\n",
    "$$ = \\frac{\\left[ \\frac{a^2}{2} + \\frac{a^2}{4} \\right] - \\left[ 0 + 0 \\right]}{\\left[ a + \\frac{a}{3} \\right] - \\left[ 0 + 0 \\right]} $$\n",
    "\n",
    "$$ = \\frac{\\left[ \\frac{3a^2}{4} \\right]}{\\left[ \\frac{4a}{3} \\right]} $$\n",
    "\n",
    "$$ = \\frac{3a^2}{4} \\cdot \\frac{3}{4a} $$\n",
    "\n",
    "$$ x_{cm} = \\frac{9a}{16} $$\n",
    "\n",
    "## Calculation of Moment of Inertia\n",
    "\n",
    "$$ I_{cm} = \\int x^2 \\rho(x) dx $$\n",
    "\n",
    "$$ = \\int x^2 \\rho_0 \\left( 1 + \\frac{x^2}{a^2} \\right) dx $$\n",
    "\n",
    "$$ = \\rho_0 \\int x^2 \\left( 1 + \\frac{x^2}{a^2} \\right) dx $$\n",
    "\n",
    "$$ = \\rho_0 \\int x^2 + \\frac{x^4}{a^2} dx $$\n",
    "\n",
    "$$ = \\rho_0 \\int x^2 dx + \\rho_0 \\int \\frac{x^4}{a^2} dx $$\n",
    "\n",
    "$$ = \\rho_0 \\left[ \\frac{x^3}{3} + \\frac{x^5}{5a^2} \\right]_0^a $$\n",
    "\n",
    "$$ = \\rho_0 \\left[ \\frac{a^3}{3} + \\frac{a^5}{5a^2} \\right] - \\rho_0 \\left[ \\frac{0^3}{3} + \\frac{0^5}{5a^2} \\right] $$\n",
    "\n",
    "$$ = \\rho_0 \\left[ \\frac{a^3}{3} + \\frac{a^3}{5} \\right] - \\rho_0 \\left[ 0 + 0 \\right] $$\n",
    "$$ = \\rho_0 \\left[ \\frac{5a^3}{15} + \\frac{3a^3}{15} \\right] $$\n",
    "\n",
    "$$ = \\rho_0 \\left[ \\frac{8a^3}{15} \\right] $$\n",
    "\n",
    "$$ \\frac{I}{M} = \\frac{\\rho_0 \\left[ \\frac{8a^3}{15} \\right]}{\\frac{4}{3} \\rho_0 a} $$\n",
    "\n",
    "$$ = \\frac{8a^3}{15} \\cdot \\frac{3}{4a} $$\n",
    "\n",
    "$$ = \\frac{2a^2}{5} $$\n",
    "\n",
    "$$ I = \\frac{2}{5} Ma^2 $$\n",
    "\n"
   ],
   "metadata": {
    "collapsed": false
   },
   "id": "8025eb7025ded6db"
  },
  {
   "cell_type": "markdown",
   "source": [],
   "metadata": {
    "collapsed": false
   },
   "id": "1d9abc598d0877f4"
  },
  {
   "cell_type": "code",
   "outputs": [],
   "source": [],
   "metadata": {
    "collapsed": false,
    "ExecuteTime": {
     "end_time": "2024-02-19T02:13:35.815662Z",
     "start_time": "2024-02-19T02:13:35.811403Z"
    }
   },
   "id": "9d485012f53f8453",
   "execution_count": 1
  },
  {
   "cell_type": "code",
   "outputs": [],
   "source": [],
   "metadata": {
    "collapsed": false
   },
   "id": "277405746e4ab9ea"
  }
 ],
 "metadata": {
  "kernelspec": {
   "display_name": "Python 3",
   "language": "python",
   "name": "python3"
  },
  "language_info": {
   "codemirror_mode": {
    "name": "ipython",
    "version": 2
   },
   "file_extension": ".py",
   "mimetype": "text/x-python",
   "name": "python",
   "nbconvert_exporter": "python",
   "pygments_lexer": "ipython2",
   "version": "2.7.6"
  }
 },
 "nbformat": 4,
 "nbformat_minor": 5
}
