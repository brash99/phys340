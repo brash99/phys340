{
 "cells": [
  {
   "cell_type": "markdown",
   "source": [
    "# Assignment 8 - Contour Integration\n",
    "\n",
    "Consider the following contour integral:\n",
    "\n",
    "$$\n",
    "\\int_{\\gamma} f(z) dz\n",
    "$$\n",
    "\n",
    "where $\\gamma$ is a contour in the complex plane and $f(z)$ is a complex-valued function of a complex variable.\n",
    "\n",
    "The idea is that we can parametrize the contour $\\gamma$ by a real variable $t$ and write the integral as a line integral:\n",
    "\n",
    "$$\n",
    "\\int_{\\gamma} f(z) dz = \\int_{a}^{b} f(\\gamma(t)) \\gamma'(t) dt\n",
    "$$\n",
    "\n",
    "where $\\gamma(t)$ is the parametrization of the contour and $\\gamma'(t)$ is the derivative of the parametrization."
   ],
   "metadata": {
    "collapsed": false
   },
   "id": "f8c5b2928d9f9a6f"
  },
  {
   "cell_type": "markdown",
   "source": [
    "## Problem 1\n",
    "\n",
    "Consider the contour integral:\n",
    "\n",
    "$$\n",
    "\\int_{\\gamma} (z+7) dz\n",
    "$$\n",
    "\n",
    "where $\\gamma$ is:\n",
    "\n",
    "$$\n",
    "x = 2t, \\quad y = 5t-1, \\quad 1 \\leq t \\leq 3\n",
    "$$\n",
    "\n",
    "We can write the function, $f(z)$, as:\n",
    "\n",
    "$$\n",
    "f(z) = z+7 = x+7 + iy = 2t+7 + i(5t-1)\n",
    "$$\n",
    "\n",
    "We can also write the parametrization of the contour as:\n",
    "\n",
    "$$\n",
    "\\gamma(t) = x + iy = 2t + i(5t-1)\n",
    "$$\n",
    "\n",
    "The derivative of the parametrization is:\n",
    "\n",
    "$$\n",
    "\\gamma'(t) = \\frac{d\\gamma}{dt} = 2 + 5i\n",
    "$$\n",
    "\n",
    "We can now write the integral as:\n",
    "\n",
    "$$\n",
    "\\int_{\\gamma} (z+7) dz = \\int_{1}^{3} (2t+7 + i(5t-1))(2 + 5i) dt\n",
    "$$"
   ],
   "metadata": {
    "collapsed": false
   },
   "id": "4e266fcf2c3659be"
  },
  {
   "cell_type": "code",
   "outputs": [
    {
     "data": {
      "text/plain": "-46 + 146*I",
      "text/latex": "$\\displaystyle -46 + 146 i$"
     },
     "execution_count": 1,
     "metadata": {},
     "output_type": "execute_result"
    }
   ],
   "source": [
    "import sympy as sym\n",
    "\n",
    "t = sym.symbols('t')\n",
    "f = (2*t+7 + sym.I*(5*t-1))*(2 + 5*sym.I)\n",
    "f = sym.expand(f)\n",
    "f = sym.integrate(f, (t, 1, 3))\n",
    "\n",
    "f"
   ],
   "metadata": {
    "collapsed": false,
    "ExecuteTime": {
     "end_time": "2024-03-25T14:14:46.166640Z",
     "start_time": "2024-03-25T14:14:45.714026Z"
    }
   },
   "id": "7a42b6e7f4a4d53b",
   "execution_count": 1
  },
  {
   "cell_type": "markdown",
   "source": [
    "## Problem 2\n",
    "\n",
    "Consider the contour integral:\n",
    "\n",
    "$$\n",
    "\\int_{\\gamma} (z^2) dz\n",
    "$$\n",
    "\n",
    "where $\\gamma$ is:\n",
    "\n",
    "$$\n",
    "x = 6t, \\quad y = 2t, \\quad -2 \\leq t \\leq 2\n",
    "$$\n",
    "\n",
    "We can write the function, $f(z)$, as:\n",
    "\n",
    "$$\n",
    "f(z) = z^2 = (x+iy)^2 = (6t + i2t)^2\n",
    "$$\n",
    "\n",
    "We can also write the parametrization of the contour as:\n",
    "\n",
    "$$\n",
    "\\gamma(t) = x + iy = 6t + i2t\n",
    "$$\n",
    "\n",
    "The derivative of the parametrization is:\n",
    "\n",
    "$$\n",
    "\\gamma'(t) = \\frac{d\\gamma}{dt} = 6 + 2i\n",
    "$$\n",
    "\n",
    "We can now write the integral as:\n",
    "\n",
    "$$\n",
    "\\int_{\\gamma} (z^2) dz = \\int_{-2}^{2} (6t + i2t)^2(6 + 2i) dt\n",
    "$$\n",
    "\n"
   ],
   "metadata": {
    "collapsed": false
   },
   "id": "4e6fa8972b06502b"
  },
  {
   "cell_type": "code",
   "outputs": [
    {
     "data": {
      "text/plain": "768 + 3328*I/3",
      "text/latex": "$\\displaystyle 768 + \\frac{3328 i}{3}$"
     },
     "execution_count": 2,
     "metadata": {},
     "output_type": "execute_result"
    }
   ],
   "source": [
    "t = sym.symbols('t')\n",
    "f = (6*t + sym.I*2*t)**2*(6 + 2*sym.I)\n",
    "f = sym.expand(f)\n",
    "f = sym.integrate(f, (t, -2, 2))\n",
    "\n",
    "f"
   ],
   "metadata": {
    "collapsed": false,
    "ExecuteTime": {
     "end_time": "2024-03-25T14:14:46.182723Z",
     "start_time": "2024-03-25T14:14:46.171094Z"
    }
   },
   "id": "48a32414b077719f",
   "execution_count": 2
  },
  {
   "cell_type": "markdown",
   "source": [
    "## Contour integration around a circle\n",
    "\n",
    "Consider the contour integral:\n",
    "\n",
    "$$\n",
    "\\int_{\\gamma} \\frac{1}{z} dz\n",
    "$$\n",
    "\n",
    "where $\\gamma$ is the circle, $|z| = 1$.\n",
    "\n",
    "We can write the function, $f(z)$, as:\n",
    "\n",
    "$$\n",
    "f(z) = \\frac{1}{z} = \\frac{1}{x+iy}\n",
    "$$\n",
    "\n",
    "We can also write the parametrization of the contour as:\n",
    "\n",
    "$$\n",
    "\\gamma(t) = x + iy = \\cos(t) + i\\sin(t) \\quad 0 \\leq t \\leq 2\\pi\n",
    "$$\n",
    "\n",
    "The derivative of the parametrization is:\n",
    "\n",
    "$$\n",
    "\\gamma'(t) = \\frac{d\\gamma}{dt} = -\\sin(t) + i\\cos(t)\n",
    "$$\n",
    "\n",
    "We can now write the integral as:\n",
    "\n",
    "$$\n",
    "\\int_{\\gamma} \\frac{1}{z} dz = \\int_{0}^{2\\pi} \\frac{1}{\\cos(t)+i\\sin(t)} (-\\sin(t) + i\\cos(t)) dt\n",
    "$$\n",
    "\n",
    "$$ = \\int_{0}^{2\\pi} i \\frac{i \\sin(t) + \\cos(t)}{\\cos(t) + \\i\\sin(t)} dt\n",
    "$$\n",
    "\n",
    "$$ = \\int_{0}^{2\\pi} i dt = 2\\pi i $$\n",
    "\n",
    "Therefore, we have that:\n",
    "\n",
    "$$\n",
    "\\int_{\\gamma} \\frac{1}{z} dz = 2 \\pi i\n",
    "$$\n",
    "\n",
    "This is a special case of the Cauchy Integral Formula, which states that if $f(z)$ is analytic inside and on a simple closed contour $\\gamma$, then:\n",
    "\n",
    "$$\n",
    "f(a) = \\frac{1}{2\\pi i} \\int_{\\gamma} \\frac{f(z)}{z-a} dz\n",
    "$$\n",
    "\n",
    "where $a$ is a point inside the contour $\\gamma$.\n",
    "\n",
    "A really interesting result is that the integral of $1/z$ around a circle is $2\\pi i$, but also that the integral of $1/z^n$ around a circle is $0$, for $any$ power of $n$ other than 1!\n"
   ],
   "metadata": {
    "collapsed": false
   },
   "id": "bfb9ad3f16e231ec"
  },
  {
   "cell_type": "code",
   "outputs": [
    {
     "data": {
      "text/plain": "2*I*pi",
      "text/latex": "$\\displaystyle 2 i \\pi$"
     },
     "execution_count": 3,
     "metadata": {},
     "output_type": "execute_result"
    }
   ],
   "source": [
    "t = sym.symbols('t')\n",
    "f = (1/(sym.cos(t)+sym.I*sym.sin(t)))*(-sym.sin(t) + sym.I*sym.cos(t))\n",
    "f = sym.expand(f)\n",
    "f = sym.integrate(f, (t, 0, 2*sym.pi))\n",
    "\n",
    "f"
   ],
   "metadata": {
    "collapsed": false,
    "ExecuteTime": {
     "end_time": "2024-03-25T14:14:46.204895Z",
     "start_time": "2024-03-25T14:14:46.181652Z"
    }
   },
   "id": "b5a541730bb2f26",
   "execution_count": 3
  },
  {
   "cell_type": "markdown",
   "source": [
    "## Problem 3\n",
    "\n",
    "Consider the contour integral:\n",
    "\n",
    "$$\n",
    "\\int_{\\gamma} \\left( \\frac{1}{(z+i)^3} - \\frac{2}{z+i} + 6 \\right) dz\n",
    "$$\n",
    "\n",
    "where $\\gamma$ is the circle, $|z+i| = 1$.\n",
    "\n",
    "As  a first step, we can make a change of variables, $w = z+i$, so that $z = w-i$. Then, $dz = dw$ and the integral becomes:\n",
    "\n",
    "$$\n",
    "\\int_{\\gamma^\\prime} \\left( \\frac{1}{w^3} - \\frac{2}{w} + 6 \\right) dw\n",
    "\n",
    "$$\n",
    "\n",
    "where $\\gamma^\\prime$ is the circle, $|w| = 1$.\n",
    "\n",
    "We can now use the previous result to show easily that only the second term contributes to the integral:\n",
    "\n",
    "$$\n",
    "\\int_{\\gamma^\\prime} \\left( \\frac{1}{w^3} - \\frac{2}{w} + 6 \\right) dw = -4 \\pi i\n",
    "$$\n"
   ],
   "metadata": {
    "collapsed": false
   },
   "id": "5f1d0c60ab1eb275"
  },
  {
   "cell_type": "code",
   "outputs": [
    {
     "data": {
      "text/plain": "-4*I*pi",
      "text/latex": "$\\displaystyle - 4 i \\pi$"
     },
     "execution_count": 4,
     "metadata": {},
     "output_type": "execute_result"
    }
   ],
   "source": [
    "t = sym.symbols('t')\n",
    "f = (1/(sym.cos(t)+sym.I*sym.sin(t))**3 - 2/(sym.cos(t)+sym.I*sym.sin(t)) + 6)*(-sym.sin(t) + sym.I*sym.cos(t))\n",
    "f = sym.expand(f)\n",
    "f = sym.integrate(f, (t, 0, 2*sym.pi))\n",
    "\n",
    "f"
   ],
   "metadata": {
    "collapsed": false,
    "ExecuteTime": {
     "end_time": "2024-03-25T14:14:46.481613Z",
     "start_time": "2024-03-25T14:14:46.392165Z"
    }
   },
   "id": "e7b3a28e762d3d0b",
   "execution_count": 4
  },
  {
   "cell_type": "markdown",
   "source": [
    "## Problem 4\n",
    "\n",
    "Consider the contour integral:\n",
    "\n",
    "$$\n",
    "\\int_{\\gamma} (x^3 - i y^3) dz\n",
    "$$\n",
    "\n",
    "where $\\gamma$ is the lower half of the circle, $|z| = 1$.\n",
    "\n",
    "We can write the function, $\\gamma(t)$ as:\n",
    "\n",
    "$$\n",
    "\\gamma(t) = \\cos(t) + i\\sin(t) \\quad pi \\leq t \\leq 2\\pi\n",
    "$$\n",
    "\n",
    "The derivative of the parametrization is:\n",
    "\n",
    "$$\n",
    "\\gamma'(t) = \\frac{d\\gamma}{dt} = -\\sin(t) + i\\cos(t)\n",
    "$$\n",
    "\n",
    "We can now write the integral as:\n",
    "\n",
    "$$\n",
    "\\int_{\\gamma} (x^3 - i y^3) dz = \\int_{\\pi}^{2\\pi} (\\cos^3(t) - i\\sin^3(t))(-\\sin(t) + i\\cos(t)) dt\n",
    "$$"
   ],
   "metadata": {
    "collapsed": false
   },
   "id": "d0eebc21372bd025"
  },
  {
   "cell_type": "code",
   "outputs": [
    {
     "data": {
      "text/plain": "3*I*pi/4",
      "text/latex": "$\\displaystyle \\frac{3 i \\pi}{4}$"
     },
     "execution_count": 5,
     "metadata": {},
     "output_type": "execute_result"
    }
   ],
   "source": [
    "t = sym.symbols('t')\n",
    "f = (sym.cos(t)**3 - sym.I*sym.sin(t)**3)*(-sym.sin(t) + sym.I*sym.cos(t))\n",
    "f = sym.expand(f)\n",
    "f = sym.integrate(f, (t, sym.pi, 2*sym.pi))\n",
    "\n",
    "f"
   ],
   "metadata": {
    "collapsed": false,
    "ExecuteTime": {
     "end_time": "2024-03-25T14:14:47.741941Z",
     "start_time": "2024-03-25T14:14:47.696461Z"
    }
   },
   "id": "ba656b393a9ba78e",
   "execution_count": 5
  },
  {
   "cell_type": "code",
   "outputs": [],
   "source": [],
   "metadata": {
    "collapsed": false
   },
   "id": "8e4ffe044eb7b571"
  }
 ],
 "metadata": {
  "kernelspec": {
   "display_name": "Python 3",
   "language": "python",
   "name": "python3"
  },
  "language_info": {
   "codemirror_mode": {
    "name": "ipython",
    "version": 2
   },
   "file_extension": ".py",
   "mimetype": "text/x-python",
   "name": "python",
   "nbconvert_exporter": "python",
   "pygments_lexer": "ipython2",
   "version": "2.7.6"
  }
 },
 "nbformat": 4,
 "nbformat_minor": 5
}
