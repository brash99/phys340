{
 "cells": [
  {
   "cell_type": "markdown",
   "source": [
    "# Problem 1:\n",
    "\n",
    "Suppose that there are two complex numbers, $z_1 = x_1 + i y_1$ and $z_2 = x_2 + i y_2$, such that their product, $z_1 z_2$ is purely real and non-zero.\n",
    "\n",
    "Show that there exists a real number, $r$, such that $z_1 = r z_2^*$, and find the value of $r$ in terms of the real and imaginary components of $z_1$ and $z_2$."
   ],
   "metadata": {
    "collapsed": false
   },
   "id": "d2a4e7eb46ead843"
  },
  {
   "cell_type": "code",
   "outputs": [
    {
     "name": "stdout",
     "output_type": "stream",
     "text": [
      "product_real: \n",
      "x₁⋅x₂ - y₁⋅y₂\n",
      "\n",
      "product_imag: \n",
      "1.0⋅x₁⋅y₂ + 1.0⋅x₂⋅y₁\n",
      "\n",
      "quotient_real: \n",
      "x₁⋅x₂ - y₁⋅y₂\n",
      "─────────────\n",
      "  2         2\n",
      "x₂  + 1.0⋅y₂ \n",
      "\n",
      "quotient_imag: \n",
      "1.0⋅(x₁⋅y₂ + x₂⋅y₁)\n",
      "───────────────────\n",
      "       2     2     \n",
      "     x₂  + y₂      \n"
     ]
    }
   ],
   "source": [
    "import sympy as sym\n",
    "\n",
    "x1, y1, x2, y2, r = sym.symbols('x1 y1 x2 y2 r', real=True)\n",
    "\n",
    "z1 = x1 + y1 * 1j\n",
    "z2 = x2 + y2 * 1j\n",
    "\n",
    "product = z1*z2.simplify()\n",
    "\n",
    "product_real = sym.re(product)\n",
    "product_imag = sym.im(product)\n",
    "\n",
    "print(\"product_real: \")\n",
    "sym.pprint(product_real.simplify())\n",
    "print()\n",
    "print(\"product_imag: \")\n",
    "sym.pprint(product_imag.simplify())\n",
    "print()\n",
    "\n",
    "z2_conj = z2.conjugate()\n",
    "quotient = z1/z2_conj.simplify()\n",
    "\n",
    "quotient_real = sym.re(quotient)\n",
    "quotient_imag = sym.im(quotient)\n",
    "\n",
    "print(\"quotient_real: \")\n",
    "sym.pprint(quotient_real.simplify())\n",
    "print()\n",
    "print(\"quotient_imag: \")\n",
    "sym.pprint(quotient_imag.simplify())\n",
    "print()"
   ],
   "metadata": {
    "collapsed": false,
    "ExecuteTime": {
     "end_time": "2024-03-21T00:22:18.977690Z",
     "start_time": "2024-03-21T00:22:18.912530Z"
    }
   },
   "id": "1096f88e546849e5",
   "execution_count": 15
  },
  {
   "cell_type": "code",
   "outputs": [],
   "source": [],
   "metadata": {
    "collapsed": false
   },
   "id": "e0a343edacb881f8"
  }
 ],
 "metadata": {
  "kernelspec": {
   "display_name": "Python 3",
   "language": "python",
   "name": "python3"
  },
  "language_info": {
   "codemirror_mode": {
    "name": "ipython",
    "version": 2
   },
   "file_extension": ".py",
   "mimetype": "text/x-python",
   "name": "python",
   "nbconvert_exporter": "python",
   "pygments_lexer": "ipython2",
   "version": "2.7.6"
  }
 },
 "nbformat": 4,
 "nbformat_minor": 5
}
